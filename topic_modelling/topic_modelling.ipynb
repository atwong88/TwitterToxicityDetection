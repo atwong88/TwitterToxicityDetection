{
 "cells": [
  {
   "cell_type": "code",
   "execution_count": 56,
   "metadata": {},
   "outputs": [],
   "source": [
    "import pandas as pd\n",
    "import numpy as np\n",
    "import ast \n",
    "\n",
    "import nltk\n",
    "from nltk import word_tokenize, download\n",
    "from nltk.corpus import stopwords\n",
    "\n",
    "from gensim import models\n",
    "from gensim.corpora import Dictionary, MmCorpus\n",
    "\n",
    "import pickle"
   ]
  },
  {
   "cell_type": "code",
   "execution_count": 57,
   "metadata": {},
   "outputs": [
    {
     "name": "stderr",
     "output_type": "stream",
     "text": [
      "[nltk_data] Downloading package stopwords to\n",
      "[nltk_data]     /Users/adrienawong/nltk_data...\n",
      "[nltk_data]   Package stopwords is already up-to-date!\n",
      "[nltk_data] Downloading package punkt to\n",
      "[nltk_data]     /Users/adrienawong/nltk_data...\n",
      "[nltk_data]   Package punkt is already up-to-date!\n"
     ]
    }
   ],
   "source": [
    "nltk.download('stopwords')\n",
    "nltk.download('punkt')\n",
    "stop_words = stopwords.words('english')"
   ]
  },
  {
   "cell_type": "code",
   "execution_count": 58,
   "metadata": {},
   "outputs": [],
   "source": [
    "def nltk_stopwords():\n",
    "    return set(nltk.corpus.stopwords.words('english'))"
   ]
  },
  {
   "cell_type": "code",
   "execution_count": 59,
   "metadata": {},
   "outputs": [],
   "source": [
    "def prep_corpus(docs, additional_stopwords=set(), no_below=1, no_above=0.5):\n",
    "    print('Building dictionary...')\n",
    "    dictionary = Dictionary(docs)\n",
    "    stopwords = nltk_stopwords().union(additional_stopwords)\n",
    "    stopword_ids = map(dictionary.token2id.get, stopwords)\n",
    "    dictionary.filter_tokens(stopword_ids)\n",
    "    dictionary.compactify()\n",
    "    dictionary.filter_extremes(no_below=no_below, no_above=no_above, keep_n=None)\n",
    "    dictionary.compactify()\n",
    "\n",
    "    print('Building corpus...')\n",
    "    corpus = [dictionary.doc2bow(doc) for doc in docs]\n",
    "    return dictionary, corpus"
   ]
  },
  {
   "cell_type": "code",
   "execution_count": 60,
   "metadata": {},
   "outputs": [],
   "source": [
    "num_topics = 10"
   ]
  },
  {
   "cell_type": "markdown",
   "metadata": {},
   "source": [
    "### With the Kaggle dataset"
   ]
  },
  {
   "cell_type": "code",
   "execution_count": 61,
   "metadata": {},
   "outputs": [
    {
     "data": {
      "text/html": [
       "<div>\n",
       "<style scoped>\n",
       "    .dataframe tbody tr th:only-of-type {\n",
       "        vertical-align: middle;\n",
       "    }\n",
       "\n",
       "    .dataframe tbody tr th {\n",
       "        vertical-align: top;\n",
       "    }\n",
       "\n",
       "    .dataframe thead th {\n",
       "        text-align: right;\n",
       "    }\n",
       "</style>\n",
       "<table border=\"1\" class=\"dataframe\">\n",
       "  <thead>\n",
       "    <tr style=\"text-align: right;\">\n",
       "      <th></th>\n",
       "      <th>id</th>\n",
       "      <th>comment_text</th>\n",
       "      <th>toxic</th>\n",
       "      <th>severe_toxic</th>\n",
       "      <th>obscene</th>\n",
       "      <th>threat</th>\n",
       "      <th>insult</th>\n",
       "      <th>identity_hate</th>\n",
       "    </tr>\n",
       "  </thead>\n",
       "  <tbody>\n",
       "    <tr>\n",
       "      <th>0</th>\n",
       "      <td>0000997932d777bf</td>\n",
       "      <td>Explanation\\nWhy the edits made under my usern...</td>\n",
       "      <td>0</td>\n",
       "      <td>0</td>\n",
       "      <td>0</td>\n",
       "      <td>0</td>\n",
       "      <td>0</td>\n",
       "      <td>0</td>\n",
       "    </tr>\n",
       "    <tr>\n",
       "      <th>1</th>\n",
       "      <td>000103f0d9cfb60f</td>\n",
       "      <td>D'aww! He matches this background colour I'm s...</td>\n",
       "      <td>0</td>\n",
       "      <td>0</td>\n",
       "      <td>0</td>\n",
       "      <td>0</td>\n",
       "      <td>0</td>\n",
       "      <td>0</td>\n",
       "    </tr>\n",
       "    <tr>\n",
       "      <th>2</th>\n",
       "      <td>000113f07ec002fd</td>\n",
       "      <td>Hey man, I'm really not trying to edit war. It...</td>\n",
       "      <td>0</td>\n",
       "      <td>0</td>\n",
       "      <td>0</td>\n",
       "      <td>0</td>\n",
       "      <td>0</td>\n",
       "      <td>0</td>\n",
       "    </tr>\n",
       "    <tr>\n",
       "      <th>3</th>\n",
       "      <td>0001b41b1c6bb37e</td>\n",
       "      <td>\"\\nMore\\nI can't make any real suggestions on ...</td>\n",
       "      <td>0</td>\n",
       "      <td>0</td>\n",
       "      <td>0</td>\n",
       "      <td>0</td>\n",
       "      <td>0</td>\n",
       "      <td>0</td>\n",
       "    </tr>\n",
       "    <tr>\n",
       "      <th>4</th>\n",
       "      <td>0001d958c54c6e35</td>\n",
       "      <td>You, sir, are my hero. Any chance you remember...</td>\n",
       "      <td>0</td>\n",
       "      <td>0</td>\n",
       "      <td>0</td>\n",
       "      <td>0</td>\n",
       "      <td>0</td>\n",
       "      <td>0</td>\n",
       "    </tr>\n",
       "  </tbody>\n",
       "</table>\n",
       "</div>"
      ],
      "text/plain": [
       "                 id                                       comment_text  toxic  \\\n",
       "0  0000997932d777bf  Explanation\\nWhy the edits made under my usern...      0   \n",
       "1  000103f0d9cfb60f  D'aww! He matches this background colour I'm s...      0   \n",
       "2  000113f07ec002fd  Hey man, I'm really not trying to edit war. It...      0   \n",
       "3  0001b41b1c6bb37e  \"\\nMore\\nI can't make any real suggestions on ...      0   \n",
       "4  0001d958c54c6e35  You, sir, are my hero. Any chance you remember...      0   \n",
       "\n",
       "   severe_toxic  obscene  threat  insult  identity_hate  \n",
       "0             0        0       0       0              0  \n",
       "1             0        0       0       0              0  \n",
       "2             0        0       0       0              0  \n",
       "3             0        0       0       0              0  \n",
       "4             0        0       0       0              0  "
      ]
     },
     "execution_count": 61,
     "metadata": {},
     "output_type": "execute_result"
    }
   ],
   "source": [
    "df = pd.read_csv('../data/train.csv')\n",
    "df.head()"
   ]
  },
  {
   "cell_type": "code",
   "execution_count": 62,
   "metadata": {},
   "outputs": [],
   "source": [
    "def preprocess_wiki(comment):\n",
    "    comment = word_tokenize(comment)  # Split into words.\n",
    "    for c in comment:\n",
    "        if '\\n' in c:\n",
    "            c = c.replace('\\n', '')\n",
    "    comment = [w for w in comment if not w in stop_words]  # Remove stopwords.\n",
    "    comment = [w for w in comment if w.isalpha()]  # Remove numbers and punctuation.\n",
    "    return comment"
   ]
  },
  {
   "cell_type": "code",
   "execution_count": 63,
   "metadata": {},
   "outputs": [
    {
     "data": {
      "text/plain": [
       "0         [explanation, edits, made, username, hardcore,...\n",
       "1         [matches, background, colour, seemingly, stuck...\n",
       "2         [hey, man, really, trying, edit, war, guy, con...\n",
       "3         [ca, make, real, suggestions, improvement, won...\n",
       "4                       [sir, hero, chance, remember, page]\n",
       "                                ...                        \n",
       "159566    [second, time, asking, view, completely, contr...\n",
       "159567          [ashamed, horrible, thing, put, talk, page]\n",
       "159568    [spitzer, umm, theres, actual, article, prosti...\n",
       "159569    [looks, like, actually, put, speedy, first, ve...\n",
       "159570    [really, think, understand, came, idea, bad, r...\n",
       "Name: text_tokens, Length: 159571, dtype: object"
      ]
     },
     "execution_count": 63,
     "metadata": {},
     "output_type": "execute_result"
    }
   ],
   "source": [
    "df['comment_text'] = df['comment_text'].fillna('fillna').str.lower()\n",
    "df['text_tokens'] = df['comment_text'].apply(preprocess_wiki)\n",
    "df['text_tokens']"
   ]
  },
  {
   "cell_type": "code",
   "execution_count": 64,
   "metadata": {},
   "outputs": [
    {
     "name": "stdout",
     "output_type": "stream",
     "text": [
      "Building dictionary...\n",
      "Building corpus...\n"
     ]
    }
   ],
   "source": [
    "dictionary_wiki, corpus_wiki = prep_corpus(df['text_tokens'])\n",
    "lda_wiki = models.ldamodel.LdaModel(corpus=corpus_wiki, id2word=dictionary_wiki, num_topics=num_topics, passes=50)"
   ]
  },
  {
   "cell_type": "code",
   "execution_count": 65,
   "metadata": {},
   "outputs": [],
   "source": [
    "file = open('lda_wiki.pkl', 'wb')\n",
    "pickle.dump(lda_wiki, file)\n",
    "file.close()\n",
    "\n",
    "file = open('dictionary_wiki.pkl', 'wb')\n",
    "pickle.dump(dictionary_wiki, file)\n",
    "file.close()"
   ]
  },
  {
   "cell_type": "code",
   "execution_count": 66,
   "metadata": {},
   "outputs": [],
   "source": [
    "# Reading dictionary and model files:\n",
    "\n",
    "# with open('lda_wiki.pkl', 'rb') as f:\n",
    "#     lda_wiki = pickle.load(f)\n",
    "# with open('dictionary_wiki.pkl', 'rb') as f:\n",
    "#     dictionary_wiki = pickle.load(f)"
   ]
  },
  {
   "cell_type": "code",
   "execution_count": 67,
   "metadata": {},
   "outputs": [],
   "source": [
    "mm = [dictionary_wiki.doc2bow(text) for text in df['text_tokens']]\n",
    "topics = pd.DataFrame(dict(lda_wiki[x]) for x in mm)\n",
    "df['topics'] = topics.values.tolist()"
   ]
  },
  {
   "cell_type": "code",
   "execution_count": 68,
   "metadata": {},
   "outputs": [
    {
     "name": "stdout",
     "output_type": "stream",
     "text": [
      "Writing to CSV\n"
     ]
    }
   ],
   "source": [
    "#Write to CSV\n",
    "print('Writing to CSV')\n",
    "df.to_csv(\"topic_modelling_wiki.csv\")"
   ]
  },
  {
   "cell_type": "code",
   "execution_count": 69,
   "metadata": {},
   "outputs": [
    {
     "data": {
      "text/plain": [
       "[(0,\n",
       "  [('name', 0.009151527),\n",
       "   ('english', 0.00789941),\n",
       "   ('also', 0.007651099),\n",
       "   ('used', 0.0076259878),\n",
       "   ('people', 0.0065378677),\n",
       "   ('use', 0.006420261),\n",
       "   ('term', 0.0064027687),\n",
       "   ('one', 0.0062033497),\n",
       "   ('language', 0.0056375144),\n",
       "   ('war', 0.0054206587)]),\n",
       " (1,\n",
       "  [('http', 0.0132758375),\n",
       "   ('school', 0.006162523),\n",
       "   ('book', 0.005963821),\n",
       "   ('new', 0.005795462),\n",
       "   ('years', 0.0050813383),\n",
       "   ('also', 0.0048469934),\n",
       "   ('film', 0.003999251),\n",
       "   ('john', 0.0037370434),\n",
       "   ('world', 0.0036332747),\n",
       "   ('news', 0.003561841)]),\n",
       " (2,\n",
       "  [('like', 0.014658994),\n",
       "   ('know', 0.0127532985),\n",
       "   ('would', 0.011814861),\n",
       "   ('one', 0.011259656),\n",
       "   ('think', 0.010837668),\n",
       "   ('get', 0.009209723),\n",
       "   ('time', 0.009128412),\n",
       "   ('people', 0.009063477),\n",
       "   ('article', 0.007329005),\n",
       "   ('good', 0.0072916797)]),\n",
       " (3,\n",
       "  [('article', 0.038958684),\n",
       "   ('deletion', 0.03063705),\n",
       "   ('image', 0.028583795),\n",
       "   ('page', 0.026997186),\n",
       "   ('wikipedia', 0.024237618),\n",
       "   ('please', 0.02270613),\n",
       "   ('deleted', 0.022603149),\n",
       "   ('use', 0.019982573),\n",
       "   ('may', 0.016709577),\n",
       "   ('tag', 0.013573984)]),\n",
       " (4,\n",
       "  [('fuck', 0.07036042),\n",
       "   ('hi', 0.034632128),\n",
       "   ('faggot', 0.031194389),\n",
       "   ('fucking', 0.028360685),\n",
       "   ('go', 0.024266468),\n",
       "   ('huge', 0.023839112),\n",
       "   ('shit', 0.021983948),\n",
       "   ('stupid', 0.019199686),\n",
       "   ('dog', 0.01798173),\n",
       "   ('hey', 0.01442062)]),\n",
       " (5,\n",
       "  [('lol', 0.06296723),\n",
       "   ('fat', 0.034635272),\n",
       "   ('hate', 0.033185612),\n",
       "   ('u', 0.027243253),\n",
       "   ('suck', 0.023710543),\n",
       "   ('nigger', 0.022709772),\n",
       "   ('gay', 0.017106898),\n",
       "   ('love', 0.01641232),\n",
       "   ('sucks', 0.015983459),\n",
       "   ('dont', 0.01517329)]),\n",
       " (6,\n",
       "  [('utc', 0.039803762),\n",
       "   ('game', 0.012381897),\n",
       "   ('added', 0.010860775),\n",
       "   ('music', 0.01052531),\n",
       "   ('list', 0.009712547),\n",
       "   ('video', 0.0090863155),\n",
       "   ('july', 0.007848875),\n",
       "   ('team', 0.007191901),\n",
       "   ('august', 0.00677383),\n",
       "   ('band', 0.006659933)]),\n",
       " (7,\n",
       "  [('page', 0.04608201),\n",
       "   ('please', 0.03930212),\n",
       "   ('talk', 0.037619416),\n",
       "   ('edit', 0.034128256),\n",
       "   ('user', 0.030505138),\n",
       "   ('wikipedia', 0.02706759),\n",
       "   ('edits', 0.021091562),\n",
       "   ('blocked', 0.017808193),\n",
       "   ('editing', 0.015674435),\n",
       "   ('stop', 0.015118437)]),\n",
       " (8,\n",
       "  [('wikipedia', 0.061663408),\n",
       "   ('page', 0.030740611),\n",
       "   ('talk', 0.030629942),\n",
       "   ('help', 0.023891939),\n",
       "   ('pages', 0.018125538),\n",
       "   ('welcome', 0.016830998),\n",
       "   ('please', 0.016018555),\n",
       "   ('links', 0.013879318),\n",
       "   ('articles', 0.012786764),\n",
       "   ('name', 0.012717766)]),\n",
       " (9,\n",
       "  [('article', 0.027633157),\n",
       "   ('sources', 0.010348832),\n",
       "   ('wp', 0.009839826),\n",
       "   ('source', 0.009527895),\n",
       "   ('wikipedia', 0.00824775),\n",
       "   ('section', 0.007229665),\n",
       "   ('one', 0.006727205),\n",
       "   ('would', 0.006670799),\n",
       "   ('also', 0.006297688),\n",
       "   ('information', 0.0059748082)])]"
      ]
     },
     "execution_count": 69,
     "metadata": {},
     "output_type": "execute_result"
    }
   ],
   "source": [
    "lda_wiki.show_topics(formatted=False)"
   ]
  },
  {
   "cell_type": "markdown",
   "metadata": {},
   "source": [
    "### With the Twitter dataset"
   ]
  },
  {
   "cell_type": "code",
   "execution_count": 70,
   "metadata": {},
   "outputs": [
    {
     "data": {
      "text/html": [
       "<div>\n",
       "<style scoped>\n",
       "    .dataframe tbody tr th:only-of-type {\n",
       "        vertical-align: middle;\n",
       "    }\n",
       "\n",
       "    .dataframe tbody tr th {\n",
       "        vertical-align: top;\n",
       "    }\n",
       "\n",
       "    .dataframe thead th {\n",
       "        text-align: right;\n",
       "    }\n",
       "</style>\n",
       "<table border=\"1\" class=\"dataframe\">\n",
       "  <thead>\n",
       "    <tr style=\"text-align: right;\">\n",
       "      <th></th>\n",
       "      <th>Unnamed: 0</th>\n",
       "      <th>TweetID</th>\n",
       "      <th>UserName</th>\n",
       "      <th>TweetText</th>\n",
       "      <th>TweetDateTime</th>\n",
       "      <th>Followers</th>\n",
       "      <th>UserID</th>\n",
       "      <th>WasDeleted</th>\n",
       "    </tr>\n",
       "  </thead>\n",
       "  <tbody>\n",
       "    <tr>\n",
       "      <th>0</th>\n",
       "      <td>0</td>\n",
       "      <td>1244721273793646594</td>\n",
       "      <td>ShannePanne</td>\n",
       "      <td>b'Rhoa'</td>\n",
       "      <td>2020-03-30 20:20:52</td>\n",
       "      <td>287</td>\n",
       "      <td>990004076829200385</td>\n",
       "      <td>0</td>\n",
       "    </tr>\n",
       "    <tr>\n",
       "      <th>1</th>\n",
       "      <td>1</td>\n",
       "      <td>1244721275232301058</td>\n",
       "      <td>25_ShadesOfK</td>\n",
       "      <td>b'@HisTemp_TAYtion Lol I learned from that shi...</td>\n",
       "      <td>2020-03-30 20:20:52</td>\n",
       "      <td>1189</td>\n",
       "      <td>624244930</td>\n",
       "      <td>0</td>\n",
       "    </tr>\n",
       "    <tr>\n",
       "      <th>2</th>\n",
       "      <td>2</td>\n",
       "      <td>1244721275936878593</td>\n",
       "      <td>PlagueJesterSky</td>\n",
       "      <td>b'Trying to set up the stream and I keep getti...</td>\n",
       "      <td>2020-03-30 20:20:52</td>\n",
       "      <td>415</td>\n",
       "      <td>755613447702847488</td>\n",
       "      <td>0</td>\n",
       "    </tr>\n",
       "    <tr>\n",
       "      <th>3</th>\n",
       "      <td>3</td>\n",
       "      <td>1244721278650650624</td>\n",
       "      <td>spitbull1963</td>\n",
       "      <td>b'@EricksonReal @Ilhan And you can test as muc...</td>\n",
       "      <td>2020-03-30 20:20:53</td>\n",
       "      <td>16</td>\n",
       "      <td>47425986</td>\n",
       "      <td>0</td>\n",
       "    </tr>\n",
       "    <tr>\n",
       "      <th>4</th>\n",
       "      <td>4</td>\n",
       "      <td>1244721278931664896</td>\n",
       "      <td>kamanfrancis</td>\n",
       "      <td>b'Me taking notes for the future when I\\xe2\\x8...</td>\n",
       "      <td>2020-03-30 20:20:53</td>\n",
       "      <td>1928</td>\n",
       "      <td>269295980</td>\n",
       "      <td>0</td>\n",
       "    </tr>\n",
       "  </tbody>\n",
       "</table>\n",
       "</div>"
      ],
      "text/plain": [
       "   Unnamed: 0              TweetID         UserName  \\\n",
       "0           0  1244721273793646594      ShannePanne   \n",
       "1           1  1244721275232301058     25_ShadesOfK   \n",
       "2           2  1244721275936878593  PlagueJesterSky   \n",
       "3           3  1244721278650650624     spitbull1963   \n",
       "4           4  1244721278931664896     kamanfrancis   \n",
       "\n",
       "                                           TweetText        TweetDateTime  \\\n",
       "0                                            b'Rhoa'  2020-03-30 20:20:52   \n",
       "1  b'@HisTemp_TAYtion Lol I learned from that shi...  2020-03-30 20:20:52   \n",
       "2  b'Trying to set up the stream and I keep getti...  2020-03-30 20:20:52   \n",
       "3  b'@EricksonReal @Ilhan And you can test as muc...  2020-03-30 20:20:53   \n",
       "4  b'Me taking notes for the future when I\\xe2\\x8...  2020-03-30 20:20:53   \n",
       "\n",
       "   Followers              UserID  WasDeleted  \n",
       "0        287  990004076829200385           0  \n",
       "1       1189           624244930           0  \n",
       "2        415  755613447702847488           0  \n",
       "3         16            47425986           0  \n",
       "4       1928           269295980           0  "
      ]
     },
     "execution_count": 70,
     "metadata": {},
     "output_type": "execute_result"
    }
   ],
   "source": [
    "twitter_df = pd.read_csv('../data/sample_with_label.csv')\n",
    "twitter_df.head()"
   ]
  },
  {
   "cell_type": "code",
   "execution_count": 71,
   "metadata": {},
   "outputs": [],
   "source": [
    "def preprocess_twitter(comment):\n",
    "    comment = word_tokenize(comment)  # Split into words.\n",
    "    for c in comment:\n",
    "        if '\\'b' in c:\n",
    "            c = c.replace('\\'b', '')\n",
    "        if '\\\\x' in c:\n",
    "            c = c.replace('\\\\x', ' \\\\x')\n",
    "    comment = [w for w in comment if not w in stop_words]  # Remove stopwords.\n",
    "    comment = [w for w in comment if w.isalpha()]  # Remove numbers and punctuation.\n",
    "    return comment"
   ]
  },
  {
   "cell_type": "code",
   "execution_count": 72,
   "metadata": {},
   "outputs": [
    {
     "data": {
      "text/plain": [
       "0                                                        []\n",
       "1         [b, lol, learned, shit, putting, eggs, one, ba...\n",
       "2         [set, stream, keep, getting, error, code, come...\n",
       "3         [b, ericksonreal, ilhan, test, much, like, fuc...\n",
       "4         [taking, notes, future, rush, got, ta, daughte...\n",
       "                                ...                        \n",
       "404143    [b, give, single, fuck, want, want, serve, sen...\n",
       "404144    [tweet, reminding, wash, hands, stay, cute, uw...\n",
       "404145                                          [fuck, die]\n",
       "404146    [b, en, mi, caso, de, los, que, juego, para, e...\n",
       "404147                                         [b, qzeraus]\n",
       "Name: text_tokens, Length: 404148, dtype: object"
      ]
     },
     "execution_count": 72,
     "metadata": {},
     "output_type": "execute_result"
    }
   ],
   "source": [
    "twitter_df['TweetText'] = twitter_df['TweetText'].fillna('fillna').str.lower()\n",
    "twitter_df['text_tokens'] = twitter_df['TweetText'].apply(preprocess_twitter)\n",
    "twitter_df['text_tokens']"
   ]
  },
  {
   "cell_type": "code",
   "execution_count": 73,
   "metadata": {},
   "outputs": [
    {
     "name": "stdout",
     "output_type": "stream",
     "text": [
      "Building dictionary...\n",
      "Building corpus...\n"
     ]
    }
   ],
   "source": [
    "dictionary_twitter, corpus_twitter = prep_corpus(twitter_df['text_tokens'])\n",
    "lda_twitter = models.ldamodel.LdaModel(corpus=corpus_twitter, id2word=dictionary_twitter, num_topics=num_topics, passes=50)"
   ]
  },
  {
   "cell_type": "code",
   "execution_count": 74,
   "metadata": {},
   "outputs": [],
   "source": [
    "file = open('lda_twitter.pkl', 'wb')\n",
    "pickle.dump(lda_twitter, file)\n",
    "file.close()\n",
    "\n",
    "file = open('dictionary_twitter.pkl', 'wb')\n",
    "pickle.dump(dictionary_twitter, file)\n",
    "file.close()"
   ]
  },
  {
   "cell_type": "code",
   "execution_count": 75,
   "metadata": {},
   "outputs": [],
   "source": [
    "# Reading dictionary and model files:\n",
    "\n",
    "# with open('lda_twitter.pkl', 'rb') as f:\n",
    "#     lda_twitter = pickle.load(f)\n",
    "# with open('dictionary_twitter.pkl', 'rb') as f:\n",
    "#     dictionary_twitter = pickle.load(f)"
   ]
  },
  {
   "cell_type": "code",
   "execution_count": 76,
   "metadata": {},
   "outputs": [],
   "source": [
    "mm = [dictionary_twitter.doc2bow(text) for text in twitter_df['text_tokens']]\n",
    "topics = pd.DataFrame(dict(lda_twitter[x]) for x in mm)\n",
    "twitter_df['topics'] = topics.values.tolist()"
   ]
  },
  {
   "cell_type": "code",
   "execution_count": 77,
   "metadata": {},
   "outputs": [
    {
     "name": "stdout",
     "output_type": "stream",
     "text": [
      "Writing to CSV\n"
     ]
    }
   ],
   "source": [
    "#Write to CSV\n",
    "print('Writing to CSV')\n",
    "twitter_df.to_csv(\"topic_modelling_twitter.csv\")"
   ]
  },
  {
   "cell_type": "code",
   "execution_count": 78,
   "metadata": {},
   "outputs": [
    {
     "data": {
      "text/plain": [
       "[(0,\n",
       "  [('yes', 0.01775655),\n",
       "   ('old', 0.01381106),\n",
       "   ('said', 0.012664417),\n",
       "   ('year', 0.012536691),\n",
       "   ('week', 0.012468138),\n",
       "   ('wish', 0.011021786),\n",
       "   ('seen', 0.010270801),\n",
       "   ('though', 0.0096722515),\n",
       "   ('bullshit', 0.0094514275),\n",
       "   ('night', 0.009295085)]),\n",
       " (1,\n",
       "  [('fuck', 0.19156133),\n",
       "   ('bitch', 0.045365296),\n",
       "   ('na', 0.04443226),\n",
       "   ('ass', 0.025740797),\n",
       "   ('https', 0.024740443),\n",
       "   ('gon', 0.022270177),\n",
       "   ('wan', 0.019444875),\n",
       "   ('want', 0.013731251),\n",
       "   ('shut', 0.011667606),\n",
       "   ('yeah', 0.010558286)]),\n",
       " (2,\n",
       "  [('fuck', 0.07449539),\n",
       "   ('people', 0.023647208),\n",
       "   ('fucking', 0.021588784),\n",
       "   ('shit', 0.017120857),\n",
       "   ('kill', 0.013069377),\n",
       "   ('realdonaldtrump', 0.012250862),\n",
       "   ('die', 0.012225365),\n",
       "   ('us', 0.009597877),\n",
       "   ('trump', 0.009409304),\n",
       "   ('shut', 0.008846247)]),\n",
       " (3,\n",
       "  [('need', 0.017069716),\n",
       "   ('us', 0.013301801),\n",
       "   ('time', 0.012651318),\n",
       "   ('amp', 0.011998255),\n",
       "   ('get', 0.0118516395),\n",
       "   ('day', 0.011486981),\n",
       "   ('help', 0.009994743),\n",
       "   ('april', 0.009661344),\n",
       "   ('going', 0.0092806285),\n",
       "   ('quarantine', 0.008685394)]),\n",
       " (4,\n",
       "  [('hands', 0.06314623),\n",
       "   ('wash', 0.051699657),\n",
       "   ('stay', 0.038825788),\n",
       "   ('https', 0.031222537),\n",
       "   ('home', 0.027933836),\n",
       "   ('please', 0.016790621),\n",
       "   ('face', 0.011441433),\n",
       "   ('safe', 0.011109507),\n",
       "   ('take', 0.008748541),\n",
       "   ('bunny', 0.008700692)]),\n",
       " (5,\n",
       "  [('bread', 0.1455561),\n",
       "   ('https', 0.056385364),\n",
       "   ('made', 0.021917531),\n",
       "   ('banana', 0.02128561),\n",
       "   ('make', 0.0154807),\n",
       "   ('eggs', 0.011116354),\n",
       "   ('making', 0.010769332),\n",
       "   ('amp', 0.0071784495),\n",
       "   ('captainkidd', 0.006968974),\n",
       "   ('captainkiddgiveaway', 0.0069336)]),\n",
       " (6,\n",
       "  [('crossing', 0.1982485),\n",
       "   ('animal', 0.18647203),\n",
       "   ('https', 0.0340089),\n",
       "   ('switch', 0.022922166),\n",
       "   ('new', 0.020856455),\n",
       "   ('play', 0.020818943),\n",
       "   ('de', 0.019051805),\n",
       "   ('playing', 0.0152004305),\n",
       "   ('que', 0.014963149),\n",
       "   ('la', 0.0131043)]),\n",
       " (7,\n",
       "  [('fuck', 0.06720269),\n",
       "   ('like', 0.0321753),\n",
       "   ('know', 0.018147321),\n",
       "   ('get', 0.016344598),\n",
       "   ('got', 0.015984474),\n",
       "   ('u', 0.011229399),\n",
       "   ('shit', 0.01114452),\n",
       "   ('love', 0.010682496),\n",
       "   ('people', 0.010360646),\n",
       "   ('say', 0.0102835065)]),\n",
       " (8,\n",
       "  [('acnh', 0.024165602),\n",
       "   ('animalcrossing', 0.021751916),\n",
       "   ('cute', 0.0186794),\n",
       "   ('send', 0.014180062),\n",
       "   ('https', 0.012752657),\n",
       "   ('hours', 0.012229493),\n",
       "   ('played', 0.011676138),\n",
       "   ('je', 0.010820722),\n",
       "   ('giveaway', 0.009553583),\n",
       "   ('win', 0.008938384)]),\n",
       " (9,\n",
       "  [('cunt', 0.09252815),\n",
       "   ('https', 0.020061428),\n",
       "   ('baby', 0.017707348),\n",
       "   ('follow', 0.012675516),\n",
       "   ('lo', 0.0102455225),\n",
       "   ('like', 0.010183473),\n",
       "   ('kpop', 0.010061897),\n",
       "   ('music', 0.009603378),\n",
       "   ('sex', 0.009259792),\n",
       "   ('horny', 0.009014005)])]"
      ]
     },
     "execution_count": 78,
     "metadata": {},
     "output_type": "execute_result"
    }
   ],
   "source": [
    "lda_twitter.show_topics(formatted=False)"
   ]
  },
  {
   "cell_type": "markdown",
   "metadata": {},
   "source": [
    "## Topic Distribution Analysis"
   ]
  },
  {
   "cell_type": "code",
   "execution_count": 83,
   "metadata": {
    "scrolled": false
   },
   "outputs": [
    {
     "data": {
      "text/html": [
       "<div>\n",
       "<style scoped>\n",
       "    .dataframe tbody tr th:only-of-type {\n",
       "        vertical-align: middle;\n",
       "    }\n",
       "\n",
       "    .dataframe tbody tr th {\n",
       "        vertical-align: top;\n",
       "    }\n",
       "\n",
       "    .dataframe thead th {\n",
       "        text-align: right;\n",
       "    }\n",
       "</style>\n",
       "<table border=\"1\" class=\"dataframe\">\n",
       "  <thead>\n",
       "    <tr style=\"text-align: right;\">\n",
       "      <th></th>\n",
       "      <th>Unnamed: 0</th>\n",
       "      <th>Unnamed: 0.1</th>\n",
       "      <th>TweetID</th>\n",
       "      <th>UserName</th>\n",
       "      <th>TweetText</th>\n",
       "      <th>TweetDateTime</th>\n",
       "      <th>Followers</th>\n",
       "      <th>UserID</th>\n",
       "      <th>WasDeleted</th>\n",
       "      <th>text_tokens</th>\n",
       "      <th>topics</th>\n",
       "    </tr>\n",
       "  </thead>\n",
       "  <tbody>\n",
       "    <tr>\n",
       "      <th>0</th>\n",
       "      <td>0</td>\n",
       "      <td>0</td>\n",
       "      <td>1244721273793646594</td>\n",
       "      <td>ShannePanne</td>\n",
       "      <td>b'rhoa'</td>\n",
       "      <td>2020-03-30 20:20:52</td>\n",
       "      <td>287</td>\n",
       "      <td>990004076829200385</td>\n",
       "      <td>0</td>\n",
       "      <td>[]</td>\n",
       "      <td>[0.10000000149011612, 0.10000000149011612, 0.1...</td>\n",
       "    </tr>\n",
       "    <tr>\n",
       "      <th>1</th>\n",
       "      <td>1</td>\n",
       "      <td>1</td>\n",
       "      <td>1244721275232301058</td>\n",
       "      <td>25_ShadesOfK</td>\n",
       "      <td>b'@histemp_taytion lol i learned from that shi...</td>\n",
       "      <td>2020-03-30 20:20:52</td>\n",
       "      <td>1189</td>\n",
       "      <td>624244930</td>\n",
       "      <td>0</td>\n",
       "      <td>['b', 'lol', 'learned', 'shit', 'putting', 'eg...</td>\n",
       "      <td>[nan, nan, nan, 0.1247185692191124, nan, 0.108...</td>\n",
       "    </tr>\n",
       "    <tr>\n",
       "      <th>2</th>\n",
       "      <td>2</td>\n",
       "      <td>2</td>\n",
       "      <td>1244721275936878593</td>\n",
       "      <td>PlagueJesterSky</td>\n",
       "      <td>b'trying to set up the stream and i keep getti...</td>\n",
       "      <td>2020-03-30 20:20:52</td>\n",
       "      <td>415</td>\n",
       "      <td>755613447702847488</td>\n",
       "      <td>0</td>\n",
       "      <td>['set', 'stream', 'keep', 'getting', 'error', ...</td>\n",
       "      <td>[0.07852327823638916, nan, nan, nan, 0.1525963...</td>\n",
       "    </tr>\n",
       "    <tr>\n",
       "      <th>3</th>\n",
       "      <td>3</td>\n",
       "      <td>3</td>\n",
       "      <td>1244721278650650624</td>\n",
       "      <td>spitbull1963</td>\n",
       "      <td>b'@ericksonreal @ilhan and you can test as muc...</td>\n",
       "      <td>2020-03-30 20:20:53</td>\n",
       "      <td>16</td>\n",
       "      <td>47425986</td>\n",
       "      <td>0</td>\n",
       "      <td>['b', 'ericksonreal', 'ilhan', 'test', 'much',...</td>\n",
       "      <td>[nan, nan, 0.32516738772392273, 0.130947604775...</td>\n",
       "    </tr>\n",
       "    <tr>\n",
       "      <th>4</th>\n",
       "      <td>4</td>\n",
       "      <td>4</td>\n",
       "      <td>1244721278931664896</td>\n",
       "      <td>kamanfrancis</td>\n",
       "      <td>b'me taking notes for the future when i\\xe2\\x8...</td>\n",
       "      <td>2020-03-30 20:20:53</td>\n",
       "      <td>1928</td>\n",
       "      <td>269295980</td>\n",
       "      <td>0</td>\n",
       "      <td>['taking', 'notes', 'future', 'rush', 'got', '...</td>\n",
       "      <td>[0.011127191595733166, 0.011127191595733166, 0...</td>\n",
       "    </tr>\n",
       "  </tbody>\n",
       "</table>\n",
       "</div>"
      ],
      "text/plain": [
       "   Unnamed: 0  Unnamed: 0.1              TweetID         UserName  \\\n",
       "0           0             0  1244721273793646594      ShannePanne   \n",
       "1           1             1  1244721275232301058     25_ShadesOfK   \n",
       "2           2             2  1244721275936878593  PlagueJesterSky   \n",
       "3           3             3  1244721278650650624     spitbull1963   \n",
       "4           4             4  1244721278931664896     kamanfrancis   \n",
       "\n",
       "                                           TweetText        TweetDateTime  \\\n",
       "0                                            b'rhoa'  2020-03-30 20:20:52   \n",
       "1  b'@histemp_taytion lol i learned from that shi...  2020-03-30 20:20:52   \n",
       "2  b'trying to set up the stream and i keep getti...  2020-03-30 20:20:52   \n",
       "3  b'@ericksonreal @ilhan and you can test as muc...  2020-03-30 20:20:53   \n",
       "4  b'me taking notes for the future when i\\xe2\\x8...  2020-03-30 20:20:53   \n",
       "\n",
       "   Followers              UserID  WasDeleted  \\\n",
       "0        287  990004076829200385           0   \n",
       "1       1189           624244930           0   \n",
       "2        415  755613447702847488           0   \n",
       "3         16            47425986           0   \n",
       "4       1928           269295980           0   \n",
       "\n",
       "                                         text_tokens  \\\n",
       "0                                                 []   \n",
       "1  ['b', 'lol', 'learned', 'shit', 'putting', 'eg...   \n",
       "2  ['set', 'stream', 'keep', 'getting', 'error', ...   \n",
       "3  ['b', 'ericksonreal', 'ilhan', 'test', 'much',...   \n",
       "4  ['taking', 'notes', 'future', 'rush', 'got', '...   \n",
       "\n",
       "                                              topics  \n",
       "0  [0.10000000149011612, 0.10000000149011612, 0.1...  \n",
       "1  [nan, nan, nan, 0.1247185692191124, nan, 0.108...  \n",
       "2  [0.07852327823638916, nan, nan, nan, 0.1525963...  \n",
       "3  [nan, nan, 0.32516738772392273, 0.130947604775...  \n",
       "4  [0.011127191595733166, 0.011127191595733166, 0...  "
      ]
     },
     "execution_count": 83,
     "metadata": {},
     "output_type": "execute_result"
    }
   ],
   "source": [
    "df = pd.read_csv('topic_modelling_twitter.csv')\n",
    "df.head()"
   ]
  },
  {
   "cell_type": "code",
   "execution_count": 84,
   "metadata": {},
   "outputs": [],
   "source": [
    "def to_clean_list(x):\n",
    "    x = x.replace('nan', '0')\n",
    "    return ast.literal_eval(x)"
   ]
  },
  {
   "cell_type": "code",
   "execution_count": 85,
   "metadata": {},
   "outputs": [],
   "source": [
    "df['topics'] = df['topics'].apply(to_clean_list)\n",
    "topic_list = []\n",
    "for i in range(1, num_topics+1):\n",
    "    topic_list.append('topic_' + str(i))\n",
    "df[topic_list] = pd.DataFrame(df['topics'].values.tolist())\n"
   ]
  },
  {
   "cell_type": "code",
   "execution_count": 86,
   "metadata": {},
   "outputs": [
    {
     "data": {
      "text/plain": [
       "array([0.05720864, 0.11920666, 0.10003559, 0.09439033, 0.07480969,\n",
       "       0.09488788, 0.13446399, 0.21146122, 0.0526946 , 0.0493169 ])"
      ]
     },
     "execution_count": 86,
     "metadata": {},
     "output_type": "execute_result"
    }
   ],
   "source": [
    "all_topic_dist = np.average(df['topics'].tolist(), axis = 0)\n",
    "all_topic_dist"
   ]
  },
  {
   "cell_type": "code",
   "execution_count": 87,
   "metadata": {},
   "outputs": [
    {
     "data": {
      "image/png": "[encoded data removed]",
      "text/plain": [
       "<Figure size 432x288 with 1 Axes>"
      ]
     },
     "metadata": {
      "needs_background": "light"
     },
     "output_type": "display_data"
    }
   ],
   "source": [
    "import matplotlib.pyplot as plt\n",
    "\n",
    "running_sum = 0\n",
    "for i in range(num_topics):\n",
    "    plt.bar('overall', all_topic_dist[i], bottom = running_sum)\n",
    "    running_sum = running_sum + all_topic_dist[i]\n",
    "    "
   ]
  },
  {
   "cell_type": "code",
   "execution_count": 88,
   "metadata": {},
   "outputs": [
    {
     "data": {
      "text/html": [
       "<div>\n",
       "<style scoped>\n",
       "    .dataframe tbody tr th:only-of-type {\n",
       "        vertical-align: middle;\n",
       "    }\n",
       "\n",
       "    .dataframe tbody tr th {\n",
       "        vertical-align: top;\n",
       "    }\n",
       "\n",
       "    .dataframe thead th {\n",
       "        text-align: right;\n",
       "    }\n",
       "</style>\n",
       "<table border=\"1\" class=\"dataframe\">\n",
       "  <thead>\n",
       "    <tr style=\"text-align: right;\">\n",
       "      <th></th>\n",
       "      <th>topic_1</th>\n",
       "      <th>topic_2</th>\n",
       "      <th>topic_3</th>\n",
       "      <th>topic_4</th>\n",
       "      <th>topic_5</th>\n",
       "      <th>topic_6</th>\n",
       "      <th>topic_7</th>\n",
       "      <th>topic_8</th>\n",
       "      <th>topic_9</th>\n",
       "      <th>topic_10</th>\n",
       "    </tr>\n",
       "    <tr>\n",
       "      <th>WasDeleted</th>\n",
       "      <th></th>\n",
       "      <th></th>\n",
       "      <th></th>\n",
       "      <th></th>\n",
       "      <th></th>\n",
       "      <th></th>\n",
       "      <th></th>\n",
       "      <th></th>\n",
       "      <th></th>\n",
       "      <th></th>\n",
       "    </tr>\n",
       "  </thead>\n",
       "  <tbody>\n",
       "    <tr>\n",
       "      <th>0</th>\n",
       "      <td>0.057554</td>\n",
       "      <td>0.114958</td>\n",
       "      <td>0.099950</td>\n",
       "      <td>0.095204</td>\n",
       "      <td>0.075274</td>\n",
       "      <td>0.097241</td>\n",
       "      <td>0.137641</td>\n",
       "      <td>0.210077</td>\n",
       "      <td>0.052109</td>\n",
       "      <td>0.048587</td>\n",
       "    </tr>\n",
       "    <tr>\n",
       "      <th>1</th>\n",
       "      <td>0.054446</td>\n",
       "      <td>0.153209</td>\n",
       "      <td>0.100717</td>\n",
       "      <td>0.087875</td>\n",
       "      <td>0.071096</td>\n",
       "      <td>0.076061</td>\n",
       "      <td>0.109039</td>\n",
       "      <td>0.222540</td>\n",
       "      <td>0.057381</td>\n",
       "      <td>0.055157</td>\n",
       "    </tr>\n",
       "  </tbody>\n",
       "</table>\n",
       "</div>"
      ],
      "text/plain": [
       "             topic_1   topic_2   topic_3   topic_4   topic_5   topic_6  \\\n",
       "WasDeleted                                                               \n",
       "0           0.057554  0.114958  0.099950  0.095204  0.075274  0.097241   \n",
       "1           0.054446  0.153209  0.100717  0.087875  0.071096  0.076061   \n",
       "\n",
       "             topic_7   topic_8   topic_9  topic_10  \n",
       "WasDeleted                                          \n",
       "0           0.137641  0.210077  0.052109  0.048587  \n",
       "1           0.109039  0.222540  0.057381  0.055157  "
      ]
     },
     "execution_count": 88,
     "metadata": {},
     "output_type": "execute_result"
    }
   ],
   "source": [
    "df_grouped = df[['WasDeleted'] + topic_list].groupby(['WasDeleted']).mean()\n",
    "df_grouped"
   ]
  },
  {
   "cell_type": "code",
   "execution_count": 89,
   "metadata": {},
   "outputs": [
    {
     "data": {
      "text/plain": [
       "<matplotlib.axes._subplots.AxesSubplot at 0x1dab08c18>"
      ]
     },
     "execution_count": 89,
     "metadata": {},
     "output_type": "execute_result"
    },
    {
     "data": {
      "image/png": "[encoded data removed]",
      "text/plain": [
       "<Figure size 432x288 with 1 Axes>"
      ]
     },
     "metadata": {
      "needs_background": "light"
     },
     "output_type": "display_data"
    }
   ],
   "source": [
    "df_grouped.plot(kind = 'bar', stacked = True, rot = 0)"
   ]
  },
  {
   "cell_type": "code",
   "execution_count": 128,
   "metadata": {},
   "outputs": [
    {
     "data": {
      "text/plain": [
       "Power_divergenceResult(statistic=0.025955720699377783, pvalue=0.9999999999389133)"
      ]
     },
     "execution_count": 128,
     "metadata": {},
     "output_type": "execute_result"
    }
   ],
   "source": [
    "#do a significance test; null hypothesis is that \n",
    "import scipy\n",
    "scipy.stats.chisquare(df_grouped.iloc[0], df_grouped.iloc[1])\n"
   ]
  },
  {
   "cell_type": "markdown",
   "metadata": {},
   "source": [
    "### Vocab size"
   ]
  },
  {
   "cell_type": "code",
   "execution_count": 91,
   "metadata": {},
   "outputs": [
    {
     "data": {
      "text/plain": [
       "208782"
      ]
     },
     "execution_count": 91,
     "metadata": {},
     "output_type": "execute_result"
    }
   ],
   "source": [
    "len(dictionary_twitter)"
   ]
  },
  {
   "cell_type": "code",
   "execution_count": 92,
   "metadata": {},
   "outputs": [
    {
     "data": {
      "text/plain": [
       "157319"
      ]
     },
     "execution_count": 92,
     "metadata": {},
     "output_type": "execute_result"
    }
   ],
   "source": [
    "len(dictionary_wiki)"
   ]
  },
  {
   "cell_type": "code",
   "execution_count": 95,
   "metadata": {},
   "outputs": [
    {
     "data": {
      "text/plain": [
       "topic_1     0.057554\n",
       "topic_2     0.114958\n",
       "topic_3     0.099950\n",
       "topic_4     0.095204\n",
       "topic_5     0.075274\n",
       "topic_6     0.097241\n",
       "topic_7     0.137641\n",
       "topic_8     0.210077\n",
       "topic_9     0.052109\n",
       "topic_10    0.048587\n",
       "Name: 0, dtype: float64"
      ]
     },
     "execution_count": 95,
     "metadata": {},
     "output_type": "execute_result"
    }
   ],
   "source": [
    "df_grouped.iloc[0]"
   ]
  },
  {
   "cell_type": "code",
   "execution_count": 101,
   "metadata": {},
   "outputs": [
    {
     "data": {
      "text/plain": [
       "0.05755382838749242"
      ]
     },
     "execution_count": 101,
     "metadata": {},
     "output_type": "execute_result"
    }
   ],
   "source": [
    "df_grouped.iloc[0,0]"
   ]
  },
  {
   "cell_type": "code",
   "execution_count": 105,
   "metadata": {},
   "outputs": [
    {
     "data": {
      "text/plain": [
       "404148"
      ]
     },
     "execution_count": 105,
     "metadata": {},
     "output_type": "execute_result"
    }
   ],
   "source": [
    "len(df)"
   ]
  },
  {
   "cell_type": "code",
   "execution_count": null,
   "metadata": {},
   "outputs": [],
   "source": []
  }
 ],
 "metadata": {
  "kernelspec": {
   "display_name": "Python 3",
   "language": "python",
   "name": "python3"
  },
  "language_info": {
   "codemirror_mode": {
    "name": "ipython",
    "version": 3
   },
   "file_extension": ".py",
   "mimetype": "text/x-python",
   "name": "python",
   "nbconvert_exporter": "python",
   "pygments_lexer": "ipython3",
   "version": "3.7.0"
  }
 },
 "nbformat": 4,
 "nbformat_minor": 4
}
