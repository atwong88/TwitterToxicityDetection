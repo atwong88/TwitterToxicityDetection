{
 "cells": [
  {
   "cell_type": "code",
   "execution_count": 1,
   "metadata": {},
   "outputs": [
    {
     "name": "stderr",
     "output_type": "stream",
     "text": [
      "/Users/adrienawong/.pyenv/versions/3.7.0/lib/python3.7/site-packages/pandas/compat/__init__.py:85: UserWarning: Could not import the lzma module. Your installed Python is incomplete. Attempting to use lzma compression will result in a RuntimeError.\n",
      "  warnings.warn(msg)\n",
      "/Users/adrienawong/.pyenv/versions/3.7.0/lib/python3.7/site-packages/pandas/compat/__init__.py:85: UserWarning: Could not import the lzma module. Your installed Python is incomplete. Attempting to use lzma compression will result in a RuntimeError.\n",
      "  warnings.warn(msg)\n"
     ]
    }
   ],
   "source": [
    "import pandas as pd"
   ]
  },
  {
   "cell_type": "code",
   "execution_count": 2,
   "metadata": {},
   "outputs": [],
   "source": [
    "df = pd.read_csv('data/sample_with_label.csv')"
   ]
  },
  {
   "cell_type": "code",
   "execution_count": 3,
   "metadata": {},
   "outputs": [
    {
     "data": {
      "text/html": [
       "<div>\n",
       "<style scoped>\n",
       "    .dataframe tbody tr th:only-of-type {\n",
       "        vertical-align: middle;\n",
       "    }\n",
       "\n",
       "    .dataframe tbody tr th {\n",
       "        vertical-align: top;\n",
       "    }\n",
       "\n",
       "    .dataframe thead th {\n",
       "        text-align: right;\n",
       "    }\n",
       "</style>\n",
       "<table border=\"1\" class=\"dataframe\">\n",
       "  <thead>\n",
       "    <tr style=\"text-align: right;\">\n",
       "      <th></th>\n",
       "      <th>Unnamed: 0</th>\n",
       "      <th>TweetID</th>\n",
       "      <th>UserName</th>\n",
       "      <th>TweetText</th>\n",
       "      <th>TweetDateTime</th>\n",
       "      <th>Followers</th>\n",
       "      <th>UserID</th>\n",
       "      <th>WasDeleted</th>\n",
       "    </tr>\n",
       "  </thead>\n",
       "  <tbody>\n",
       "    <tr>\n",
       "      <th>0</th>\n",
       "      <td>0</td>\n",
       "      <td>1244721273793646594</td>\n",
       "      <td>ShannePanne</td>\n",
       "      <td>b'Rhoa'</td>\n",
       "      <td>2020-03-30 20:20:52</td>\n",
       "      <td>287</td>\n",
       "      <td>990004076829200385</td>\n",
       "      <td>0</td>\n",
       "    </tr>\n",
       "    <tr>\n",
       "      <th>1</th>\n",
       "      <td>1</td>\n",
       "      <td>1244721275232301058</td>\n",
       "      <td>25_ShadesOfK</td>\n",
       "      <td>b'@HisTemp_TAYtion Lol I learned from that shi...</td>\n",
       "      <td>2020-03-30 20:20:52</td>\n",
       "      <td>1189</td>\n",
       "      <td>624244930</td>\n",
       "      <td>0</td>\n",
       "    </tr>\n",
       "    <tr>\n",
       "      <th>2</th>\n",
       "      <td>2</td>\n",
       "      <td>1244721275936878593</td>\n",
       "      <td>PlagueJesterSky</td>\n",
       "      <td>b'Trying to set up the stream and I keep getti...</td>\n",
       "      <td>2020-03-30 20:20:52</td>\n",
       "      <td>415</td>\n",
       "      <td>755613447702847488</td>\n",
       "      <td>0</td>\n",
       "    </tr>\n",
       "    <tr>\n",
       "      <th>3</th>\n",
       "      <td>3</td>\n",
       "      <td>1244721278650650624</td>\n",
       "      <td>spitbull1963</td>\n",
       "      <td>b'@EricksonReal @Ilhan And you can test as muc...</td>\n",
       "      <td>2020-03-30 20:20:53</td>\n",
       "      <td>16</td>\n",
       "      <td>47425986</td>\n",
       "      <td>0</td>\n",
       "    </tr>\n",
       "    <tr>\n",
       "      <th>4</th>\n",
       "      <td>4</td>\n",
       "      <td>1244721278931664896</td>\n",
       "      <td>kamanfrancis</td>\n",
       "      <td>b'Me taking notes for the future when I\\xe2\\x8...</td>\n",
       "      <td>2020-03-30 20:20:53</td>\n",
       "      <td>1928</td>\n",
       "      <td>269295980</td>\n",
       "      <td>0</td>\n",
       "    </tr>\n",
       "  </tbody>\n",
       "</table>\n",
       "</div>"
      ],
      "text/plain": [
       "   Unnamed: 0              TweetID         UserName  \\\n",
       "0           0  1244721273793646594      ShannePanne   \n",
       "1           1  1244721275232301058     25_ShadesOfK   \n",
       "2           2  1244721275936878593  PlagueJesterSky   \n",
       "3           3  1244721278650650624     spitbull1963   \n",
       "4           4  1244721278931664896     kamanfrancis   \n",
       "\n",
       "                                           TweetText        TweetDateTime  \\\n",
       "0                                            b'Rhoa'  2020-03-30 20:20:52   \n",
       "1  b'@HisTemp_TAYtion Lol I learned from that shi...  2020-03-30 20:20:52   \n",
       "2  b'Trying to set up the stream and I keep getti...  2020-03-30 20:20:52   \n",
       "3  b'@EricksonReal @Ilhan And you can test as muc...  2020-03-30 20:20:53   \n",
       "4  b'Me taking notes for the future when I\\xe2\\x8...  2020-03-30 20:20:53   \n",
       "\n",
       "   Followers              UserID  WasDeleted  \n",
       "0        287  990004076829200385           0  \n",
       "1       1189           624244930           0  \n",
       "2        415  755613447702847488           0  \n",
       "3         16            47425986           0  \n",
       "4       1928           269295980           0  "
      ]
     },
     "execution_count": 3,
     "metadata": {},
     "output_type": "execute_result"
    }
   ],
   "source": [
    "df.head()"
   ]
  },
  {
   "cell_type": "code",
   "execution_count": 27,
   "metadata": {},
   "outputs": [],
   "source": [
    "def emojiDetection(x):\n",
    "    return '\\\\x' in x"
   ]
  },
  {
   "cell_type": "code",
   "execution_count": 28,
   "metadata": {},
   "outputs": [],
   "source": [
    "df['emoji'] = df['TweetText'].apply(emojiDetection)"
   ]
  },
  {
   "cell_type": "code",
   "execution_count": 30,
   "metadata": {},
   "outputs": [
    {
     "data": {
      "text/html": [
       "<div>\n",
       "<style scoped>\n",
       "    .dataframe tbody tr th:only-of-type {\n",
       "        vertical-align: middle;\n",
       "    }\n",
       "\n",
       "    .dataframe tbody tr th {\n",
       "        vertical-align: top;\n",
       "    }\n",
       "\n",
       "    .dataframe thead th {\n",
       "        text-align: right;\n",
       "    }\n",
       "</style>\n",
       "<table border=\"1\" class=\"dataframe\">\n",
       "  <thead>\n",
       "    <tr style=\"text-align: right;\">\n",
       "      <th></th>\n",
       "      <th>Unnamed: 0</th>\n",
       "      <th>TweetID</th>\n",
       "      <th>UserName</th>\n",
       "      <th>TweetText</th>\n",
       "      <th>TweetDateTime</th>\n",
       "      <th>Followers</th>\n",
       "      <th>UserID</th>\n",
       "      <th>WasDeleted</th>\n",
       "      <th>emoji</th>\n",
       "    </tr>\n",
       "  </thead>\n",
       "  <tbody>\n",
       "    <tr>\n",
       "      <th>0</th>\n",
       "      <td>0</td>\n",
       "      <td>1244721273793646594</td>\n",
       "      <td>ShannePanne</td>\n",
       "      <td>b'Rhoa'</td>\n",
       "      <td>2020-03-30 20:20:52</td>\n",
       "      <td>287</td>\n",
       "      <td>990004076829200385</td>\n",
       "      <td>0</td>\n",
       "      <td>False</td>\n",
       "    </tr>\n",
       "    <tr>\n",
       "      <th>1</th>\n",
       "      <td>1</td>\n",
       "      <td>1244721275232301058</td>\n",
       "      <td>25_ShadesOfK</td>\n",
       "      <td>b'@HisTemp_TAYtion Lol I learned from that shi...</td>\n",
       "      <td>2020-03-30 20:20:52</td>\n",
       "      <td>1189</td>\n",
       "      <td>624244930</td>\n",
       "      <td>0</td>\n",
       "      <td>True</td>\n",
       "    </tr>\n",
       "    <tr>\n",
       "      <th>2</th>\n",
       "      <td>2</td>\n",
       "      <td>1244721275936878593</td>\n",
       "      <td>PlagueJesterSky</td>\n",
       "      <td>b'Trying to set up the stream and I keep getti...</td>\n",
       "      <td>2020-03-30 20:20:52</td>\n",
       "      <td>415</td>\n",
       "      <td>755613447702847488</td>\n",
       "      <td>0</td>\n",
       "      <td>False</td>\n",
       "    </tr>\n",
       "    <tr>\n",
       "      <th>3</th>\n",
       "      <td>3</td>\n",
       "      <td>1244721278650650624</td>\n",
       "      <td>spitbull1963</td>\n",
       "      <td>b'@EricksonReal @Ilhan And you can test as muc...</td>\n",
       "      <td>2020-03-30 20:20:53</td>\n",
       "      <td>16</td>\n",
       "      <td>47425986</td>\n",
       "      <td>0</td>\n",
       "      <td>True</td>\n",
       "    </tr>\n",
       "    <tr>\n",
       "      <th>4</th>\n",
       "      <td>4</td>\n",
       "      <td>1244721278931664896</td>\n",
       "      <td>kamanfrancis</td>\n",
       "      <td>b'Me taking notes for the future when I\\xe2\\x8...</td>\n",
       "      <td>2020-03-30 20:20:53</td>\n",
       "      <td>1928</td>\n",
       "      <td>269295980</td>\n",
       "      <td>0</td>\n",
       "      <td>True</td>\n",
       "    </tr>\n",
       "  </tbody>\n",
       "</table>\n",
       "</div>"
      ],
      "text/plain": [
       "   Unnamed: 0              TweetID         UserName  \\\n",
       "0           0  1244721273793646594      ShannePanne   \n",
       "1           1  1244721275232301058     25_ShadesOfK   \n",
       "2           2  1244721275936878593  PlagueJesterSky   \n",
       "3           3  1244721278650650624     spitbull1963   \n",
       "4           4  1244721278931664896     kamanfrancis   \n",
       "\n",
       "                                           TweetText        TweetDateTime  \\\n",
       "0                                            b'Rhoa'  2020-03-30 20:20:52   \n",
       "1  b'@HisTemp_TAYtion Lol I learned from that shi...  2020-03-30 20:20:52   \n",
       "2  b'Trying to set up the stream and I keep getti...  2020-03-30 20:20:52   \n",
       "3  b'@EricksonReal @Ilhan And you can test as muc...  2020-03-30 20:20:53   \n",
       "4  b'Me taking notes for the future when I\\xe2\\x8...  2020-03-30 20:20:53   \n",
       "\n",
       "   Followers              UserID  WasDeleted  emoji  \n",
       "0        287  990004076829200385           0  False  \n",
       "1       1189           624244930           0   True  \n",
       "2        415  755613447702847488           0  False  \n",
       "3         16            47425986           0   True  \n",
       "4       1928           269295980           0   True  "
      ]
     },
     "execution_count": 30,
     "metadata": {},
     "output_type": "execute_result"
    }
   ],
   "source": [
    "df.head()"
   ]
  },
  {
   "cell_type": "code",
   "execution_count": 41,
   "metadata": {},
   "outputs": [],
   "source": [
    "emoji_del = len(df[(df['emoji'] == True) & (df['WasDeleted'] == 0)])"
   ]
  },
  {
   "cell_type": "code",
   "execution_count": 42,
   "metadata": {},
   "outputs": [],
   "source": [
    "no_emoji_del = len(df[(df['emoji'] == False) & (df['WasDeleted'] == 0)])"
   ]
  },
  {
   "cell_type": "code",
   "execution_count": 43,
   "metadata": {},
   "outputs": [],
   "source": [
    "emoji_no_del = len(df[(df['emoji'] == True) & (df['WasDeleted'] == 1)])"
   ]
  },
  {
   "cell_type": "code",
   "execution_count": 44,
   "metadata": {},
   "outputs": [],
   "source": [
    "no_emoji_no_del = len(df[(df['emoji'] == False) & (df['WasDeleted'] == 1)])"
   ]
  },
  {
   "cell_type": "code",
   "execution_count": 45,
   "metadata": {},
   "outputs": [
    {
     "data": {
      "text/plain": [
       "0.13136437890858324"
      ]
     },
     "execution_count": 45,
     "metadata": {},
     "output_type": "execute_result"
    }
   ],
   "source": [
    "emoji_no_del/emoji_del"
   ]
  },
  {
   "cell_type": "code",
   "execution_count": 46,
   "metadata": {},
   "outputs": [
    {
     "data": {
      "text/plain": [
       "0.1209225685208218"
      ]
     },
     "execution_count": 46,
     "metadata": {},
     "output_type": "execute_result"
    }
   ],
   "source": [
    "no_emoji_no_del/no_emoji_del"
   ]
  },
  {
   "cell_type": "code",
   "execution_count": null,
   "metadata": {},
   "outputs": [],
   "source": []
  }
 ],
 "metadata": {
  "kernelspec": {
   "display_name": "Python 3",
   "language": "python",
   "name": "python3"
  },
  "language_info": {
   "codemirror_mode": {
    "name": "ipython",
    "version": 3
   },
   "file_extension": ".py",
   "mimetype": "text/x-python",
   "name": "python",
   "nbconvert_exporter": "python",
   "pygments_lexer": "ipython3",
   "version": "3.7.0"
  }
 },
 "nbformat": 4,
 "nbformat_minor": 4
}
