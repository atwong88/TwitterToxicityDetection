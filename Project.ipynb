{
 "cells": [
  {
   "cell_type": "markdown",
   "metadata": {},
   "source": [
    "### Preprocessing: finding toxic n-grams in Wikipedia dataset\n",
    "\n",
    "For each n-gram up to n=3, we consider:\n",
    "- $N_t$ = number of appearances in comments marked toxic\n",
    "- $N_n$ = number of appearances in comments not marked toxic\n",
    "\n",
    "We then consider the ratio $\\frac{N_t}{N_t+N_n}$ as a measure of toxicity of a particular n-gram. The following code looks for most toxic n-grams up to n=3 in the Wikipedia dataset."
   ]
  },
  {
   "cell_type": "code",
   "execution_count": 1,
   "metadata": {},
   "outputs": [],
   "source": [
    "%%capture\n",
    "import utils\n",
    "import pandas as pd"
   ]
  },
  {
   "cell_type": "code",
   "execution_count": 2,
   "metadata": {},
   "outputs": [
    {
     "name": "stdout",
     "output_type": "stream",
     "text": [
      "Progress: 159571 / 159571"
     ]
    }
   ],
   "source": [
    "# Step 1: collect n-grams from data\n",
    "train = pd.read_csv('data/toxic_train.csv')\n",
    "train_toxic = train[train['toxic']==1]\n",
    "\n",
    "# this takes a few minutes\n",
    "words, bigrams, trigrams = utils.get_ngrams(train['comment_text'], train['toxic'])"
   ]
  },
  {
   "cell_type": "code",
   "execution_count": 3,
   "metadata": {},
   "outputs": [],
   "source": [
    "# Step 2: compute frequencies\n",
    "freqs_one = utils.get_frequencies(words, threshold=200)\n",
    "freqs_two = utils.get_frequencies(bigrams, threshold=100)\n",
    "freqs_three = utils.get_frequencies(trigrams, threshold=50)"
   ]
  },
  {
   "cell_type": "code",
   "execution_count": 4,
   "metadata": {},
   "outputs": [
    {
     "name": "stdout",
     "output_type": "stream",
     "text": [
      "Word                                     Toxicity ratio       Occurences          \n",
      "cocksucker                               1.0                  548                 \n",
      "mothjer                                  1.0                  489                 \n",
      "cocksucking                              1.0                  290                 \n",
      "niggas                                   1.0                  345                 \n",
      "cuntbag                                  1.0                  226                 \n",
      "securityfuck                             1.0                  227                 \n",
      "fggt                                     1.0                  477                 \n",
      "sexsex                                   1.0                  332                 \n",
      "hanibal911you're                         1.0                  366                 \n",
      "buttsecks                                1.0                  498                 \n",
      "------\n",
      "you faggot                               1.0                  115                 \n",
      "bitch fuck                               1.0                  328                 \n",
      "my shit                                  1.0                  236                 \n",
      "fuck u                                   1.0                  422                 \n",
      "fucking asshole                          1.0                  101                 \n",
      "pussy i                                  1.0                  134                 \n",
      "anal rape                                1.0                  342                 \n",
      "u suck                                   1.0                  159                 \n",
      "a mothjer                                1.0                  489                 \n",
      "mothjer fucker                           1.0                  489                 \n",
      "------\n",
      "fuck you faggot                          1.0                  82                  \n",
      "fuck off you                             1.0                  344                 \n",
      "fuck you fuck                            1.0                  1263                \n",
      "you fuck you                             1.0                  1260                \n",
      "fuck yourself you                        1.0                  54                  \n",
      "bitch fuck you                           1.0                  316                 \n",
      "i will kill                              1.0                  65                  \n",
      "suck my dick                             1.0                  108                 \n",
      "eat shit and                             1.0                  123                 \n",
      "shit and die                             1.0                  124                 \n"
     ]
    }
   ],
   "source": [
    "# Step 3: print top N n-grams\n",
    "from operator import itemgetter\n",
    "N = 10\n",
    "print(\"%-*s %-*s %-*s\" % (40, \"Word\", 20, \"Toxicity ratio\", 20, \"Occurences\"))\n",
    "for key in dict(sorted(freqs_one.items(), key = itemgetter(1), reverse = True)[:N]):\n",
    "    print(\"%-*s %-*.1f %-*d\" % (40, key, 20, freqs_one[key], 20, words[key][1]))\n",
    "print(\"------\")\n",
    "\n",
    "for key in dict(sorted(freqs_two.items(), key = itemgetter(1), reverse = True)[:N]):\n",
    "    print(\"%-*s %-*.1f %-*d\" % (40, key, 20, freqs_two[key], 20, bigrams[key][1]))\n",
    "print(\"------\")\n",
    "\n",
    "for key in dict(sorted(freqs_three.items(), key = itemgetter(1), reverse = True)[:N]):\n",
    "    print(\"%-*s %-*.1f %-*d\" % (40, key, 20, freqs_three[key], 20, trigrams[key][1]))"
   ]
  },
  {
   "cell_type": "markdown",
   "metadata": {},
   "source": [
    "***"
   ]
  },
  {
   "cell_type": "markdown",
   "metadata": {},
   "source": [
    "### Emoji analysis\n",
    "\n",
    "We investegated the influence of emoji presence on tweet deletion rate for the Twitter dataset. The difference turned out to be very minor and not statistically significant.\n",
    "\n",
    "Deletion rate is about 11.6% for tweets with emojis and about 10.8% for those without emojis."
   ]
  },
  {
   "cell_type": "code",
   "execution_count": 5,
   "metadata": {},
   "outputs": [
    {
     "name": "stdout",
     "output_type": "stream",
     "text": [
      "Deletion rate for tweets with emojis = 0.116\n",
      "Deletion rate for tweets without emojis = 0.108\n"
     ]
    }
   ],
   "source": [
    "# Compute deletion rates for tweets with and without emojis\n",
    "def emojiDetection(x):\n",
    "    return '\\\\x' in x\n",
    "\n",
    "df = pd.read_csv('data/sample_with_label.csv')\n",
    "df['emoji'] = df['TweetText'].apply(emojiDetection)\n",
    "\n",
    "emoji_no_del = len(df[(df['emoji'] == True) & (df['WasDeleted'] == 0)])\n",
    "no_emoji_no_del = len(df[(df['emoji'] == False) & (df['WasDeleted'] == 0)])\n",
    "emoji_del = len(df[(df['emoji'] == True) & (df['WasDeleted'] == 1)])\n",
    "no_emoji_del = len(df[(df['emoji'] == False) & (df['WasDeleted'] == 1)])\n",
    "\n",
    "print(\"Deletion rate for tweets with emojis = %.3f\" % (emoji_del/(emoji_no_del + emoji_del)))\n",
    "print(\"Deletion rate for tweets without emojis = %.3f\" % (no_emoji_del/(no_emoji_no_del + no_emoji_del)))"
   ]
  },
  {
   "cell_type": "markdown",
   "metadata": {},
   "source": [
    "***"
   ]
  },
  {
   "cell_type": "markdown",
   "metadata": {},
   "source": [
    "### Time of day analysis\n",
    "\n",
    "We investigated the influence of the time of day on the number of deleted tweets. The code below produces a plot of deleted tweets in relation to 24-hour time of day and the same for tweets that were not deleted. Since the graphs look almost identical (except the scaled y-axis), we conclude that time of day is not a significant factor in deletion rates."
   ]
  },
  {
   "cell_type": "code",
   "execution_count": 7,
   "metadata": {},
   "outputs": [
    {
     "name": "stdout",
     "output_type": "stream",
     "text": [
      "Deleted tweets by time of day:\n"
     ]
    },
    {
     "data": {
      "text/plain": [
       "<matplotlib.axes._subplots.AxesSubplot at 0x1b4e8e2be48>"
      ]
     },
     "execution_count": 7,
     "metadata": {},
     "output_type": "execute_result"
    },
    {
     "data": {
      "image/png": "[encoded data removed]",
      "text/plain": [
       "<Figure size 432x288 with 1 Axes>"
      ]
     },
     "metadata": {
      "needs_background": "light"
     },
     "output_type": "display_data"
    }
   ],
   "source": [
    "import re\n",
    "import datetime\n",
    "\n",
    "def hourify(s):\n",
    "    start = s.find(' ')\n",
    "    end = s.find(':')\n",
    "    return int(s[start:end])\n",
    "\n",
    "df = pd.read_csv('data/sample_with_label.csv')\n",
    "df['hours'] = df['TweetDateTime'].apply(hourify)\n",
    "df_grouped = df.groupby(['WasDeleted', 'hours']).size().reset_index()\n",
    "df_grouped = df_grouped.rename({0: 'Count'}, axis=1)\n",
    "\n",
    "print('Deleted tweets by time of day:')\n",
    "df_grouped[df_grouped['WasDeleted']==0].plot(x = 'hours', y = 'Count')"
   ]
  },
  {
   "cell_type": "code",
   "execution_count": 8,
   "metadata": {},
   "outputs": [
    {
     "name": "stdout",
     "output_type": "stream",
     "text": [
      "Non-deleted tweets by time of day:\n"
     ]
    },
    {
     "data": {
      "text/plain": [
       "<matplotlib.axes._subplots.AxesSubplot at 0x1b51abc6320>"
      ]
     },
     "execution_count": 8,
     "metadata": {},
     "output_type": "execute_result"
    },
    {
     "data": {
      "image/png": "[encoded data removed]",
      "text/plain": [
       "<Figure size 432x288 with 1 Axes>"
      ]
     },
     "metadata": {
      "needs_background": "light"
     },
     "output_type": "display_data"
    }
   ],
   "source": [
    "print('Non-deleted tweets by time of day:')\n",
    "df_grouped[df_grouped['WasDeleted']==1].plot(x = 'hours', y = 'Count')"
   ]
  },
  {
   "cell_type": "markdown",
   "metadata": {},
   "source": [
    "***"
   ]
  },
  {
   "cell_type": "markdown",
   "metadata": {},
   "source": [
    "### First try: a Naive Bayes model for toxicity prediction"
   ]
  },
  {
   "cell_type": "code",
   "execution_count": 9,
   "metadata": {},
   "outputs": [],
   "source": [
    "from sklearn.naive_bayes import MultinomialNB\n",
    "from sklearn.pipeline import Pipeline\n",
    "from sklearn.feature_extraction.text import CountVectorizer\n",
    "from sklearn.feature_extraction.text import TfidfTransformer\n",
    "import pandas as pd\n",
    "#import numpy as np\n",
    "%matplotlib inline"
   ]
  },
  {
   "cell_type": "code",
   "execution_count": 10,
   "metadata": {},
   "outputs": [
    {
     "data": {
      "text/plain": [
       "Pipeline(memory=None,\n",
       "         steps=[('vect',\n",
       "                 CountVectorizer(analyzer='word', binary=False,\n",
       "                                 decode_error='strict',\n",
       "                                 dtype=<class 'numpy.int64'>, encoding='utf-8',\n",
       "                                 input='content', lowercase=True, max_df=1.0,\n",
       "                                 max_features=None, min_df=1,\n",
       "                                 ngram_range=(1, 1), preprocessor=None,\n",
       "                                 stop_words=None, strip_accents=None,\n",
       "                                 token_pattern='(?u)\\\\b\\\\w\\\\w+\\\\b',\n",
       "                                 tokenizer=None, vocabulary=None)),\n",
       "                ('tfidf',\n",
       "                 TfidfTransformer(norm='l2', smooth_idf=True,\n",
       "                                  sublinear_tf=False, use_idf=True)),\n",
       "                ('clf',\n",
       "                 MultinomialNB(alpha=1.0, class_prior=None, fit_prior=True))],\n",
       "         verbose=False)"
      ]
     },
     "execution_count": 10,
     "metadata": {},
     "output_type": "execute_result"
    }
   ],
   "source": [
    "# Load data and train model on Wikipedia dataset\n",
    "text_clf = Pipeline([('vect', CountVectorizer()), ('tfidf', TfidfTransformer()), ('clf', MultinomialNB())])\n",
    "df = pd.read_csv('data/toxic_train.csv')\n",
    "X = df['comment_text']\n",
    "y = df['toxic']\n",
    "text_clf.fit(X,y)"
   ]
  },
  {
   "cell_type": "code",
   "execution_count": 11,
   "metadata": {},
   "outputs": [
    {
     "name": "stdout",
     "output_type": "stream",
     "text": [
      "you suck and I fucking hate you - 0.962 \n",
      "that was great, thank you - 0.003 \n"
     ]
    }
   ],
   "source": [
    "# example predictions\n",
    "print('you suck and I fucking hate you - %.3f ' % text_clf.predict_proba(['you suck and I fucking hate you'])[0,1])\n",
    "print('that was great, thank you - %.3f ' % text_clf.predict_proba(['that was great, thank you'])[0,1])"
   ]
  },
  {
   "cell_type": "code",
   "execution_count": 12,
   "metadata": {},
   "outputs": [
    {
     "data": {
      "text/html": [
       "<div>\n",
       "<style scoped>\n",
       "    .dataframe tbody tr th:only-of-type {\n",
       "        vertical-align: middle;\n",
       "    }\n",
       "\n",
       "    .dataframe tbody tr th {\n",
       "        vertical-align: top;\n",
       "    }\n",
       "\n",
       "    .dataframe thead th {\n",
       "        text-align: right;\n",
       "    }\n",
       "</style>\n",
       "<table border=\"1\" class=\"dataframe\">\n",
       "  <thead>\n",
       "    <tr style=\"text-align: right;\">\n",
       "      <th></th>\n",
       "      <th>Index</th>\n",
       "      <th>TweetID</th>\n",
       "      <th>ScreenName</th>\n",
       "      <th>TweetText</th>\n",
       "      <th>TweetDateTime</th>\n",
       "      <th>Followers</th>\n",
       "      <th>UserID</th>\n",
       "      <th>WasDeleted</th>\n",
       "      <th>ToxicityProba</th>\n",
       "    </tr>\n",
       "  </thead>\n",
       "  <tbody>\n",
       "    <tr>\n",
       "      <th>243293</th>\n",
       "      <td>243293</td>\n",
       "      <td>1245363598425313280</td>\n",
       "      <td>reefdude001</td>\n",
       "      <td>b'fuck shit bitch ass damn fucker tits cock wh...</td>\n",
       "      <td>2020-04-01 14:53:14</td>\n",
       "      <td>46</td>\n",
       "      <td>375348881</td>\n",
       "      <td>0</td>\n",
       "      <td>0.999824</td>\n",
       "    </tr>\n",
       "    <tr>\n",
       "      <th>132607</th>\n",
       "      <td>132607</td>\n",
       "      <td>1245240647910473728</td>\n",
       "      <td>theatreryoko</td>\n",
       "      <td>b'@shintsukimiai OKAY I JUST HOPE TWITTER DOES...</td>\n",
       "      <td>2020-04-01 06:44:40</td>\n",
       "      <td>65</td>\n",
       "      <td>1211650395275022336</td>\n",
       "      <td>0</td>\n",
       "      <td>0.999804</td>\n",
       "    </tr>\n",
       "    <tr>\n",
       "      <th>101208</th>\n",
       "      <td>101208</td>\n",
       "      <td>1245206990462345216</td>\n",
       "      <td>nolan_lacke</td>\n",
       "      <td>b'@Ronnie2K I love you man you are the best......</td>\n",
       "      <td>2020-04-01 04:30:56</td>\n",
       "      <td>45</td>\n",
       "      <td>766664388795400193</td>\n",
       "      <td>0</td>\n",
       "      <td>0.999804</td>\n",
       "    </tr>\n",
       "    <tr>\n",
       "      <th>100268</th>\n",
       "      <td>100268</td>\n",
       "      <td>1245206103111106561</td>\n",
       "      <td>JeffreyEAran</td>\n",
       "      <td>b'Ohhhhh\\nFuck, shit, bitch, damn, cock sucker...</td>\n",
       "      <td>2020-04-01 04:27:24</td>\n",
       "      <td>141</td>\n",
       "      <td>1174801703998283776</td>\n",
       "      <td>0</td>\n",
       "      <td>0.999793</td>\n",
       "    </tr>\n",
       "    <tr>\n",
       "      <th>218479</th>\n",
       "      <td>218479</td>\n",
       "      <td>1245344179057766404</td>\n",
       "      <td>starsburst</td>\n",
       "      <td>b'fuck you uglyass rat shit bastard stupid fuc...</td>\n",
       "      <td>2020-04-01 13:36:04</td>\n",
       "      <td>30</td>\n",
       "      <td>1238281735042994178</td>\n",
       "      <td>0</td>\n",
       "      <td>0.999705</td>\n",
       "    </tr>\n",
       "  </tbody>\n",
       "</table>\n",
       "</div>"
      ],
      "text/plain": [
       "         Index              TweetID    ScreenName  \\\n",
       "243293  243293  1245363598425313280   reefdude001   \n",
       "132607  132607  1245240647910473728  theatreryoko   \n",
       "101208  101208  1245206990462345216   nolan_lacke   \n",
       "100268  100268  1245206103111106561  JeffreyEAran   \n",
       "218479  218479  1245344179057766404    starsburst   \n",
       "\n",
       "                                                TweetText  \\\n",
       "243293  b'fuck shit bitch ass damn fucker tits cock wh...   \n",
       "132607  b'@shintsukimiai OKAY I JUST HOPE TWITTER DOES...   \n",
       "101208  b'@Ronnie2K I love you man you are the best......   \n",
       "100268  b'Ohhhhh\\nFuck, shit, bitch, damn, cock sucker...   \n",
       "218479  b'fuck you uglyass rat shit bastard stupid fuc...   \n",
       "\n",
       "              TweetDateTime  Followers               UserID  WasDeleted  \\\n",
       "243293  2020-04-01 14:53:14         46            375348881           0   \n",
       "132607  2020-04-01 06:44:40         65  1211650395275022336           0   \n",
       "101208  2020-04-01 04:30:56         45   766664388795400193           0   \n",
       "100268  2020-04-01 04:27:24        141  1174801703998283776           0   \n",
       "218479  2020-04-01 13:36:04         30  1238281735042994178           0   \n",
       "\n",
       "        ToxicityProba  \n",
       "243293       0.999824  \n",
       "132607       0.999804  \n",
       "101208       0.999804  \n",
       "100268       0.999793  \n",
       "218479       0.999705  "
      ]
     },
     "execution_count": 12,
     "metadata": {},
     "output_type": "execute_result"
    }
   ],
   "source": [
    "# predict toxic probability for Twitter dataset\n",
    "twitter_df = pd.read_csv('data/sample_with_label.csv')\n",
    "twitter_df.columns = ['Index','TweetID','ScreenName','TweetText','TweetDateTime','Followers','UserID','WasDeleted']\n",
    "twitter_df['ToxicityProba'] = text_clf.predict_proba(twitter_df['TweetText'])[:,1]\n",
    "twitter_df = twitter_df.sort_values(by=['ToxicityProba'],ascending=False)\n",
    "twitter_df.head()"
   ]
  },
  {
   "cell_type": "code",
   "execution_count": 13,
   "metadata": {},
   "outputs": [
    {
     "name": "stdout",
     "output_type": "stream",
     "text": [
      "Top 500 deletion rate: 0.218\n",
      "Bottom 500 deletion rate: 0.06\n"
     ]
    }
   ],
   "source": [
    "# assess performance\n",
    "import utils\n",
    "\n",
    "n = 500\n",
    "twitter_df['IsResponseTweet'] = twitter_df['TweetText'].apply(utils.is_response_tweet)\n",
    "response_tweets_df = twitter_df[twitter_df['IsResponseTweet']]\n",
    "print('Top', n, 'deletion rate:', response_tweets_df.head(n)['WasDeleted'].values.sum()/n)\n",
    "print('Bottom', n, 'deletion rate:', response_tweets_df.tail(n)['WasDeleted'].values.sum()/n)"
   ]
  },
  {
   "cell_type": "markdown",
   "metadata": {},
   "source": [
    "***"
   ]
  },
  {
   "cell_type": "markdown",
   "metadata": {},
   "source": [
    "### Neural network model performance on Twitter data\n",
    "\n",
    "After training a GRU-based model on the Wikipedia data, we test its toxicity prediction performance on the Twitter dataset. The metric used is the following: we sort the tweets by our model's toxicity prediction scores and take the top $n$ and bottom $n$ cutoff sets, then compute deletion rates for both. We would like to see a high deletion rate for the top $n$ tweets and a low deletion rate for the bottom $n$ tweets."
   ]
  },
  {
   "cell_type": "code",
   "execution_count": 14,
   "metadata": {},
   "outputs": [],
   "source": [
    "%%capture\n",
    "import utils\n",
    "from sklearn.model_selection import train_test_split\n",
    "from tensorflow.python.keras.preprocessing import sequence\n",
    "import pandas as pd\n",
    "pd.options.mode.chained_assignment = None"
   ]
  },
  {
   "cell_type": "code",
   "execution_count": 15,
   "metadata": {},
   "outputs": [
    {
     "name": "stdout",
     "output_type": "stream",
     "text": [
      "Tokenizing, please wait ...\n",
      "Tokenizing completed.\n"
     ]
    }
   ],
   "source": [
    "# Import datasets\n",
    "X_train, y_train, X_test = utils.load_wiki_data()\n",
    "twitter_df, twitter_text, twitter_y = utils.load_twitter_data()\n",
    "\n",
    "# Tokenization of input, takes about a minute\n",
    "print(\"Tokenizing, please wait ...\")\n",
    "tokenizer = utils.initialize_tokenizer(list(X_train)+list(X_test)+list(twitter_text))\n",
    "x_train = sequence.pad_sequences(tokenizer.texts_to_sequences(X_train), maxlen=100)\n",
    "x_test = sequence.pad_sequences(tokenizer.texts_to_sequences(X_test), maxlen=100)\n",
    "twitter_tokenized = sequence.pad_sequences(tokenizer.texts_to_sequences(twitter_text), maxlen=100)\n",
    "print(\"Tokenizing completed.\")"
   ]
  },
  {
   "cell_type": "code",
   "execution_count": 16,
   "metadata": {},
   "outputs": [
    {
     "name": "stdout",
     "output_type": "stream",
     "text": [
      "101037/101037 [==============================] - 25s 251us/sample\n"
     ]
    }
   ],
   "source": [
    "# Make predictions on the Twitter dataset\n",
    "from tensorflow.keras.models import load_model\n",
    "\n",
    "# uncomment to use different saved model:\n",
    "model = load_model(\"data/models/model_twitter_only.h5\")\n",
    "#model = load_model(\"data/models/model_wiki_only.h5\")\n",
    "#model = load_model(\"data/models/model_wiki_and_twitter.h5\")\n",
    "\n",
    "tw_train_df, tw_test_df, twy_train, twy_test = train_test_split(twitter_df, twitter_y, test_size=0.25, random_state=42)\n",
    "tw_train, tw_val, twy_train, twy_val = train_test_split(twitter_tokenized, twitter_y, test_size=0.25, random_state=42)\n",
    "\n",
    "tw_test_df['IsResponseTweet'] = tw_test_df['TweetText'].apply(utils.is_response_tweet)\n",
    "tw_test_df['ToxicityProba'] = model.predict(tw_val, verbose=1, batch_size=1024)\n",
    "tw_test_df = tw_test_df.sort_values(by=['ToxicityProba'],ascending=False)\n",
    "response_tweets_df = tw_test_df[tw_test_df['IsResponseTweet']]"
   ]
  },
  {
   "cell_type": "code",
   "execution_count": 17,
   "metadata": {},
   "outputs": [
    {
     "name": "stdout",
     "output_type": "stream",
     "text": [
      "Top 500 deletion rate: 0.552\n",
      "Bottom 500 deletion rate: 0.04\n"
     ]
    }
   ],
   "source": [
    "# Asses performance on Twitter dataset\n",
    "n = 500\n",
    "print('Top', n, 'deletion rate:', response_tweets_df.head(n)['WasDeleted'].values.sum()/n)\n",
    "print('Bottom', n, 'deletion rate:', response_tweets_df.tail(n)['WasDeleted'].values.sum()/n)"
   ]
  },
  {
   "cell_type": "code",
   "execution_count": null,
   "metadata": {},
   "outputs": [],
   "source": []
  }
 ],
 "metadata": {
  "kernelspec": {
   "display_name": "Python 3",
   "language": "python",
   "name": "python3"
  },
  "language_info": {
   "codemirror_mode": {
    "name": "ipython",
    "version": 3
   },
   "file_extension": ".py",
   "mimetype": "text/x-python",
   "name": "python",
   "nbconvert_exporter": "python",
   "pygments_lexer": "ipython3",
   "version": "3.6.7"
  }
 },
 "nbformat": 4,
 "nbformat_minor": 2
}
