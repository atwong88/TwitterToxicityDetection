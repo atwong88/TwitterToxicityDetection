{
 "cells": [
  {
   "cell_type": "code",
   "execution_count": 166,
   "metadata": {},
   "outputs": [],
   "source": [
    "from sklearn.naive_bayes import MultinomialNB\n",
    "from sklearn.pipeline import Pipeline\n",
    "from sklearn.feature_extraction.text import CountVectorizer\n",
    "from sklearn.feature_extraction.text import TfidfTransformer\n",
    "import pandas as pd\n",
    "import numpy as np\n",
    "from keras.models import load_model\n",
    "%matplotlib inline"
   ]
  },
  {
   "cell_type": "code",
   "execution_count": 167,
   "metadata": {},
   "outputs": [],
   "source": [
    "text_clf = Pipeline([\n",
    "     ('vect', CountVectorizer()),\n",
    "     ('tfidf', TfidfTransformer()),\n",
    "     ('clf', MultinomialNB()),\n",
    "])\n",
    "\n",
    "model = load_model('data/models/PooledGRU-GloVe.h5')"
   ]
  },
  {
   "cell_type": "code",
   "execution_count": 168,
   "metadata": {},
   "outputs": [],
   "source": [
    "df = pd.read_csv('data/train.csv')"
   ]
  },
  {
   "cell_type": "code",
   "execution_count": 169,
   "metadata": {},
   "outputs": [],
   "source": [
    "X = df['comment_text']\n",
    "y = df['toxic']"
   ]
  },
  {
   "cell_type": "code",
   "execution_count": 170,
   "metadata": {},
   "outputs": [
    {
     "data": {
      "text/plain": [
       "Pipeline(memory=None,\n",
       "         steps=[('vect',\n",
       "                 CountVectorizer(analyzer='word', binary=False,\n",
       "                                 decode_error='strict',\n",
       "                                 dtype=<class 'numpy.int64'>, encoding='utf-8',\n",
       "                                 input='content', lowercase=True, max_df=1.0,\n",
       "                                 max_features=None, min_df=1,\n",
       "                                 ngram_range=(1, 1), preprocessor=None,\n",
       "                                 stop_words=None, strip_accents=None,\n",
       "                                 token_pattern='(?u)\\\\b\\\\w\\\\w+\\\\b',\n",
       "                                 tokenizer=None, vocabulary=None)),\n",
       "                ('tfidf',\n",
       "                 TfidfTransformer(norm='l2', smooth_idf=True,\n",
       "                                  sublinear_tf=False, use_idf=True)),\n",
       "                ('clf',\n",
       "                 MultinomialNB(alpha=1.0, class_prior=None, fit_prior=True))],\n",
       "         verbose=False)"
      ]
     },
     "execution_count": 170,
     "metadata": {},
     "output_type": "execute_result"
    }
   ],
   "source": [
    "text_clf.fit(X,y)"
   ]
  },
  {
   "cell_type": "code",
   "execution_count": 171,
   "metadata": {
    "scrolled": true
   },
   "outputs": [
    {
     "data": {
      "text/plain": [
       "array([1])"
      ]
     },
     "execution_count": 171,
     "metadata": {},
     "output_type": "execute_result"
    }
   ],
   "source": [
    "text_clf.predict(['you suck and I fucking hate you'])"
   ]
  },
  {
   "cell_type": "code",
   "execution_count": 172,
   "metadata": {},
   "outputs": [
    {
     "data": {
      "text/plain": [
       "array([[0.03838288, 0.96161712]])"
      ]
     },
     "execution_count": 172,
     "metadata": {},
     "output_type": "execute_result"
    }
   ],
   "source": [
    "text_clf.predict_proba(['you suck and I fucking hate you'])"
   ]
  },
  {
   "cell_type": "code",
   "execution_count": 173,
   "metadata": {},
   "outputs": [
    {
     "data": {
      "text/plain": [
       "array([[0.99748885, 0.00251115]])"
      ]
     },
     "execution_count": 173,
     "metadata": {},
     "output_type": "execute_result"
    }
   ],
   "source": [
    "text_clf.predict_proba(['that was great, thank you!'])"
   ]
  },
  {
   "cell_type": "code",
   "execution_count": 174,
   "metadata": {},
   "outputs": [
    {
     "data": {
      "text/plain": [
       "array([0])"
      ]
     },
     "execution_count": 174,
     "metadata": {},
     "output_type": "execute_result"
    }
   ],
   "source": [
    "text_clf.predict(['that was great, thank you!'])"
   ]
  },
  {
   "cell_type": "markdown",
   "metadata": {},
   "source": [
    "Test on sample twitter dataset"
   ]
  },
  {
   "cell_type": "code",
   "execution_count": 175,
   "metadata": {},
   "outputs": [],
   "source": [
    "from keras.preprocessing import text, sequence\n",
    "train = pd.read_csv('data/train.csv')\n",
    "test = pd.read_csv('data/test.csv')\n",
    "\n",
    "X_train = train[\"comment_text\"].fillna(\"fillna\").values\n",
    "X_test = test[\"comment_text\"].fillna(\"fillna\").values\n",
    "\n",
    "# Takes about 40 sec\n",
    "max_features = 30000\n",
    "maxlen = 100\n",
    "embed_size = 300\n",
    "tokenizer = text.Tokenizer(num_words=max_features)\n",
    "tokenizer.fit_on_texts(list(X_train) + list(X_test))"
   ]
  },
  {
   "cell_type": "code",
   "execution_count": 176,
   "metadata": {},
   "outputs": [],
   "source": [
    "twitter_df = pd.read_csv('data/sample_with_label.csv')\n",
    "twitter_text = twitter_df[\"TweetText\"].fillna(\"fillna\").values\n",
    "twitter_y = twitter_df[\"WasDeleted\"].fillna(\"fillna\").values\n",
    "twitter_tokenized = tokenizer.texts_to_sequences(twitter_text)\n",
    "twitter_tokenized = sequence.pad_sequences(twitter_tokenized, maxlen=maxlen)"
   ]
  },
  {
   "cell_type": "code",
   "execution_count": 177,
   "metadata": {},
   "outputs": [
    {
     "data": {
      "text/html": [
       "<div>\n",
       "<style scoped>\n",
       "    .dataframe tbody tr th:only-of-type {\n",
       "        vertical-align: middle;\n",
       "    }\n",
       "\n",
       "    .dataframe tbody tr th {\n",
       "        vertical-align: top;\n",
       "    }\n",
       "\n",
       "    .dataframe thead th {\n",
       "        text-align: right;\n",
       "    }\n",
       "</style>\n",
       "<table border=\"1\" class=\"dataframe\">\n",
       "  <thead>\n",
       "    <tr style=\"text-align: right;\">\n",
       "      <th></th>\n",
       "      <th>Index</th>\n",
       "      <th>TweetID</th>\n",
       "      <th>ScreenName</th>\n",
       "      <th>TweetText</th>\n",
       "      <th>TweetDateTime</th>\n",
       "      <th>Followers</th>\n",
       "      <th>UserID</th>\n",
       "      <th>WasDeleted</th>\n",
       "    </tr>\n",
       "  </thead>\n",
       "  <tbody>\n",
       "    <tr>\n",
       "      <td>0</td>\n",
       "      <td>0</td>\n",
       "      <td>1244721273793646594</td>\n",
       "      <td>ShannePanne</td>\n",
       "      <td>b'Rhoa'</td>\n",
       "      <td>2020-03-30 20:20:52</td>\n",
       "      <td>287</td>\n",
       "      <td>990004076829200385</td>\n",
       "      <td>0</td>\n",
       "    </tr>\n",
       "    <tr>\n",
       "      <td>1</td>\n",
       "      <td>1</td>\n",
       "      <td>1244721275232301058</td>\n",
       "      <td>25_ShadesOfK</td>\n",
       "      <td>b'@HisTemp_TAYtion Lol I learned from that shi...</td>\n",
       "      <td>2020-03-30 20:20:52</td>\n",
       "      <td>1189</td>\n",
       "      <td>624244930</td>\n",
       "      <td>0</td>\n",
       "    </tr>\n",
       "    <tr>\n",
       "      <td>2</td>\n",
       "      <td>2</td>\n",
       "      <td>1244721275936878593</td>\n",
       "      <td>PlagueJesterSky</td>\n",
       "      <td>b'Trying to set up the stream and I keep getti...</td>\n",
       "      <td>2020-03-30 20:20:52</td>\n",
       "      <td>415</td>\n",
       "      <td>755613447702847488</td>\n",
       "      <td>0</td>\n",
       "    </tr>\n",
       "    <tr>\n",
       "      <td>3</td>\n",
       "      <td>3</td>\n",
       "      <td>1244721278650650624</td>\n",
       "      <td>spitbull1963</td>\n",
       "      <td>b'@EricksonReal @Ilhan And you can test as muc...</td>\n",
       "      <td>2020-03-30 20:20:53</td>\n",
       "      <td>16</td>\n",
       "      <td>47425986</td>\n",
       "      <td>0</td>\n",
       "    </tr>\n",
       "    <tr>\n",
       "      <td>4</td>\n",
       "      <td>4</td>\n",
       "      <td>1244721278931664896</td>\n",
       "      <td>kamanfrancis</td>\n",
       "      <td>b'Me taking notes for the future when I\\xe2\\x8...</td>\n",
       "      <td>2020-03-30 20:20:53</td>\n",
       "      <td>1928</td>\n",
       "      <td>269295980</td>\n",
       "      <td>0</td>\n",
       "    </tr>\n",
       "  </tbody>\n",
       "</table>\n",
       "</div>"
      ],
      "text/plain": [
       "   Index              TweetID       ScreenName  \\\n",
       "0      0  1244721273793646594      ShannePanne   \n",
       "1      1  1244721275232301058     25_ShadesOfK   \n",
       "2      2  1244721275936878593  PlagueJesterSky   \n",
       "3      3  1244721278650650624     spitbull1963   \n",
       "4      4  1244721278931664896     kamanfrancis   \n",
       "\n",
       "                                           TweetText        TweetDateTime  \\\n",
       "0                                            b'Rhoa'  2020-03-30 20:20:52   \n",
       "1  b'@HisTemp_TAYtion Lol I learned from that shi...  2020-03-30 20:20:52   \n",
       "2  b'Trying to set up the stream and I keep getti...  2020-03-30 20:20:52   \n",
       "3  b'@EricksonReal @Ilhan And you can test as muc...  2020-03-30 20:20:53   \n",
       "4  b'Me taking notes for the future when I\\xe2\\x8...  2020-03-30 20:20:53   \n",
       "\n",
       "   Followers              UserID  WasDeleted  \n",
       "0        287  990004076829200385           0  \n",
       "1       1189           624244930           0  \n",
       "2        415  755613447702847488           0  \n",
       "3         16            47425986           0  \n",
       "4       1928           269295980           0  "
      ]
     },
     "execution_count": 177,
     "metadata": {},
     "output_type": "execute_result"
    }
   ],
   "source": [
    "twitter_df = pd.read_csv('data/sample_with_label.csv')\n",
    "twitter_df.columns = ['Index','TweetID','ScreenName','TweetText','TweetDateTime','Followers','UserID','WasDeleted']\n",
    "twitter_df.head()\n"
   ]
  },
  {
   "cell_type": "code",
   "execution_count": 178,
   "metadata": {},
   "outputs": [],
   "source": [
    "from sklearn.model_selection import train_test_split\n",
    "tw_train, tw_test, twy_train, twy_test = train_test_split(twitter_tokenized, twitter_y, test_size=0.25, random_state=42)\n",
    "tw_train_df, tw_test_df, twy_train, twy_test = train_test_split(twitter_df, twitter_y, test_size=0.25, random_state=42)\n",
    "\n",
    "y_dummy = np.zeros((len(twy_train),6))\n",
    "y_dummy[:,0] = twy_train\n",
    "y_dummy[:,1] = twy_train\n",
    "y_dummy[:,2] = twy_train\n",
    "y_dummy[:,3] = twy_train\n",
    "y_dummy[:,4] = twy_train\n",
    "y_dummy[:,5] = twy_train"
   ]
  },
  {
   "cell_type": "code",
   "execution_count": 179,
   "metadata": {},
   "outputs": [
    {
     "name": "stdout",
     "output_type": "stream",
     "text": [
      "Train on 18773 samples, validate on 3313 samples\n",
      "Epoch 1/2\n",
      "18773/18773 [==============================] - 119s 6ms/step - loss: 0.3089 - accuracy: 0.9083 - val_loss: 0.3157 - val_accuracy: 0.9013\n",
      "Epoch 2/2\n",
      "18773/18773 [==============================] - 112s 6ms/step - loss: 0.2726 - accuracy: 0.9105 - val_loss: 0.3403 - val_accuracy: 0.9029\n"
     ]
    }
   ],
   "source": [
    "hist = model.fit(tw_train, y_dummy, batch_size=32, epochs=2, validation_split=0.15 ,verbose=1)"
   ]
  },
  {
   "cell_type": "code",
   "execution_count": 180,
   "metadata": {},
   "outputs": [
    {
     "name": "stderr",
     "output_type": "stream",
     "text": [
      "/home/martin/anaconda3/lib/python3.7/site-packages/ipykernel_launcher.py:1: SettingWithCopyWarning: \n",
      "A value is trying to be set on a copy of a slice from a DataFrame.\n",
      "Try using .loc[row_indexer,col_indexer] = value instead\n",
      "\n",
      "See the caveats in the documentation: http://pandas.pydata.org/pandas-docs/stable/user_guide/indexing.html#returning-a-view-versus-a-copy\n",
      "  \"\"\"Entry point for launching an IPython kernel.\n"
     ]
    },
    {
     "name": "stdout",
     "output_type": "stream",
     "text": [
      "7363/7363 [==============================] - 5s 681us/step\n"
     ]
    },
    {
     "name": "stderr",
     "output_type": "stream",
     "text": [
      "/home/martin/anaconda3/lib/python3.7/site-packages/ipykernel_launcher.py:2: SettingWithCopyWarning: \n",
      "A value is trying to be set on a copy of a slice from a DataFrame.\n",
      "Try using .loc[row_indexer,col_indexer] = value instead\n",
      "\n",
      "See the caveats in the documentation: http://pandas.pydata.org/pandas-docs/stable/user_guide/indexing.html#returning-a-view-versus-a-copy\n",
      "  \n"
     ]
    }
   ],
   "source": [
    "tw_test_df['ToxicityProba'] = text_clf.predict_proba(tw_test_text['TweetText'])[:,1]\n",
    "tw_test_df['ToxicityProba2'] = model.predict(tw_test, verbose=1)[:,1]"
   ]
  },
  {
   "cell_type": "code",
   "execution_count": 181,
   "metadata": {},
   "outputs": [
    {
     "data": {
      "text/html": [
       "<div>\n",
       "<style scoped>\n",
       "    .dataframe tbody tr th:only-of-type {\n",
       "        vertical-align: middle;\n",
       "    }\n",
       "\n",
       "    .dataframe tbody tr th {\n",
       "        vertical-align: top;\n",
       "    }\n",
       "\n",
       "    .dataframe thead th {\n",
       "        text-align: right;\n",
       "    }\n",
       "</style>\n",
       "<table border=\"1\" class=\"dataframe\">\n",
       "  <thead>\n",
       "    <tr style=\"text-align: right;\">\n",
       "      <th></th>\n",
       "      <th>Index</th>\n",
       "      <th>TweetID</th>\n",
       "      <th>ScreenName</th>\n",
       "      <th>TweetText</th>\n",
       "      <th>TweetDateTime</th>\n",
       "      <th>Followers</th>\n",
       "      <th>UserID</th>\n",
       "      <th>WasDeleted</th>\n",
       "      <th>ToxicityProba</th>\n",
       "      <th>ToxicityProba2</th>\n",
       "    </tr>\n",
       "  </thead>\n",
       "  <tbody>\n",
       "    <tr>\n",
       "      <td>7467</td>\n",
       "      <td>7467</td>\n",
       "      <td>1244726700241489921</td>\n",
       "      <td>CUILLINNN</td>\n",
       "      <td>b'@MrBarrymore Barrynomore do you still need t...</td>\n",
       "      <td>2020-03-30 20:42:25</td>\n",
       "      <td>4</td>\n",
       "      <td>214188916</td>\n",
       "      <td>0</td>\n",
       "      <td>0.002716</td>\n",
       "      <td>0.041373</td>\n",
       "    </tr>\n",
       "    <tr>\n",
       "      <td>14494</td>\n",
       "      <td>14494</td>\n",
       "      <td>1244731348843184128</td>\n",
       "      <td>aobamoca</td>\n",
       "      <td>b'can\\xe2\\x80\\x99t believe i made a friend ove...</td>\n",
       "      <td>2020-03-30 21:00:54</td>\n",
       "      <td>131</td>\n",
       "      <td>1080311886674124800</td>\n",
       "      <td>0</td>\n",
       "      <td>0.043622</td>\n",
       "      <td>0.024868</td>\n",
       "    </tr>\n",
       "    <tr>\n",
       "      <td>10157</td>\n",
       "      <td>10157</td>\n",
       "      <td>1244728506896060418</td>\n",
       "      <td>crespo_08</td>\n",
       "      <td>b'@ardillacuqui Yo por hoy ya he tenido sufici...</td>\n",
       "      <td>2020-03-30 20:49:36</td>\n",
       "      <td>196</td>\n",
       "      <td>3747451583</td>\n",
       "      <td>0</td>\n",
       "      <td>0.326248</td>\n",
       "      <td>0.014255</td>\n",
       "    </tr>\n",
       "    <tr>\n",
       "      <td>16262</td>\n",
       "      <td>16262</td>\n",
       "      <td>1244732433297215491</td>\n",
       "      <td>anfuaruuu</td>\n",
       "      <td>b\"just scrolled through some ppl's pages and i...</td>\n",
       "      <td>2020-03-30 21:05:12</td>\n",
       "      <td>72</td>\n",
       "      <td>101923117</td>\n",
       "      <td>0</td>\n",
       "      <td>0.169993</td>\n",
       "      <td>0.173239</td>\n",
       "    </tr>\n",
       "    <tr>\n",
       "      <td>16367</td>\n",
       "      <td>16367</td>\n",
       "      <td>1244732492768313345</td>\n",
       "      <td>JstMeMyslfNTy</td>\n",
       "      <td>b\"I hit you up almost everyday to ask you how ...</td>\n",
       "      <td>2020-03-30 21:05:26</td>\n",
       "      <td>5</td>\n",
       "      <td>1159401755190411266</td>\n",
       "      <td>0</td>\n",
       "      <td>0.458037</td>\n",
       "      <td>0.048678</td>\n",
       "    </tr>\n",
       "    <tr>\n",
       "      <td>...</td>\n",
       "      <td>...</td>\n",
       "      <td>...</td>\n",
       "      <td>...</td>\n",
       "      <td>...</td>\n",
       "      <td>...</td>\n",
       "      <td>...</td>\n",
       "      <td>...</td>\n",
       "      <td>...</td>\n",
       "      <td>...</td>\n",
       "      <td>...</td>\n",
       "    </tr>\n",
       "    <tr>\n",
       "      <td>1574</td>\n",
       "      <td>1574</td>\n",
       "      <td>1244722872779780097</td>\n",
       "      <td>0DDYNUFF_</td>\n",
       "      <td>b'all three but :(('</td>\n",
       "      <td>2020-03-30 20:27:13</td>\n",
       "      <td>298</td>\n",
       "      <td>1216882530336550912</td>\n",
       "      <td>0</td>\n",
       "      <td>0.058502</td>\n",
       "      <td>0.010431</td>\n",
       "    </tr>\n",
       "    <tr>\n",
       "      <td>6815</td>\n",
       "      <td>6815</td>\n",
       "      <td>1244726284845973505</td>\n",
       "      <td>OsakaSan214</td>\n",
       "      <td>b'@EricHolthaus Main bread-earner in my family...</td>\n",
       "      <td>2020-03-30 20:40:46</td>\n",
       "      <td>25</td>\n",
       "      <td>2669126794</td>\n",
       "      <td>0</td>\n",
       "      <td>0.094359</td>\n",
       "      <td>0.018407</td>\n",
       "    </tr>\n",
       "    <tr>\n",
       "      <td>1349</td>\n",
       "      <td>1349</td>\n",
       "      <td>1244722703711567873</td>\n",
       "      <td>Go_Los</td>\n",
       "      <td>b'Why would you complain about dinner being co...</td>\n",
       "      <td>2020-03-30 20:26:33</td>\n",
       "      <td>869</td>\n",
       "      <td>70854688</td>\n",
       "      <td>0</td>\n",
       "      <td>0.004376</td>\n",
       "      <td>0.035078</td>\n",
       "    </tr>\n",
       "    <tr>\n",
       "      <td>27363</td>\n",
       "      <td>27363</td>\n",
       "      <td>1244738871549726721</td>\n",
       "      <td>BrummieBoy5</td>\n",
       "      <td>b'At the end of my bread bought last week, las...</td>\n",
       "      <td>2020-03-30 21:30:47</td>\n",
       "      <td>147</td>\n",
       "      <td>1196065943467810816</td>\n",
       "      <td>0</td>\n",
       "      <td>0.018272</td>\n",
       "      <td>0.015493</td>\n",
       "    </tr>\n",
       "    <tr>\n",
       "      <td>11216</td>\n",
       "      <td>11216</td>\n",
       "      <td>1244729215897022466</td>\n",
       "      <td>freeballbball1</td>\n",
       "      <td>b'@_maxsmall fuck man what are you wearing?'</td>\n",
       "      <td>2020-03-30 20:52:25</td>\n",
       "      <td>12427</td>\n",
       "      <td>1072807571461943298</td>\n",
       "      <td>0</td>\n",
       "      <td>0.738033</td>\n",
       "      <td>0.028171</td>\n",
       "    </tr>\n",
       "  </tbody>\n",
       "</table>\n",
       "<p>7363 rows × 10 columns</p>\n",
       "</div>"
      ],
      "text/plain": [
       "       Index              TweetID      ScreenName  \\\n",
       "7467    7467  1244726700241489921       CUILLINNN   \n",
       "14494  14494  1244731348843184128        aobamoca   \n",
       "10157  10157  1244728506896060418       crespo_08   \n",
       "16262  16262  1244732433297215491       anfuaruuu   \n",
       "16367  16367  1244732492768313345   JstMeMyslfNTy   \n",
       "...      ...                  ...             ...   \n",
       "1574    1574  1244722872779780097       0DDYNUFF_   \n",
       "6815    6815  1244726284845973505     OsakaSan214   \n",
       "1349    1349  1244722703711567873          Go_Los   \n",
       "27363  27363  1244738871549726721     BrummieBoy5   \n",
       "11216  11216  1244729215897022466  freeballbball1   \n",
       "\n",
       "                                               TweetText        TweetDateTime  \\\n",
       "7467   b'@MrBarrymore Barrynomore do you still need t...  2020-03-30 20:42:25   \n",
       "14494  b'can\\xe2\\x80\\x99t believe i made a friend ove...  2020-03-30 21:00:54   \n",
       "10157  b'@ardillacuqui Yo por hoy ya he tenido sufici...  2020-03-30 20:49:36   \n",
       "16262  b\"just scrolled through some ppl's pages and i...  2020-03-30 21:05:12   \n",
       "16367  b\"I hit you up almost everyday to ask you how ...  2020-03-30 21:05:26   \n",
       "...                                                  ...                  ...   \n",
       "1574                                b'all three but :(('  2020-03-30 20:27:13   \n",
       "6815   b'@EricHolthaus Main bread-earner in my family...  2020-03-30 20:40:46   \n",
       "1349   b'Why would you complain about dinner being co...  2020-03-30 20:26:33   \n",
       "27363  b'At the end of my bread bought last week, las...  2020-03-30 21:30:47   \n",
       "11216       b'@_maxsmall fuck man what are you wearing?'  2020-03-30 20:52:25   \n",
       "\n",
       "       Followers               UserID  WasDeleted  ToxicityProba  \\\n",
       "7467           4            214188916           0       0.002716   \n",
       "14494        131  1080311886674124800           0       0.043622   \n",
       "10157        196           3747451583           0       0.326248   \n",
       "16262         72            101923117           0       0.169993   \n",
       "16367          5  1159401755190411266           0       0.458037   \n",
       "...          ...                  ...         ...            ...   \n",
       "1574         298  1216882530336550912           0       0.058502   \n",
       "6815          25           2669126794           0       0.094359   \n",
       "1349         869             70854688           0       0.004376   \n",
       "27363        147  1196065943467810816           0       0.018272   \n",
       "11216      12427  1072807571461943298           0       0.738033   \n",
       "\n",
       "       ToxicityProba2  \n",
       "7467         0.041373  \n",
       "14494        0.024868  \n",
       "10157        0.014255  \n",
       "16262        0.173239  \n",
       "16367        0.048678  \n",
       "...               ...  \n",
       "1574         0.010431  \n",
       "6815         0.018407  \n",
       "1349         0.035078  \n",
       "27363        0.015493  \n",
       "11216        0.028171  \n",
       "\n",
       "[7363 rows x 10 columns]"
      ]
     },
     "execution_count": 181,
     "metadata": {},
     "output_type": "execute_result"
    }
   ],
   "source": [
    "tw_test_df"
   ]
  },
  {
   "cell_type": "code",
   "execution_count": 182,
   "metadata": {},
   "outputs": [
    {
     "data": {
      "text/html": [
       "<div>\n",
       "<style scoped>\n",
       "    .dataframe tbody tr th:only-of-type {\n",
       "        vertical-align: middle;\n",
       "    }\n",
       "\n",
       "    .dataframe tbody tr th {\n",
       "        vertical-align: top;\n",
       "    }\n",
       "\n",
       "    .dataframe thead th {\n",
       "        text-align: right;\n",
       "    }\n",
       "</style>\n",
       "<table border=\"1\" class=\"dataframe\">\n",
       "  <thead>\n",
       "    <tr style=\"text-align: right;\">\n",
       "      <th></th>\n",
       "      <th>Index</th>\n",
       "      <th>TweetID</th>\n",
       "      <th>ScreenName</th>\n",
       "      <th>TweetText</th>\n",
       "      <th>TweetDateTime</th>\n",
       "      <th>Followers</th>\n",
       "      <th>UserID</th>\n",
       "      <th>WasDeleted</th>\n",
       "      <th>ToxicityProba</th>\n",
       "      <th>ToxicityProba2</th>\n",
       "    </tr>\n",
       "  </thead>\n",
       "  <tbody>\n",
       "    <tr>\n",
       "      <td>14370</td>\n",
       "      <td>14370</td>\n",
       "      <td>1244731284062167043</td>\n",
       "      <td>userentry</td>\n",
       "      <td>b'@PacdWeu  Son of a bitch is Chinese... \\n\\nF...</td>\n",
       "      <td>2020-03-30 21:00:38</td>\n",
       "      <td>244</td>\n",
       "      <td>2296839540</td>\n",
       "      <td>1</td>\n",
       "      <td>0.025044</td>\n",
       "      <td>0.770924</td>\n",
       "    </tr>\n",
       "    <tr>\n",
       "      <td>6025</td>\n",
       "      <td>6025</td>\n",
       "      <td>1244725754148958216</td>\n",
       "      <td>renee_aziz</td>\n",
       "      <td>b'Retweet if you put me on my knees and fuck m...</td>\n",
       "      <td>2020-03-30 20:38:40</td>\n",
       "      <td>7</td>\n",
       "      <td>1244351220283736072</td>\n",
       "      <td>1</td>\n",
       "      <td>0.056965</td>\n",
       "      <td>0.721708</td>\n",
       "    </tr>\n",
       "    <tr>\n",
       "      <td>3222</td>\n",
       "      <td>3222</td>\n",
       "      <td>1244723937193242625</td>\n",
       "      <td>Shannon31436914</td>\n",
       "      <td>b'Retweet if you put me on my knees and fuck m...</td>\n",
       "      <td>2020-03-30 20:31:27</td>\n",
       "      <td>3</td>\n",
       "      <td>1244648438677024768</td>\n",
       "      <td>1</td>\n",
       "      <td>0.032908</td>\n",
       "      <td>0.721708</td>\n",
       "    </tr>\n",
       "    <tr>\n",
       "      <td>22485</td>\n",
       "      <td>22485</td>\n",
       "      <td>1244735968764026880</td>\n",
       "      <td>Candice96394784</td>\n",
       "      <td>b'Retweet if you put me on my knees and fuck m...</td>\n",
       "      <td>2020-03-30 21:19:15</td>\n",
       "      <td>0</td>\n",
       "      <td>1244716638559223810</td>\n",
       "      <td>1</td>\n",
       "      <td>0.095844</td>\n",
       "      <td>0.712123</td>\n",
       "    </tr>\n",
       "    <tr>\n",
       "      <td>8394</td>\n",
       "      <td>8394</td>\n",
       "      <td>1244727341282136067</td>\n",
       "      <td>userentry</td>\n",
       "      <td>b'@Mike_IMC Son of a bitch is Chinese... Fuck ...</td>\n",
       "      <td>2020-03-30 20:44:58</td>\n",
       "      <td>244</td>\n",
       "      <td>2296839540</td>\n",
       "      <td>1</td>\n",
       "      <td>0.054617</td>\n",
       "      <td>0.654580</td>\n",
       "    </tr>\n",
       "    <tr>\n",
       "      <td>12042</td>\n",
       "      <td>12042</td>\n",
       "      <td>1244729776927113224</td>\n",
       "      <td>aribigd</td>\n",
       "      <td>b'if you\\xe2\\x80\\x99re bored and horny and wan...</td>\n",
       "      <td>2020-03-30 20:54:39</td>\n",
       "      <td>158</td>\n",
       "      <td>1059172170201513984</td>\n",
       "      <td>1</td>\n",
       "      <td>0.045999</td>\n",
       "      <td>0.636272</td>\n",
       "    </tr>\n",
       "    <tr>\n",
       "      <td>18776</td>\n",
       "      <td>18776</td>\n",
       "      <td>1244733812422127617</td>\n",
       "      <td>aribigd</td>\n",
       "      <td>b'if you\\xe2\\x80\\x99re bored and horny and wan...</td>\n",
       "      <td>2020-03-30 21:10:41</td>\n",
       "      <td>159</td>\n",
       "      <td>1059172170201513984</td>\n",
       "      <td>1</td>\n",
       "      <td>0.029701</td>\n",
       "      <td>0.636272</td>\n",
       "    </tr>\n",
       "    <tr>\n",
       "      <td>5621</td>\n",
       "      <td>5621</td>\n",
       "      <td>1244725479598370821</td>\n",
       "      <td>aribigd</td>\n",
       "      <td>b'if you\\xe2\\x80\\x99re bored and horny and wan...</td>\n",
       "      <td>2020-03-30 20:37:34</td>\n",
       "      <td>158</td>\n",
       "      <td>1059172170201513984</td>\n",
       "      <td>1</td>\n",
       "      <td>0.014327</td>\n",
       "      <td>0.636272</td>\n",
       "    </tr>\n",
       "    <tr>\n",
       "      <td>15609</td>\n",
       "      <td>15609</td>\n",
       "      <td>1244732039766708229</td>\n",
       "      <td>aribigd</td>\n",
       "      <td>b'if you\\xe2\\x80\\x99re bored and horny and wan...</td>\n",
       "      <td>2020-03-30 21:03:38</td>\n",
       "      <td>158</td>\n",
       "      <td>1059172170201513984</td>\n",
       "      <td>1</td>\n",
       "      <td>0.095844</td>\n",
       "      <td>0.636272</td>\n",
       "    </tr>\n",
       "    <tr>\n",
       "      <td>2055</td>\n",
       "      <td>2055</td>\n",
       "      <td>1244723164749410304</td>\n",
       "      <td>RachelP50019129</td>\n",
       "      <td>b'Retweet if you want to fuck me in a tight as...</td>\n",
       "      <td>2020-03-30 20:28:22</td>\n",
       "      <td>0</td>\n",
       "      <td>1244677473293524999</td>\n",
       "      <td>0</td>\n",
       "      <td>0.202176</td>\n",
       "      <td>0.615601</td>\n",
       "    </tr>\n",
       "  </tbody>\n",
       "</table>\n",
       "</div>"
      ],
      "text/plain": [
       "       Index              TweetID       ScreenName  \\\n",
       "14370  14370  1244731284062167043        userentry   \n",
       "6025    6025  1244725754148958216       renee_aziz   \n",
       "3222    3222  1244723937193242625  Shannon31436914   \n",
       "22485  22485  1244735968764026880  Candice96394784   \n",
       "8394    8394  1244727341282136067        userentry   \n",
       "12042  12042  1244729776927113224          aribigd   \n",
       "18776  18776  1244733812422127617          aribigd   \n",
       "5621    5621  1244725479598370821          aribigd   \n",
       "15609  15609  1244732039766708229          aribigd   \n",
       "2055    2055  1244723164749410304  RachelP50019129   \n",
       "\n",
       "                                               TweetText        TweetDateTime  \\\n",
       "14370  b'@PacdWeu  Son of a bitch is Chinese... \\n\\nF...  2020-03-30 21:00:38   \n",
       "6025   b'Retweet if you put me on my knees and fuck m...  2020-03-30 20:38:40   \n",
       "3222   b'Retweet if you put me on my knees and fuck m...  2020-03-30 20:31:27   \n",
       "22485  b'Retweet if you put me on my knees and fuck m...  2020-03-30 21:19:15   \n",
       "8394   b'@Mike_IMC Son of a bitch is Chinese... Fuck ...  2020-03-30 20:44:58   \n",
       "12042  b'if you\\xe2\\x80\\x99re bored and horny and wan...  2020-03-30 20:54:39   \n",
       "18776  b'if you\\xe2\\x80\\x99re bored and horny and wan...  2020-03-30 21:10:41   \n",
       "5621   b'if you\\xe2\\x80\\x99re bored and horny and wan...  2020-03-30 20:37:34   \n",
       "15609  b'if you\\xe2\\x80\\x99re bored and horny and wan...  2020-03-30 21:03:38   \n",
       "2055   b'Retweet if you want to fuck me in a tight as...  2020-03-30 20:28:22   \n",
       "\n",
       "       Followers               UserID  WasDeleted  ToxicityProba  \\\n",
       "14370        244           2296839540           1       0.025044   \n",
       "6025           7  1244351220283736072           1       0.056965   \n",
       "3222           3  1244648438677024768           1       0.032908   \n",
       "22485          0  1244716638559223810           1       0.095844   \n",
       "8394         244           2296839540           1       0.054617   \n",
       "12042        158  1059172170201513984           1       0.045999   \n",
       "18776        159  1059172170201513984           1       0.029701   \n",
       "5621         158  1059172170201513984           1       0.014327   \n",
       "15609        158  1059172170201513984           1       0.095844   \n",
       "2055           0  1244677473293524999           0       0.202176   \n",
       "\n",
       "       ToxicityProba2  \n",
       "14370        0.770924  \n",
       "6025         0.721708  \n",
       "3222         0.721708  \n",
       "22485        0.712123  \n",
       "8394         0.654580  \n",
       "12042        0.636272  \n",
       "18776        0.636272  \n",
       "5621         0.636272  \n",
       "15609        0.636272  \n",
       "2055         0.615601  "
      ]
     },
     "execution_count": 182,
     "metadata": {},
     "output_type": "execute_result"
    }
   ],
   "source": [
    "tw_test_df = tw_test_df.sort_values(by=['ToxicityProba2'],ascending=False)\n",
    "tw_test_df.head(10)\n"
   ]
  },
  {
   "cell_type": "code",
   "execution_count": 183,
   "metadata": {},
   "outputs": [],
   "source": [
    "def is_response_tweet(tweet):\n",
    "    return '@' in tweet"
   ]
  },
  {
   "cell_type": "code",
   "execution_count": 184,
   "metadata": {},
   "outputs": [],
   "source": [
    "tw_test_df['IsResponseTweet'] = tw_test_df['TweetText'].apply(is_response_tweet)"
   ]
  },
  {
   "cell_type": "code",
   "execution_count": 185,
   "metadata": {},
   "outputs": [
    {
     "name": "stdout",
     "output_type": "stream",
     "text": [
      "(2909, 11)\n",
      "(7363, 11)\n",
      "(7363, 11)\n"
     ]
    }
   ],
   "source": [
    "response_tweets_df = tw_test_df[tw_test_df['IsResponseTweet']]\n",
    "print(response_tweets_df.shape)\n",
    "print(tw_test_df.shape)\n",
    "print(tw_test_df.shape)"
   ]
  },
  {
   "cell_type": "markdown",
   "metadata": {},
   "source": [
    "In the top 50 predicted toxic response tweets, 10% of them were deleted."
   ]
  },
  {
   "cell_type": "code",
   "execution_count": 186,
   "metadata": {},
   "outputs": [
    {
     "data": {
      "text/plain": [
       "0.32"
      ]
     },
     "execution_count": 186,
     "metadata": {},
     "output_type": "execute_result"
    }
   ],
   "source": [
    "response_tweets_df.head(50)['WasDeleted'].values.sum()/50"
   ]
  },
  {
   "cell_type": "markdown",
   "metadata": {},
   "source": [
    "By contrast, in the bottom 50 predicted toxic response tweets, 2% of them were deleted."
   ]
  },
  {
   "cell_type": "code",
   "execution_count": 187,
   "metadata": {},
   "outputs": [
    {
     "data": {
      "text/plain": [
       "0.06"
      ]
     },
     "execution_count": 187,
     "metadata": {},
     "output_type": "execute_result"
    }
   ],
   "source": [
    "response_tweets_df.tail(50)['WasDeleted'].values.sum()/50"
   ]
  },
  {
   "cell_type": "markdown",
   "metadata": {},
   "source": [
    "There are a lot of tweets with pornographic content that are getting deleted..."
   ]
  },
  {
   "cell_type": "code",
   "execution_count": 188,
   "metadata": {},
   "outputs": [
    {
     "data": {
      "text/html": [
       "<div>\n",
       "<style scoped>\n",
       "    .dataframe tbody tr th:only-of-type {\n",
       "        vertical-align: middle;\n",
       "    }\n",
       "\n",
       "    .dataframe tbody tr th {\n",
       "        vertical-align: top;\n",
       "    }\n",
       "\n",
       "    .dataframe thead th {\n",
       "        text-align: right;\n",
       "    }\n",
       "</style>\n",
       "<table border=\"1\" class=\"dataframe\">\n",
       "  <thead>\n",
       "    <tr style=\"text-align: right;\">\n",
       "      <th></th>\n",
       "      <th>Index</th>\n",
       "      <th>TweetID</th>\n",
       "      <th>ScreenName</th>\n",
       "      <th>TweetText</th>\n",
       "      <th>TweetDateTime</th>\n",
       "      <th>Followers</th>\n",
       "      <th>UserID</th>\n",
       "      <th>WasDeleted</th>\n",
       "      <th>ToxicityProba</th>\n",
       "      <th>ToxicityProba2</th>\n",
       "      <th>IsResponseTweet</th>\n",
       "    </tr>\n",
       "  </thead>\n",
       "  <tbody>\n",
       "    <tr>\n",
       "      <td>14370</td>\n",
       "      <td>14370</td>\n",
       "      <td>1244731284062167043</td>\n",
       "      <td>userentry</td>\n",
       "      <td>b'@PacdWeu  Son of a bitch is Chinese... \\n\\nF...</td>\n",
       "      <td>2020-03-30 21:00:38</td>\n",
       "      <td>244</td>\n",
       "      <td>2296839540</td>\n",
       "      <td>1</td>\n",
       "      <td>0.025044</td>\n",
       "      <td>0.770924</td>\n",
       "      <td>True</td>\n",
       "    </tr>\n",
       "    <tr>\n",
       "      <td>6025</td>\n",
       "      <td>6025</td>\n",
       "      <td>1244725754148958216</td>\n",
       "      <td>renee_aziz</td>\n",
       "      <td>b'Retweet if you put me on my knees and fuck m...</td>\n",
       "      <td>2020-03-30 20:38:40</td>\n",
       "      <td>7</td>\n",
       "      <td>1244351220283736072</td>\n",
       "      <td>1</td>\n",
       "      <td>0.056965</td>\n",
       "      <td>0.721708</td>\n",
       "      <td>False</td>\n",
       "    </tr>\n",
       "    <tr>\n",
       "      <td>3222</td>\n",
       "      <td>3222</td>\n",
       "      <td>1244723937193242625</td>\n",
       "      <td>Shannon31436914</td>\n",
       "      <td>b'Retweet if you put me on my knees and fuck m...</td>\n",
       "      <td>2020-03-30 20:31:27</td>\n",
       "      <td>3</td>\n",
       "      <td>1244648438677024768</td>\n",
       "      <td>1</td>\n",
       "      <td>0.032908</td>\n",
       "      <td>0.721708</td>\n",
       "      <td>False</td>\n",
       "    </tr>\n",
       "    <tr>\n",
       "      <td>22485</td>\n",
       "      <td>22485</td>\n",
       "      <td>1244735968764026880</td>\n",
       "      <td>Candice96394784</td>\n",
       "      <td>b'Retweet if you put me on my knees and fuck m...</td>\n",
       "      <td>2020-03-30 21:19:15</td>\n",
       "      <td>0</td>\n",
       "      <td>1244716638559223810</td>\n",
       "      <td>1</td>\n",
       "      <td>0.095844</td>\n",
       "      <td>0.712123</td>\n",
       "      <td>False</td>\n",
       "    </tr>\n",
       "    <tr>\n",
       "      <td>8394</td>\n",
       "      <td>8394</td>\n",
       "      <td>1244727341282136067</td>\n",
       "      <td>userentry</td>\n",
       "      <td>b'@Mike_IMC Son of a bitch is Chinese... Fuck ...</td>\n",
       "      <td>2020-03-30 20:44:58</td>\n",
       "      <td>244</td>\n",
       "      <td>2296839540</td>\n",
       "      <td>1</td>\n",
       "      <td>0.054617</td>\n",
       "      <td>0.654580</td>\n",
       "      <td>True</td>\n",
       "    </tr>\n",
       "  </tbody>\n",
       "</table>\n",
       "</div>"
      ],
      "text/plain": [
       "       Index              TweetID       ScreenName  \\\n",
       "14370  14370  1244731284062167043        userentry   \n",
       "6025    6025  1244725754148958216       renee_aziz   \n",
       "3222    3222  1244723937193242625  Shannon31436914   \n",
       "22485  22485  1244735968764026880  Candice96394784   \n",
       "8394    8394  1244727341282136067        userentry   \n",
       "\n",
       "                                               TweetText        TweetDateTime  \\\n",
       "14370  b'@PacdWeu  Son of a bitch is Chinese... \\n\\nF...  2020-03-30 21:00:38   \n",
       "6025   b'Retweet if you put me on my knees and fuck m...  2020-03-30 20:38:40   \n",
       "3222   b'Retweet if you put me on my knees and fuck m...  2020-03-30 20:31:27   \n",
       "22485  b'Retweet if you put me on my knees and fuck m...  2020-03-30 21:19:15   \n",
       "8394   b'@Mike_IMC Son of a bitch is Chinese... Fuck ...  2020-03-30 20:44:58   \n",
       "\n",
       "       Followers               UserID  WasDeleted  ToxicityProba  \\\n",
       "14370        244           2296839540           1       0.025044   \n",
       "6025           7  1244351220283736072           1       0.056965   \n",
       "3222           3  1244648438677024768           1       0.032908   \n",
       "22485          0  1244716638559223810           1       0.095844   \n",
       "8394         244           2296839540           1       0.054617   \n",
       "\n",
       "       ToxicityProba2  IsResponseTweet  \n",
       "14370        0.770924             True  \n",
       "6025         0.721708            False  \n",
       "3222         0.721708            False  \n",
       "22485        0.712123            False  \n",
       "8394         0.654580             True  "
      ]
     },
     "execution_count": 188,
     "metadata": {},
     "output_type": "execute_result"
    }
   ],
   "source": [
    "tw_test_df[tw_test_df['WasDeleted']==1].head(5)"
   ]
  },
  {
   "cell_type": "code",
   "execution_count": null,
   "metadata": {},
   "outputs": [],
   "source": []
  }
 ],
 "metadata": {
  "kernelspec": {
   "display_name": "Python 3",
   "language": "python",
   "name": "python3"
  },
  "language_info": {
   "codemirror_mode": {
    "name": "ipython",
    "version": 3
   },
   "file_extension": ".py",
   "mimetype": "text/x-python",
   "name": "python",
   "nbconvert_exporter": "python",
   "pygments_lexer": "ipython3",
   "version": "3.7.4"
  }
 },
 "nbformat": 4,
 "nbformat_minor": 4
}
