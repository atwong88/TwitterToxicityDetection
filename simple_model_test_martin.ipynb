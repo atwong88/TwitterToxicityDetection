{
 "cells": [
  {
   "cell_type": "code",
   "execution_count": 7,
   "metadata": {},
   "outputs": [],
   "source": [
    "from sklearn.naive_bayes import MultinomialNB\n",
    "from sklearn.pipeline import Pipeline\n",
    "from sklearn.feature_extraction.text import CountVectorizer\n",
    "from sklearn.feature_extraction.text import TfidfTransformer\n",
    "import pandas as pd\n",
    "import numpy as np\n",
    "from keras.models import load_model\n",
    "%matplotlib inline"
   ]
  },
  {
   "cell_type": "code",
   "execution_count": 8,
   "metadata": {},
   "outputs": [
    {
     "name": "stdout",
     "output_type": "stream",
     "text": [
      "WARNING:tensorflow:From /home/martin/anaconda3/lib/python3.7/site-packages/tensorflow_core/python/ops/resource_variable_ops.py:1630: calling BaseResourceVariable.__init__ (from tensorflow.python.ops.resource_variable_ops) with constraint is deprecated and will be removed in a future version.\n",
      "Instructions for updating:\n",
      "If using Keras pass *_constraint arguments to layers.\n",
      "WARNING:tensorflow:From /home/martin/anaconda3/lib/python3.7/site-packages/tensorflow_core/python/ops/nn_impl.py:183: where (from tensorflow.python.ops.array_ops) is deprecated and will be removed in a future version.\n",
      "Instructions for updating:\n",
      "Use tf.where in 2.0, which has the same broadcast rule as np.where\n",
      "WARNING:tensorflow:From /home/martin/anaconda3/lib/python3.7/site-packages/keras/backend/tensorflow_backend.py:422: The name tf.global_variables is deprecated. Please use tf.compat.v1.global_variables instead.\n",
      "\n"
     ]
    }
   ],
   "source": [
    "text_clf = Pipeline([\n",
    "     ('vect', CountVectorizer()),\n",
    "     ('tfidf', TfidfTransformer()),\n",
    "     ('clf', MultinomialNB()),\n",
    "])\n",
    "\n",
    "model = load_model('data/models/PooledGRU-GloVe.h5')"
   ]
  },
  {
   "cell_type": "code",
   "execution_count": 9,
   "metadata": {},
   "outputs": [],
   "source": [
    "df = pd.read_csv('data/train.csv')"
   ]
  },
  {
   "cell_type": "code",
   "execution_count": 10,
   "metadata": {},
   "outputs": [],
   "source": [
    "X = df['comment_text']\n",
    "y = df['toxic']"
   ]
  },
  {
   "cell_type": "code",
   "execution_count": 12,
   "metadata": {},
   "outputs": [
    {
     "data": {
      "text/plain": [
       "Pipeline(memory=None,\n",
       "         steps=[('vect',\n",
       "                 CountVectorizer(analyzer='word', binary=False,\n",
       "                                 decode_error='strict',\n",
       "                                 dtype=<class 'numpy.int64'>, encoding='utf-8',\n",
       "                                 input='content', lowercase=True, max_df=1.0,\n",
       "                                 max_features=None, min_df=1,\n",
       "                                 ngram_range=(1, 1), preprocessor=None,\n",
       "                                 stop_words=None, strip_accents=None,\n",
       "                                 token_pattern='(?u)\\\\b\\\\w\\\\w+\\\\b',\n",
       "                                 tokenizer=None, vocabulary=None)),\n",
       "                ('tfidf',\n",
       "                 TfidfTransformer(norm='l2', smooth_idf=True,\n",
       "                                  sublinear_tf=False, use_idf=True)),\n",
       "                ('clf',\n",
       "                 MultinomialNB(alpha=1.0, class_prior=None, fit_prior=True))],\n",
       "         verbose=False)"
      ]
     },
     "execution_count": 12,
     "metadata": {},
     "output_type": "execute_result"
    }
   ],
   "source": [
    "text_clf.fit(X,y)"
   ]
  },
  {
   "cell_type": "code",
   "execution_count": 13,
   "metadata": {
    "scrolled": true
   },
   "outputs": [
    {
     "data": {
      "text/plain": [
       "array([1])"
      ]
     },
     "execution_count": 13,
     "metadata": {},
     "output_type": "execute_result"
    }
   ],
   "source": [
    "text_clf.predict(['you suck and I fucking hate you'])"
   ]
  },
  {
   "cell_type": "code",
   "execution_count": 14,
   "metadata": {},
   "outputs": [
    {
     "data": {
      "text/plain": [
       "array([[0.03838288, 0.96161712]])"
      ]
     },
     "execution_count": 14,
     "metadata": {},
     "output_type": "execute_result"
    }
   ],
   "source": [
    "text_clf.predict_proba(['you suck and I fucking hate you'])"
   ]
  },
  {
   "cell_type": "code",
   "execution_count": 15,
   "metadata": {},
   "outputs": [
    {
     "data": {
      "text/plain": [
       "array([[0.99748885, 0.00251115]])"
      ]
     },
     "execution_count": 15,
     "metadata": {},
     "output_type": "execute_result"
    }
   ],
   "source": [
    "text_clf.predict_proba(['that was great, thank you!'])"
   ]
  },
  {
   "cell_type": "code",
   "execution_count": 21,
   "metadata": {},
   "outputs": [
    {
     "data": {
      "text/plain": [
       "array([0])"
      ]
     },
     "execution_count": 21,
     "metadata": {},
     "output_type": "execute_result"
    }
   ],
   "source": [
    "text_clf.predict(['that was great, thank you!'])"
   ]
  },
  {
   "cell_type": "markdown",
   "metadata": {},
   "source": [
    "Test on sample twitter dataset"
   ]
  },
  {
   "cell_type": "code",
   "execution_count": 56,
   "metadata": {},
   "outputs": [],
   "source": [
    "from keras.preprocessing import text, sequence\n",
    "train = pd.read_csv('data/train.csv')\n",
    "test = pd.read_csv('data/test.csv')\n",
    "\n",
    "X_train = train[\"comment_text\"].fillna(\"fillna\").values\n",
    "X_test = test[\"comment_text\"].fillna(\"fillna\").values\n",
    "tokenizer.fit_on_texts(list(X_train) + list(X_test))\n",
    "\n",
    "# Takes about 40 sec\n",
    "max_features = 30000\n",
    "maxlen = 100\n",
    "embed_size = 300\n",
    "tokenizer = text.Tokenizer(num_words=max_features)"
   ]
  },
  {
   "cell_type": "code",
   "execution_count": 32,
   "metadata": {},
   "outputs": [],
   "source": [
    "twitter_df = pd.read_csv('data/sample_with_label.csv')\n",
    "twitter_text = twitter_df[\"TweetText\"].fillna(\"fillna\").values\n",
    "twitter_tokenized = tokenizer.texts_to_sequences(twitter_text)\n",
    "twitter_tokenized = sequence.pad_sequences(twitter_tokenized, maxlen=maxlen)"
   ]
  },
  {
   "cell_type": "code",
   "execution_count": 33,
   "metadata": {},
   "outputs": [
    {
     "data": {
      "text/html": [
       "<div>\n",
       "<style scoped>\n",
       "    .dataframe tbody tr th:only-of-type {\n",
       "        vertical-align: middle;\n",
       "    }\n",
       "\n",
       "    .dataframe tbody tr th {\n",
       "        vertical-align: top;\n",
       "    }\n",
       "\n",
       "    .dataframe thead th {\n",
       "        text-align: right;\n",
       "    }\n",
       "</style>\n",
       "<table border=\"1\" class=\"dataframe\">\n",
       "  <thead>\n",
       "    <tr style=\"text-align: right;\">\n",
       "      <th></th>\n",
       "      <th>Index</th>\n",
       "      <th>TweetID</th>\n",
       "      <th>ScreenName</th>\n",
       "      <th>TweetText</th>\n",
       "      <th>TweetDateTime</th>\n",
       "      <th>Followers</th>\n",
       "      <th>UserID</th>\n",
       "      <th>WasDeleted</th>\n",
       "    </tr>\n",
       "  </thead>\n",
       "  <tbody>\n",
       "    <tr>\n",
       "      <td>0</td>\n",
       "      <td>0</td>\n",
       "      <td>1244721273793646594</td>\n",
       "      <td>ShannePanne</td>\n",
       "      <td>b'Rhoa'</td>\n",
       "      <td>2020-03-30 20:20:52</td>\n",
       "      <td>287</td>\n",
       "      <td>990004076829200385</td>\n",
       "      <td>0</td>\n",
       "    </tr>\n",
       "    <tr>\n",
       "      <td>1</td>\n",
       "      <td>1</td>\n",
       "      <td>1244721275232301058</td>\n",
       "      <td>25_ShadesOfK</td>\n",
       "      <td>b'@HisTemp_TAYtion Lol I learned from that shi...</td>\n",
       "      <td>2020-03-30 20:20:52</td>\n",
       "      <td>1189</td>\n",
       "      <td>624244930</td>\n",
       "      <td>0</td>\n",
       "    </tr>\n",
       "    <tr>\n",
       "      <td>2</td>\n",
       "      <td>2</td>\n",
       "      <td>1244721275936878593</td>\n",
       "      <td>PlagueJesterSky</td>\n",
       "      <td>b'Trying to set up the stream and I keep getti...</td>\n",
       "      <td>2020-03-30 20:20:52</td>\n",
       "      <td>415</td>\n",
       "      <td>755613447702847488</td>\n",
       "      <td>0</td>\n",
       "    </tr>\n",
       "    <tr>\n",
       "      <td>3</td>\n",
       "      <td>3</td>\n",
       "      <td>1244721278650650624</td>\n",
       "      <td>spitbull1963</td>\n",
       "      <td>b'@EricksonReal @Ilhan And you can test as muc...</td>\n",
       "      <td>2020-03-30 20:20:53</td>\n",
       "      <td>16</td>\n",
       "      <td>47425986</td>\n",
       "      <td>0</td>\n",
       "    </tr>\n",
       "    <tr>\n",
       "      <td>4</td>\n",
       "      <td>4</td>\n",
       "      <td>1244721278931664896</td>\n",
       "      <td>kamanfrancis</td>\n",
       "      <td>b'Me taking notes for the future when I\\xe2\\x8...</td>\n",
       "      <td>2020-03-30 20:20:53</td>\n",
       "      <td>1928</td>\n",
       "      <td>269295980</td>\n",
       "      <td>0</td>\n",
       "    </tr>\n",
       "  </tbody>\n",
       "</table>\n",
       "</div>"
      ],
      "text/plain": [
       "   Index              TweetID       ScreenName  \\\n",
       "0      0  1244721273793646594      ShannePanne   \n",
       "1      1  1244721275232301058     25_ShadesOfK   \n",
       "2      2  1244721275936878593  PlagueJesterSky   \n",
       "3      3  1244721278650650624     spitbull1963   \n",
       "4      4  1244721278931664896     kamanfrancis   \n",
       "\n",
       "                                           TweetText        TweetDateTime  \\\n",
       "0                                            b'Rhoa'  2020-03-30 20:20:52   \n",
       "1  b'@HisTemp_TAYtion Lol I learned from that shi...  2020-03-30 20:20:52   \n",
       "2  b'Trying to set up the stream and I keep getti...  2020-03-30 20:20:52   \n",
       "3  b'@EricksonReal @Ilhan And you can test as muc...  2020-03-30 20:20:53   \n",
       "4  b'Me taking notes for the future when I\\xe2\\x8...  2020-03-30 20:20:53   \n",
       "\n",
       "   Followers              UserID  WasDeleted  \n",
       "0        287  990004076829200385           0  \n",
       "1       1189           624244930           0  \n",
       "2        415  755613447702847488           0  \n",
       "3         16            47425986           0  \n",
       "4       1928           269295980           0  "
      ]
     },
     "execution_count": 33,
     "metadata": {},
     "output_type": "execute_result"
    }
   ],
   "source": [
    "twitter_df = pd.read_csv('data/sample_with_label.csv')\n",
    "twitter_df.columns = ['Index','TweetID','ScreenName','TweetText','TweetDateTime','Followers','UserID','WasDeleted']\n",
    "twitter_df.head()\n"
   ]
  },
  {
   "cell_type": "code",
   "execution_count": 35,
   "metadata": {},
   "outputs": [
    {
     "name": "stdout",
     "output_type": "stream",
     "text": [
      "29449/29449 [==============================] - 16s 535us/step\n"
     ]
    }
   ],
   "source": [
    "twitter_df['ToxicityProba'] = text_clf.predict_proba(twitter_df['TweetText'])[:,1]\n",
    "twitter_df['ToxicityProba2'] = model.predict(twitter_tokenized, verbose=1)[:,1]"
   ]
  },
  {
   "cell_type": "code",
   "execution_count": 36,
   "metadata": {},
   "outputs": [
    {
     "data": {
      "text/html": [
       "<div>\n",
       "<style scoped>\n",
       "    .dataframe tbody tr th:only-of-type {\n",
       "        vertical-align: middle;\n",
       "    }\n",
       "\n",
       "    .dataframe tbody tr th {\n",
       "        vertical-align: top;\n",
       "    }\n",
       "\n",
       "    .dataframe thead th {\n",
       "        text-align: right;\n",
       "    }\n",
       "</style>\n",
       "<table border=\"1\" class=\"dataframe\">\n",
       "  <thead>\n",
       "    <tr style=\"text-align: right;\">\n",
       "      <th></th>\n",
       "      <th>Index</th>\n",
       "      <th>TweetID</th>\n",
       "      <th>ScreenName</th>\n",
       "      <th>TweetText</th>\n",
       "      <th>TweetDateTime</th>\n",
       "      <th>Followers</th>\n",
       "      <th>UserID</th>\n",
       "      <th>WasDeleted</th>\n",
       "      <th>ToxicityProba</th>\n",
       "      <th>ToxicityProba2</th>\n",
       "    </tr>\n",
       "  </thead>\n",
       "  <tbody>\n",
       "    <tr>\n",
       "      <td>0</td>\n",
       "      <td>0</td>\n",
       "      <td>1244721273793646594</td>\n",
       "      <td>ShannePanne</td>\n",
       "      <td>b'Rhoa'</td>\n",
       "      <td>2020-03-30 20:20:52</td>\n",
       "      <td>287</td>\n",
       "      <td>990004076829200385</td>\n",
       "      <td>0</td>\n",
       "      <td>0.095844</td>\n",
       "      <td>0.000467</td>\n",
       "    </tr>\n",
       "    <tr>\n",
       "      <td>1</td>\n",
       "      <td>1</td>\n",
       "      <td>1244721275232301058</td>\n",
       "      <td>25_ShadesOfK</td>\n",
       "      <td>b'@HisTemp_TAYtion Lol I learned from that shi...</td>\n",
       "      <td>2020-03-30 20:20:52</td>\n",
       "      <td>1189</td>\n",
       "      <td>624244930</td>\n",
       "      <td>0</td>\n",
       "      <td>0.175892</td>\n",
       "      <td>0.129259</td>\n",
       "    </tr>\n",
       "    <tr>\n",
       "      <td>2</td>\n",
       "      <td>2</td>\n",
       "      <td>1244721275936878593</td>\n",
       "      <td>PlagueJesterSky</td>\n",
       "      <td>b'Trying to set up the stream and I keep getti...</td>\n",
       "      <td>2020-03-30 20:20:52</td>\n",
       "      <td>415</td>\n",
       "      <td>755613447702847488</td>\n",
       "      <td>0</td>\n",
       "      <td>0.001030</td>\n",
       "      <td>0.006538</td>\n",
       "    </tr>\n",
       "    <tr>\n",
       "      <td>3</td>\n",
       "      <td>3</td>\n",
       "      <td>1244721278650650624</td>\n",
       "      <td>spitbull1963</td>\n",
       "      <td>b'@EricksonReal @Ilhan And you can test as muc...</td>\n",
       "      <td>2020-03-30 20:20:53</td>\n",
       "      <td>16</td>\n",
       "      <td>47425986</td>\n",
       "      <td>0</td>\n",
       "      <td>0.003514</td>\n",
       "      <td>0.030122</td>\n",
       "    </tr>\n",
       "    <tr>\n",
       "      <td>4</td>\n",
       "      <td>4</td>\n",
       "      <td>1244721278931664896</td>\n",
       "      <td>kamanfrancis</td>\n",
       "      <td>b'Me taking notes for the future when I\\xe2\\x8...</td>\n",
       "      <td>2020-03-30 20:20:53</td>\n",
       "      <td>1928</td>\n",
       "      <td>269295980</td>\n",
       "      <td>0</td>\n",
       "      <td>0.004717</td>\n",
       "      <td>0.000100</td>\n",
       "    </tr>\n",
       "    <tr>\n",
       "      <td>...</td>\n",
       "      <td>...</td>\n",
       "      <td>...</td>\n",
       "      <td>...</td>\n",
       "      <td>...</td>\n",
       "      <td>...</td>\n",
       "      <td>...</td>\n",
       "      <td>...</td>\n",
       "      <td>...</td>\n",
       "      <td>...</td>\n",
       "      <td>...</td>\n",
       "    </tr>\n",
       "    <tr>\n",
       "      <td>29444</td>\n",
       "      <td>29444</td>\n",
       "      <td>1244740153874223109</td>\n",
       "      <td>rSakirs</td>\n",
       "      <td>b'@Mertipekcix Ve bu ki\\xc5\\x9filerin \\xc3\\xa7...</td>\n",
       "      <td>2020-03-30 21:35:53</td>\n",
       "      <td>690</td>\n",
       "      <td>1238135533202702336</td>\n",
       "      <td>1</td>\n",
       "      <td>0.344168</td>\n",
       "      <td>0.221701</td>\n",
       "    </tr>\n",
       "    <tr>\n",
       "      <td>29445</td>\n",
       "      <td>29445</td>\n",
       "      <td>1244740154981580800</td>\n",
       "      <td>lostboyale</td>\n",
       "      <td>b'Only the girls with onlyfans making bread rn...</td>\n",
       "      <td>2020-03-30 21:35:53</td>\n",
       "      <td>209</td>\n",
       "      <td>713132404454633472</td>\n",
       "      <td>0</td>\n",
       "      <td>0.017807</td>\n",
       "      <td>0.000515</td>\n",
       "    </tr>\n",
       "    <tr>\n",
       "      <td>29446</td>\n",
       "      <td>29446</td>\n",
       "      <td>1244740160522076160</td>\n",
       "      <td>queensierra_rox</td>\n",
       "      <td>b'@ForlornJunkHeap @brujahistorica Serena shov...</td>\n",
       "      <td>2020-03-30 21:35:55</td>\n",
       "      <td>130</td>\n",
       "      <td>2828784699</td>\n",
       "      <td>0</td>\n",
       "      <td>0.036084</td>\n",
       "      <td>0.000795</td>\n",
       "    </tr>\n",
       "    <tr>\n",
       "      <td>29447</td>\n",
       "      <td>29447</td>\n",
       "      <td>1244740161197543430</td>\n",
       "      <td>vrepitsash</td>\n",
       "      <td>b'@5SOS #ASK5SOS #5SOSCALM whos your favorite ...</td>\n",
       "      <td>2020-03-30 21:35:55</td>\n",
       "      <td>1794</td>\n",
       "      <td>2806244672</td>\n",
       "      <td>0</td>\n",
       "      <td>0.029545</td>\n",
       "      <td>0.000558</td>\n",
       "    </tr>\n",
       "    <tr>\n",
       "      <td>29448</td>\n",
       "      <td>29448</td>\n",
       "      <td>1244740161646231552</td>\n",
       "      <td>steveanthat</td>\n",
       "      <td>b\"@zionone11 @torqueaboutit nothing will go do...</td>\n",
       "      <td>2020-03-30 21:35:55</td>\n",
       "      <td>5</td>\n",
       "      <td>1239680344284160000</td>\n",
       "      <td>0</td>\n",
       "      <td>0.030796</td>\n",
       "      <td>0.041153</td>\n",
       "    </tr>\n",
       "  </tbody>\n",
       "</table>\n",
       "<p>29449 rows × 10 columns</p>\n",
       "</div>"
      ],
      "text/plain": [
       "       Index              TweetID       ScreenName  \\\n",
       "0          0  1244721273793646594      ShannePanne   \n",
       "1          1  1244721275232301058     25_ShadesOfK   \n",
       "2          2  1244721275936878593  PlagueJesterSky   \n",
       "3          3  1244721278650650624     spitbull1963   \n",
       "4          4  1244721278931664896     kamanfrancis   \n",
       "...      ...                  ...              ...   \n",
       "29444  29444  1244740153874223109          rSakirs   \n",
       "29445  29445  1244740154981580800       lostboyale   \n",
       "29446  29446  1244740160522076160  queensierra_rox   \n",
       "29447  29447  1244740161197543430       vrepitsash   \n",
       "29448  29448  1244740161646231552      steveanthat   \n",
       "\n",
       "                                               TweetText        TweetDateTime  \\\n",
       "0                                                b'Rhoa'  2020-03-30 20:20:52   \n",
       "1      b'@HisTemp_TAYtion Lol I learned from that shi...  2020-03-30 20:20:52   \n",
       "2      b'Trying to set up the stream and I keep getti...  2020-03-30 20:20:52   \n",
       "3      b'@EricksonReal @Ilhan And you can test as muc...  2020-03-30 20:20:53   \n",
       "4      b'Me taking notes for the future when I\\xe2\\x8...  2020-03-30 20:20:53   \n",
       "...                                                  ...                  ...   \n",
       "29444  b'@Mertipekcix Ve bu ki\\xc5\\x9filerin \\xc3\\xa7...  2020-03-30 21:35:53   \n",
       "29445  b'Only the girls with onlyfans making bread rn...  2020-03-30 21:35:53   \n",
       "29446  b'@ForlornJunkHeap @brujahistorica Serena shov...  2020-03-30 21:35:55   \n",
       "29447  b'@5SOS #ASK5SOS #5SOSCALM whos your favorite ...  2020-03-30 21:35:55   \n",
       "29448  b\"@zionone11 @torqueaboutit nothing will go do...  2020-03-30 21:35:55   \n",
       "\n",
       "       Followers               UserID  WasDeleted  ToxicityProba  \\\n",
       "0            287   990004076829200385           0       0.095844   \n",
       "1           1189            624244930           0       0.175892   \n",
       "2            415   755613447702847488           0       0.001030   \n",
       "3             16             47425986           0       0.003514   \n",
       "4           1928            269295980           0       0.004717   \n",
       "...          ...                  ...         ...            ...   \n",
       "29444        690  1238135533202702336           1       0.344168   \n",
       "29445        209   713132404454633472           0       0.017807   \n",
       "29446        130           2828784699           0       0.036084   \n",
       "29447       1794           2806244672           0       0.029545   \n",
       "29448          5  1239680344284160000           0       0.030796   \n",
       "\n",
       "       ToxicityProba2  \n",
       "0            0.000467  \n",
       "1            0.129259  \n",
       "2            0.006538  \n",
       "3            0.030122  \n",
       "4            0.000100  \n",
       "...               ...  \n",
       "29444        0.221701  \n",
       "29445        0.000515  \n",
       "29446        0.000795  \n",
       "29447        0.000558  \n",
       "29448        0.041153  \n",
       "\n",
       "[29449 rows x 10 columns]"
      ]
     },
     "execution_count": 36,
     "metadata": {},
     "output_type": "execute_result"
    }
   ],
   "source": [
    "twitter_df"
   ]
  },
  {
   "cell_type": "code",
   "execution_count": 37,
   "metadata": {},
   "outputs": [
    {
     "data": {
      "text/html": [
       "<div>\n",
       "<style scoped>\n",
       "    .dataframe tbody tr th:only-of-type {\n",
       "        vertical-align: middle;\n",
       "    }\n",
       "\n",
       "    .dataframe tbody tr th {\n",
       "        vertical-align: top;\n",
       "    }\n",
       "\n",
       "    .dataframe thead th {\n",
       "        text-align: right;\n",
       "    }\n",
       "</style>\n",
       "<table border=\"1\" class=\"dataframe\">\n",
       "  <thead>\n",
       "    <tr style=\"text-align: right;\">\n",
       "      <th></th>\n",
       "      <th>Index</th>\n",
       "      <th>TweetID</th>\n",
       "      <th>ScreenName</th>\n",
       "      <th>TweetText</th>\n",
       "      <th>TweetDateTime</th>\n",
       "      <th>Followers</th>\n",
       "      <th>UserID</th>\n",
       "      <th>WasDeleted</th>\n",
       "      <th>ToxicityProba</th>\n",
       "      <th>ToxicityProba2</th>\n",
       "    </tr>\n",
       "  </thead>\n",
       "  <tbody>\n",
       "    <tr>\n",
       "      <td>17205</td>\n",
       "      <td>17205</td>\n",
       "      <td>1244732947699294208</td>\n",
       "      <td>fanaticalgreed</td>\n",
       "      <td>b'\\xe3\\x85\\xa4\\xe2\\xa0\\x80\\xe2\\x9d\\x9b Fuck Fu...</td>\n",
       "      <td>2020-03-30 21:07:15</td>\n",
       "      <td>66</td>\n",
       "      <td>3084573958</td>\n",
       "      <td>0</td>\n",
       "      <td>0.995611</td>\n",
       "      <td>0.731721</td>\n",
       "    </tr>\n",
       "    <tr>\n",
       "      <td>27398</td>\n",
       "      <td>27398</td>\n",
       "      <td>1244738889706876933</td>\n",
       "      <td>bgfhcsehu</td>\n",
       "      <td>b'ion give a fuck who u got to back u up none ...</td>\n",
       "      <td>2020-03-30 21:30:52</td>\n",
       "      <td>83</td>\n",
       "      <td>1232048803550826505</td>\n",
       "      <td>0</td>\n",
       "      <td>0.943685</td>\n",
       "      <td>0.731442</td>\n",
       "    </tr>\n",
       "    <tr>\n",
       "      <td>24717</td>\n",
       "      <td>24717</td>\n",
       "      <td>1244737257942237190</td>\n",
       "      <td>MKRIZSA50</td>\n",
       "      <td>b'@POTUS \\nFUCK YOU FUCK YOUR LEADERSHIP FUCK ...</td>\n",
       "      <td>2020-03-30 21:24:23</td>\n",
       "      <td>5735</td>\n",
       "      <td>235395935</td>\n",
       "      <td>0</td>\n",
       "      <td>0.804390</td>\n",
       "      <td>0.723313</td>\n",
       "    </tr>\n",
       "    <tr>\n",
       "      <td>24244</td>\n",
       "      <td>24244</td>\n",
       "      <td>1244736966538772480</td>\n",
       "      <td>LeeUnused</td>\n",
       "      <td>b'@POTUS \\nFUCK YOU FUCK YOUR LEADERSHIP FUCK ...</td>\n",
       "      <td>2020-03-30 21:23:13</td>\n",
       "      <td>89</td>\n",
       "      <td>1178108263751192576</td>\n",
       "      <td>0</td>\n",
       "      <td>0.804390</td>\n",
       "      <td>0.723313</td>\n",
       "    </tr>\n",
       "    <tr>\n",
       "      <td>4479</td>\n",
       "      <td>4479</td>\n",
       "      <td>1244724707997319169</td>\n",
       "      <td>nayvsthewrld</td>\n",
       "      <td>b'@PDChina fuck you bitch ass slanted eyed ugl...</td>\n",
       "      <td>2020-03-30 20:34:30</td>\n",
       "      <td>4</td>\n",
       "      <td>1238617987457773568</td>\n",
       "      <td>0</td>\n",
       "      <td>0.882509</td>\n",
       "      <td>0.722949</td>\n",
       "    </tr>\n",
       "    <tr>\n",
       "      <td>17601</td>\n",
       "      <td>17601</td>\n",
       "      <td>1244733161248116736</td>\n",
       "      <td>ZyFi_</td>\n",
       "      <td>b'fuck you Kefla. Fuck you bitch #PS4share\\n\\n...</td>\n",
       "      <td>2020-03-30 21:08:06</td>\n",
       "      <td>97</td>\n",
       "      <td>1148424969623392256</td>\n",
       "      <td>0</td>\n",
       "      <td>0.587744</td>\n",
       "      <td>0.693825</td>\n",
       "    </tr>\n",
       "    <tr>\n",
       "      <td>21526</td>\n",
       "      <td>21526</td>\n",
       "      <td>1244735395432103936</td>\n",
       "      <td>annonfive</td>\n",
       "      <td>b'@h3h3productions @Idubbbz LOOOOOOL FUCK YOU,...</td>\n",
       "      <td>2020-03-30 21:16:58</td>\n",
       "      <td>16</td>\n",
       "      <td>1216197434273140737</td>\n",
       "      <td>0</td>\n",
       "      <td>0.943455</td>\n",
       "      <td>0.689548</td>\n",
       "    </tr>\n",
       "    <tr>\n",
       "      <td>22043</td>\n",
       "      <td>22043</td>\n",
       "      <td>1244735701264064514</td>\n",
       "      <td>_bitchbot</td>\n",
       "      <td>b\"fuck wood. wtf is teak? bitch I'll kill u\"</td>\n",
       "      <td>2020-03-30 21:18:11</td>\n",
       "      <td>37</td>\n",
       "      <td>745734920262328325</td>\n",
       "      <td>0</td>\n",
       "      <td>0.858434</td>\n",
       "      <td>0.686855</td>\n",
       "    </tr>\n",
       "    <tr>\n",
       "      <td>5680</td>\n",
       "      <td>5680</td>\n",
       "      <td>1244725529103740928</td>\n",
       "      <td>kiajewelz</td>\n",
       "      <td>b'If you\\xe2\\x80\\x99ll fuck one of yo nigga op...</td>\n",
       "      <td>2020-03-30 20:37:46</td>\n",
       "      <td>1572</td>\n",
       "      <td>727182571</td>\n",
       "      <td>0</td>\n",
       "      <td>0.637187</td>\n",
       "      <td>0.680801</td>\n",
       "    </tr>\n",
       "    <tr>\n",
       "      <td>11115</td>\n",
       "      <td>11115</td>\n",
       "      <td>1244729143297744898</td>\n",
       "      <td>mousetrap6731</td>\n",
       "      <td>b'@realDonaldTrump Go fuck yourself you orange...</td>\n",
       "      <td>2020-03-30 20:52:08</td>\n",
       "      <td>258</td>\n",
       "      <td>964929862535450624</td>\n",
       "      <td>0</td>\n",
       "      <td>0.752252</td>\n",
       "      <td>0.672395</td>\n",
       "    </tr>\n",
       "  </tbody>\n",
       "</table>\n",
       "</div>"
      ],
      "text/plain": [
       "       Index              TweetID      ScreenName  \\\n",
       "17205  17205  1244732947699294208  fanaticalgreed   \n",
       "27398  27398  1244738889706876933       bgfhcsehu   \n",
       "24717  24717  1244737257942237190       MKRIZSA50   \n",
       "24244  24244  1244736966538772480       LeeUnused   \n",
       "4479    4479  1244724707997319169    nayvsthewrld   \n",
       "17601  17601  1244733161248116736           ZyFi_   \n",
       "21526  21526  1244735395432103936       annonfive   \n",
       "22043  22043  1244735701264064514       _bitchbot   \n",
       "5680    5680  1244725529103740928       kiajewelz   \n",
       "11115  11115  1244729143297744898   mousetrap6731   \n",
       "\n",
       "                                               TweetText        TweetDateTime  \\\n",
       "17205  b'\\xe3\\x85\\xa4\\xe2\\xa0\\x80\\xe2\\x9d\\x9b Fuck Fu...  2020-03-30 21:07:15   \n",
       "27398  b'ion give a fuck who u got to back u up none ...  2020-03-30 21:30:52   \n",
       "24717  b'@POTUS \\nFUCK YOU FUCK YOUR LEADERSHIP FUCK ...  2020-03-30 21:24:23   \n",
       "24244  b'@POTUS \\nFUCK YOU FUCK YOUR LEADERSHIP FUCK ...  2020-03-30 21:23:13   \n",
       "4479   b'@PDChina fuck you bitch ass slanted eyed ugl...  2020-03-30 20:34:30   \n",
       "17601  b'fuck you Kefla. Fuck you bitch #PS4share\\n\\n...  2020-03-30 21:08:06   \n",
       "21526  b'@h3h3productions @Idubbbz LOOOOOOL FUCK YOU,...  2020-03-30 21:16:58   \n",
       "22043       b\"fuck wood. wtf is teak? bitch I'll kill u\"  2020-03-30 21:18:11   \n",
       "5680   b'If you\\xe2\\x80\\x99ll fuck one of yo nigga op...  2020-03-30 20:37:46   \n",
       "11115  b'@realDonaldTrump Go fuck yourself you orange...  2020-03-30 20:52:08   \n",
       "\n",
       "       Followers               UserID  WasDeleted  ToxicityProba  \\\n",
       "17205         66           3084573958           0       0.995611   \n",
       "27398         83  1232048803550826505           0       0.943685   \n",
       "24717       5735            235395935           0       0.804390   \n",
       "24244         89  1178108263751192576           0       0.804390   \n",
       "4479           4  1238617987457773568           0       0.882509   \n",
       "17601         97  1148424969623392256           0       0.587744   \n",
       "21526         16  1216197434273140737           0       0.943455   \n",
       "22043         37   745734920262328325           0       0.858434   \n",
       "5680        1572            727182571           0       0.637187   \n",
       "11115        258   964929862535450624           0       0.752252   \n",
       "\n",
       "       ToxicityProba2  \n",
       "17205        0.731721  \n",
       "27398        0.731442  \n",
       "24717        0.723313  \n",
       "24244        0.723313  \n",
       "4479         0.722949  \n",
       "17601        0.693825  \n",
       "21526        0.689548  \n",
       "22043        0.686855  \n",
       "5680         0.680801  \n",
       "11115        0.672395  "
      ]
     },
     "execution_count": 37,
     "metadata": {},
     "output_type": "execute_result"
    }
   ],
   "source": [
    "twitter_df = twitter_df.sort_values(by=['ToxicityProba2'],ascending=False)\n",
    "twitter_df.head(10)\n"
   ]
  },
  {
   "cell_type": "code",
   "execution_count": 68,
   "metadata": {},
   "outputs": [],
   "source": [
    "def is_response_tweet(tweet):\n",
    "    return '@' in tweet"
   ]
  },
  {
   "cell_type": "code",
   "execution_count": 39,
   "metadata": {},
   "outputs": [],
   "source": [
    "twitter_df['IsResponseTweet'] = twitter_df['TweetText'].apply(is_response_tweet)"
   ]
  },
  {
   "cell_type": "code",
   "execution_count": 40,
   "metadata": {},
   "outputs": [],
   "source": [
    "response_tweets_df = twitter_df[twitter_df['IsResponseTweet']]"
   ]
  },
  {
   "cell_type": "markdown",
   "metadata": {},
   "source": [
    "In the top 50 predicted toxic response tweets, 10% of them were deleted."
   ]
  },
  {
   "cell_type": "code",
   "execution_count": 65,
   "metadata": {},
   "outputs": [
    {
     "data": {
      "text/plain": [
       "884"
      ]
     },
     "execution_count": 65,
     "metadata": {},
     "output_type": "execute_result"
    }
   ],
   "source": [
    "response_tweets_df['WasDeleted'].values.sum()"
   ]
  },
  {
   "cell_type": "markdown",
   "metadata": {},
   "source": [
    "By contrast, in the bottom 50 predicted toxic response tweets, 2% of them were deleted."
   ]
  },
  {
   "cell_type": "code",
   "execution_count": 59,
   "metadata": {},
   "outputs": [
    {
     "data": {
      "text/plain": [
       "0.035"
      ]
     },
     "execution_count": 59,
     "metadata": {},
     "output_type": "execute_result"
    }
   ],
   "source": [
    "response_tweets_df.tail(200)['WasDeleted'].values.sum()/200"
   ]
  },
  {
   "cell_type": "markdown",
   "metadata": {},
   "source": [
    "There are a lot of tweets with pornographic content that are getting deleted..."
   ]
  },
  {
   "cell_type": "code",
   "execution_count": 43,
   "metadata": {},
   "outputs": [
    {
     "data": {
      "text/html": [
       "<div>\n",
       "<style scoped>\n",
       "    .dataframe tbody tr th:only-of-type {\n",
       "        vertical-align: middle;\n",
       "    }\n",
       "\n",
       "    .dataframe tbody tr th {\n",
       "        vertical-align: top;\n",
       "    }\n",
       "\n",
       "    .dataframe thead th {\n",
       "        text-align: right;\n",
       "    }\n",
       "</style>\n",
       "<table border=\"1\" class=\"dataframe\">\n",
       "  <thead>\n",
       "    <tr style=\"text-align: right;\">\n",
       "      <th></th>\n",
       "      <th>Index</th>\n",
       "      <th>TweetID</th>\n",
       "      <th>ScreenName</th>\n",
       "      <th>TweetText</th>\n",
       "      <th>TweetDateTime</th>\n",
       "      <th>Followers</th>\n",
       "      <th>UserID</th>\n",
       "      <th>WasDeleted</th>\n",
       "      <th>ToxicityProba</th>\n",
       "      <th>ToxicityProba2</th>\n",
       "      <th>IsResponseTweet</th>\n",
       "    </tr>\n",
       "  </thead>\n",
       "  <tbody>\n",
       "    <tr>\n",
       "      <td>115</td>\n",
       "      <td>115</td>\n",
       "      <td>1244721424310337548</td>\n",
       "      <td>daishajohnson__</td>\n",
       "      <td>b'@orixh74 Bitch fuck you , you dirty bitch ..'</td>\n",
       "      <td>2020-03-30 20:21:28</td>\n",
       "      <td>389</td>\n",
       "      <td>2761430503</td>\n",
       "      <td>1</td>\n",
       "      <td>0.979456</td>\n",
       "      <td>0.657970</td>\n",
       "      <td>True</td>\n",
       "    </tr>\n",
       "    <tr>\n",
       "      <td>18614</td>\n",
       "      <td>18614</td>\n",
       "      <td>1244733710878023681</td>\n",
       "      <td>JDonyelll</td>\n",
       "      <td>b'Ahhhhhh fuck u &amp;amp; ya family bitch \\xf0\\x9...</td>\n",
       "      <td>2020-03-30 21:10:17</td>\n",
       "      <td>2132</td>\n",
       "      <td>988945851123949568</td>\n",
       "      <td>1</td>\n",
       "      <td>0.803055</td>\n",
       "      <td>0.655179</td>\n",
       "      <td>False</td>\n",
       "    </tr>\n",
       "    <tr>\n",
       "      <td>14329</td>\n",
       "      <td>14329</td>\n",
       "      <td>1244731262394339329</td>\n",
       "      <td>MaurizioJackson</td>\n",
       "      <td>b'\"Bitch stolen my ideas\"\\n\\n\"Bitch stolen my ...</td>\n",
       "      <td>2020-03-30 21:00:33</td>\n",
       "      <td>6</td>\n",
       "      <td>1225818290888593409</td>\n",
       "      <td>1</td>\n",
       "      <td>0.415868</td>\n",
       "      <td>0.626700</td>\n",
       "      <td>False</td>\n",
       "    </tr>\n",
       "    <tr>\n",
       "      <td>2538</td>\n",
       "      <td>2538</td>\n",
       "      <td>1244723475618521088</td>\n",
       "      <td>BuuToxic</td>\n",
       "      <td>b'Real ass bitch give a fuck bout a nigga righ...</td>\n",
       "      <td>2020-03-30 20:29:37</td>\n",
       "      <td>9</td>\n",
       "      <td>1242721831729029126</td>\n",
       "      <td>1</td>\n",
       "      <td>0.835329</td>\n",
       "      <td>0.599323</td>\n",
       "      <td>False</td>\n",
       "    </tr>\n",
       "    <tr>\n",
       "      <td>20967</td>\n",
       "      <td>20967</td>\n",
       "      <td>1244735061972463617</td>\n",
       "      <td>yoongartt</td>\n",
       "      <td>b'@sarazorzii fuck you bitch??'</td>\n",
       "      <td>2020-03-30 21:15:39</td>\n",
       "      <td>2812</td>\n",
       "      <td>1212415457535201280</td>\n",
       "      <td>1</td>\n",
       "      <td>0.987526</td>\n",
       "      <td>0.596533</td>\n",
       "      <td>True</td>\n",
       "    </tr>\n",
       "  </tbody>\n",
       "</table>\n",
       "</div>"
      ],
      "text/plain": [
       "       Index              TweetID       ScreenName  \\\n",
       "115      115  1244721424310337548  daishajohnson__   \n",
       "18614  18614  1244733710878023681        JDonyelll   \n",
       "14329  14329  1244731262394339329  MaurizioJackson   \n",
       "2538    2538  1244723475618521088         BuuToxic   \n",
       "20967  20967  1244735061972463617        yoongartt   \n",
       "\n",
       "                                               TweetText        TweetDateTime  \\\n",
       "115      b'@orixh74 Bitch fuck you , you dirty bitch ..'  2020-03-30 20:21:28   \n",
       "18614  b'Ahhhhhh fuck u &amp; ya family bitch \\xf0\\x9...  2020-03-30 21:10:17   \n",
       "14329  b'\"Bitch stolen my ideas\"\\n\\n\"Bitch stolen my ...  2020-03-30 21:00:33   \n",
       "2538   b'Real ass bitch give a fuck bout a nigga righ...  2020-03-30 20:29:37   \n",
       "20967                    b'@sarazorzii fuck you bitch??'  2020-03-30 21:15:39   \n",
       "\n",
       "       Followers               UserID  WasDeleted  ToxicityProba  \\\n",
       "115          389           2761430503           1       0.979456   \n",
       "18614       2132   988945851123949568           1       0.803055   \n",
       "14329          6  1225818290888593409           1       0.415868   \n",
       "2538           9  1242721831729029126           1       0.835329   \n",
       "20967       2812  1212415457535201280           1       0.987526   \n",
       "\n",
       "       ToxicityProba2  IsResponseTweet  \n",
       "115          0.657970             True  \n",
       "18614        0.655179            False  \n",
       "14329        0.626700            False  \n",
       "2538         0.599323            False  \n",
       "20967        0.596533             True  "
      ]
     },
     "execution_count": 43,
     "metadata": {},
     "output_type": "execute_result"
    }
   ],
   "source": [
    "twitter_df[twitter_df['WasDeleted']==1].head(5)"
   ]
  },
  {
   "cell_type": "code",
   "execution_count": 20,
   "metadata": {},
   "outputs": [
    {
     "data": {
      "text/plain": [
       "<matplotlib.axes._subplots.AxesSubplot at 0x7f9916788a90>"
      ]
     },
     "execution_count": 20,
     "metadata": {},
     "output_type": "execute_result"
    },
    {
     "data": {
      "image/png": "[encoded data removed]",
      "text/plain": [
       "<Figure size 432x288 with 1 Axes>"
      ]
     },
     "metadata": {
      "needs_background": "light"
     },
     "output_type": "display_data"
    }
   ],
   "source": [
    "twitter_df.plot.scatter(x='Followers',y='ToxicityProba')"
   ]
  },
  {
   "cell_type": "code",
   "execution_count": null,
   "metadata": {},
   "outputs": [],
   "source": []
  }
 ],
 "metadata": {
  "kernelspec": {
   "display_name": "Python 3",
   "language": "python",
   "name": "python3"
  },
  "language_info": {
   "codemirror_mode": {
    "name": "ipython",
    "version": 3
   },
   "file_extension": ".py",
   "mimetype": "text/x-python",
   "name": "python",
   "nbconvert_exporter": "python",
   "pygments_lexer": "ipython3",
   "version": "3.7.4"
  }
 },
 "nbformat": 4,
 "nbformat_minor": 4
}
