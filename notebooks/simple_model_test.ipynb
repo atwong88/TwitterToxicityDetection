{
 "cells": [
  {
   "cell_type": "code",
   "execution_count": 1,
   "metadata": {},
   "outputs": [],
   "source": [
    "from sklearn.naive_bayes import MultinomialNB\n",
    "from sklearn.pipeline import Pipeline\n",
    "from sklearn.feature_extraction.text import CountVectorizer\n",
    "from sklearn.feature_extraction.text import TfidfTransformer\n",
    "import pandas as pd\n",
    "import numpy as np\n",
    "%matplotlib inline"
   ]
  },
  {
   "cell_type": "code",
   "execution_count": 2,
   "metadata": {},
   "outputs": [],
   "source": [
    "text_clf = Pipeline([\n",
    "     ('vect', CountVectorizer()),\n",
    "     ('tfidf', TfidfTransformer()),\n",
    "     ('clf', MultinomialNB()),\n",
    "])"
   ]
  },
  {
   "cell_type": "code",
   "execution_count": 3,
   "metadata": {},
   "outputs": [],
   "source": [
    "df = pd.read_csv('data/train.csv')"
   ]
  },
  {
   "cell_type": "code",
   "execution_count": 4,
   "metadata": {},
   "outputs": [],
   "source": [
    "X = df['comment_text']\n",
    "y = df['toxic']"
   ]
  },
  {
   "cell_type": "code",
   "execution_count": 5,
   "metadata": {},
   "outputs": [
    {
     "data": {
      "text/plain": [
       "Pipeline(memory=None,\n",
       "         steps=[('vect',\n",
       "                 CountVectorizer(analyzer='word', binary=False,\n",
       "                                 decode_error='strict',\n",
       "                                 dtype=<class 'numpy.int64'>, encoding='utf-8',\n",
       "                                 input='content', lowercase=True, max_df=1.0,\n",
       "                                 max_features=None, min_df=1,\n",
       "                                 ngram_range=(1, 1), preprocessor=None,\n",
       "                                 stop_words=None, strip_accents=None,\n",
       "                                 token_pattern='(?u)\\\\b\\\\w\\\\w+\\\\b',\n",
       "                                 tokenizer=None, vocabulary=None)),\n",
       "                ('tfidf',\n",
       "                 TfidfTransformer(norm='l2', smooth_idf=True,\n",
       "                                  sublinear_tf=False, use_idf=True)),\n",
       "                ('clf',\n",
       "                 MultinomialNB(alpha=1.0, class_prior=None, fit_prior=True))],\n",
       "         verbose=False)"
      ]
     },
     "execution_count": 5,
     "metadata": {},
     "output_type": "execute_result"
    }
   ],
   "source": [
    "text_clf.fit(X,y)"
   ]
  },
  {
   "cell_type": "code",
   "execution_count": 6,
   "metadata": {},
   "outputs": [
    {
     "data": {
      "text/plain": [
       "array([1])"
      ]
     },
     "execution_count": 6,
     "metadata": {},
     "output_type": "execute_result"
    }
   ],
   "source": [
    "text_clf.predict(['you suck and I fucking hate you'])"
   ]
  },
  {
   "cell_type": "code",
   "execution_count": 7,
   "metadata": {},
   "outputs": [
    {
     "data": {
      "text/plain": [
       "array([[0.03838288, 0.96161712]])"
      ]
     },
     "execution_count": 7,
     "metadata": {},
     "output_type": "execute_result"
    }
   ],
   "source": [
    "text_clf.predict_proba(['you suck and I fucking hate you'])"
   ]
  },
  {
   "cell_type": "code",
   "execution_count": 8,
   "metadata": {},
   "outputs": [
    {
     "data": {
      "text/plain": [
       "array([[0.99748885, 0.00251115]])"
      ]
     },
     "execution_count": 8,
     "metadata": {},
     "output_type": "execute_result"
    }
   ],
   "source": [
    "text_clf.predict_proba(['that was great, thank you!'])"
   ]
  },
  {
   "cell_type": "code",
   "execution_count": 9,
   "metadata": {},
   "outputs": [
    {
     "data": {
      "text/plain": [
       "array([0])"
      ]
     },
     "execution_count": 9,
     "metadata": {},
     "output_type": "execute_result"
    }
   ],
   "source": [
    "text_clf.predict(['that was great, thank you!'])"
   ]
  },
  {
   "cell_type": "markdown",
   "metadata": {},
   "source": [
    "Test on sample twitter dataset"
   ]
  },
  {
   "cell_type": "code",
   "execution_count": 10,
   "metadata": {},
   "outputs": [
    {
     "data": {
      "text/html": [
       "<div>\n",
       "<style scoped>\n",
       "    .dataframe tbody tr th:only-of-type {\n",
       "        vertical-align: middle;\n",
       "    }\n",
       "\n",
       "    .dataframe tbody tr th {\n",
       "        vertical-align: top;\n",
       "    }\n",
       "\n",
       "    .dataframe thead th {\n",
       "        text-align: right;\n",
       "    }\n",
       "</style>\n",
       "<table border=\"1\" class=\"dataframe\">\n",
       "  <thead>\n",
       "    <tr style=\"text-align: right;\">\n",
       "      <th></th>\n",
       "      <th>Index</th>\n",
       "      <th>TweetID</th>\n",
       "      <th>ScreenName</th>\n",
       "      <th>TweetText</th>\n",
       "      <th>TweetDateTime</th>\n",
       "      <th>Followers</th>\n",
       "      <th>UserID</th>\n",
       "      <th>WasDeleted</th>\n",
       "    </tr>\n",
       "  </thead>\n",
       "  <tbody>\n",
       "    <tr>\n",
       "      <th>0</th>\n",
       "      <td>0</td>\n",
       "      <td>1244721273793646594</td>\n",
       "      <td>ShannePanne</td>\n",
       "      <td>b'Rhoa'</td>\n",
       "      <td>2020-03-30 20:20:52</td>\n",
       "      <td>287</td>\n",
       "      <td>990004076829200385</td>\n",
       "      <td>0</td>\n",
       "    </tr>\n",
       "    <tr>\n",
       "      <th>1</th>\n",
       "      <td>1</td>\n",
       "      <td>1244721275232301058</td>\n",
       "      <td>25_ShadesOfK</td>\n",
       "      <td>b'@HisTemp_TAYtion Lol I learned from that shi...</td>\n",
       "      <td>2020-03-30 20:20:52</td>\n",
       "      <td>1189</td>\n",
       "      <td>624244930</td>\n",
       "      <td>0</td>\n",
       "    </tr>\n",
       "    <tr>\n",
       "      <th>2</th>\n",
       "      <td>2</td>\n",
       "      <td>1244721275936878593</td>\n",
       "      <td>PlagueJesterSky</td>\n",
       "      <td>b'Trying to set up the stream and I keep getti...</td>\n",
       "      <td>2020-03-30 20:20:52</td>\n",
       "      <td>415</td>\n",
       "      <td>755613447702847488</td>\n",
       "      <td>0</td>\n",
       "    </tr>\n",
       "    <tr>\n",
       "      <th>3</th>\n",
       "      <td>3</td>\n",
       "      <td>1244721278650650624</td>\n",
       "      <td>spitbull1963</td>\n",
       "      <td>b'@EricksonReal @Ilhan And you can test as muc...</td>\n",
       "      <td>2020-03-30 20:20:53</td>\n",
       "      <td>16</td>\n",
       "      <td>47425986</td>\n",
       "      <td>0</td>\n",
       "    </tr>\n",
       "    <tr>\n",
       "      <th>4</th>\n",
       "      <td>4</td>\n",
       "      <td>1244721278931664896</td>\n",
       "      <td>kamanfrancis</td>\n",
       "      <td>b'Me taking notes for the future when I\\xe2\\x8...</td>\n",
       "      <td>2020-03-30 20:20:53</td>\n",
       "      <td>1928</td>\n",
       "      <td>269295980</td>\n",
       "      <td>0</td>\n",
       "    </tr>\n",
       "  </tbody>\n",
       "</table>\n",
       "</div>"
      ],
      "text/plain": [
       "   Index              TweetID       ScreenName  \\\n",
       "0      0  1244721273793646594      ShannePanne   \n",
       "1      1  1244721275232301058     25_ShadesOfK   \n",
       "2      2  1244721275936878593  PlagueJesterSky   \n",
       "3      3  1244721278650650624     spitbull1963   \n",
       "4      4  1244721278931664896     kamanfrancis   \n",
       "\n",
       "                                           TweetText        TweetDateTime  \\\n",
       "0                                            b'Rhoa'  2020-03-30 20:20:52   \n",
       "1  b'@HisTemp_TAYtion Lol I learned from that shi...  2020-03-30 20:20:52   \n",
       "2  b'Trying to set up the stream and I keep getti...  2020-03-30 20:20:52   \n",
       "3  b'@EricksonReal @Ilhan And you can test as muc...  2020-03-30 20:20:53   \n",
       "4  b'Me taking notes for the future when I\\xe2\\x8...  2020-03-30 20:20:53   \n",
       "\n",
       "   Followers              UserID  WasDeleted  \n",
       "0        287  990004076829200385           0  \n",
       "1       1189           624244930           0  \n",
       "2        415  755613447702847488           0  \n",
       "3         16            47425986           0  \n",
       "4       1928           269295980           0  "
      ]
     },
     "execution_count": 10,
     "metadata": {},
     "output_type": "execute_result"
    }
   ],
   "source": [
    "twitter_df = pd.read_csv('data/sample_with_label.csv')\n",
    "twitter_df.columns = ['Index','TweetID','ScreenName','TweetText','TweetDateTime','Followers','UserID','WasDeleted']\n",
    "twitter_df.head()\n"
   ]
  },
  {
   "cell_type": "code",
   "execution_count": 11,
   "metadata": {},
   "outputs": [],
   "source": [
    "twitter_df['ToxicityProba'] = text_clf.predict_proba(twitter_df['TweetText'])[:,1]"
   ]
  },
  {
   "cell_type": "code",
   "execution_count": 12,
   "metadata": {},
   "outputs": [
    {
     "data": {
      "text/html": [
       "<div>\n",
       "<style scoped>\n",
       "    .dataframe tbody tr th:only-of-type {\n",
       "        vertical-align: middle;\n",
       "    }\n",
       "\n",
       "    .dataframe tbody tr th {\n",
       "        vertical-align: top;\n",
       "    }\n",
       "\n",
       "    .dataframe thead th {\n",
       "        text-align: right;\n",
       "    }\n",
       "</style>\n",
       "<table border=\"1\" class=\"dataframe\">\n",
       "  <thead>\n",
       "    <tr style=\"text-align: right;\">\n",
       "      <th></th>\n",
       "      <th>Index</th>\n",
       "      <th>TweetID</th>\n",
       "      <th>ScreenName</th>\n",
       "      <th>TweetText</th>\n",
       "      <th>TweetDateTime</th>\n",
       "      <th>Followers</th>\n",
       "      <th>UserID</th>\n",
       "      <th>WasDeleted</th>\n",
       "      <th>ToxicityProba</th>\n",
       "    </tr>\n",
       "  </thead>\n",
       "  <tbody>\n",
       "    <tr>\n",
       "      <th>0</th>\n",
       "      <td>0</td>\n",
       "      <td>1244721273793646594</td>\n",
       "      <td>ShannePanne</td>\n",
       "      <td>b'Rhoa'</td>\n",
       "      <td>2020-03-30 20:20:52</td>\n",
       "      <td>287</td>\n",
       "      <td>990004076829200385</td>\n",
       "      <td>0</td>\n",
       "      <td>0.095844</td>\n",
       "    </tr>\n",
       "    <tr>\n",
       "      <th>1</th>\n",
       "      <td>1</td>\n",
       "      <td>1244721275232301058</td>\n",
       "      <td>25_ShadesOfK</td>\n",
       "      <td>b'@HisTemp_TAYtion Lol I learned from that shi...</td>\n",
       "      <td>2020-03-30 20:20:52</td>\n",
       "      <td>1189</td>\n",
       "      <td>624244930</td>\n",
       "      <td>0</td>\n",
       "      <td>0.175892</td>\n",
       "    </tr>\n",
       "    <tr>\n",
       "      <th>2</th>\n",
       "      <td>2</td>\n",
       "      <td>1244721275936878593</td>\n",
       "      <td>PlagueJesterSky</td>\n",
       "      <td>b'Trying to set up the stream and I keep getti...</td>\n",
       "      <td>2020-03-30 20:20:52</td>\n",
       "      <td>415</td>\n",
       "      <td>755613447702847488</td>\n",
       "      <td>0</td>\n",
       "      <td>0.001030</td>\n",
       "    </tr>\n",
       "    <tr>\n",
       "      <th>3</th>\n",
       "      <td>3</td>\n",
       "      <td>1244721278650650624</td>\n",
       "      <td>spitbull1963</td>\n",
       "      <td>b'@EricksonReal @Ilhan And you can test as muc...</td>\n",
       "      <td>2020-03-30 20:20:53</td>\n",
       "      <td>16</td>\n",
       "      <td>47425986</td>\n",
       "      <td>0</td>\n",
       "      <td>0.003514</td>\n",
       "    </tr>\n",
       "    <tr>\n",
       "      <th>4</th>\n",
       "      <td>4</td>\n",
       "      <td>1244721278931664896</td>\n",
       "      <td>kamanfrancis</td>\n",
       "      <td>b'Me taking notes for the future when I\\xe2\\x8...</td>\n",
       "      <td>2020-03-30 20:20:53</td>\n",
       "      <td>1928</td>\n",
       "      <td>269295980</td>\n",
       "      <td>0</td>\n",
       "      <td>0.004717</td>\n",
       "    </tr>\n",
       "    <tr>\n",
       "      <th>...</th>\n",
       "      <td>...</td>\n",
       "      <td>...</td>\n",
       "      <td>...</td>\n",
       "      <td>...</td>\n",
       "      <td>...</td>\n",
       "      <td>...</td>\n",
       "      <td>...</td>\n",
       "      <td>...</td>\n",
       "      <td>...</td>\n",
       "    </tr>\n",
       "    <tr>\n",
       "      <th>29444</th>\n",
       "      <td>29444</td>\n",
       "      <td>1244740153874223109</td>\n",
       "      <td>rSakirs</td>\n",
       "      <td>b'@Mertipekcix Ve bu ki\\xc5\\x9filerin \\xc3\\xa7...</td>\n",
       "      <td>2020-03-30 21:35:53</td>\n",
       "      <td>690</td>\n",
       "      <td>1238135533202702336</td>\n",
       "      <td>1</td>\n",
       "      <td>0.344168</td>\n",
       "    </tr>\n",
       "    <tr>\n",
       "      <th>29445</th>\n",
       "      <td>29445</td>\n",
       "      <td>1244740154981580800</td>\n",
       "      <td>lostboyale</td>\n",
       "      <td>b'Only the girls with onlyfans making bread rn...</td>\n",
       "      <td>2020-03-30 21:35:53</td>\n",
       "      <td>209</td>\n",
       "      <td>713132404454633472</td>\n",
       "      <td>0</td>\n",
       "      <td>0.017807</td>\n",
       "    </tr>\n",
       "    <tr>\n",
       "      <th>29446</th>\n",
       "      <td>29446</td>\n",
       "      <td>1244740160522076160</td>\n",
       "      <td>queensierra_rox</td>\n",
       "      <td>b'@ForlornJunkHeap @brujahistorica Serena shov...</td>\n",
       "      <td>2020-03-30 21:35:55</td>\n",
       "      <td>130</td>\n",
       "      <td>2828784699</td>\n",
       "      <td>0</td>\n",
       "      <td>0.036084</td>\n",
       "    </tr>\n",
       "    <tr>\n",
       "      <th>29447</th>\n",
       "      <td>29447</td>\n",
       "      <td>1244740161197543430</td>\n",
       "      <td>vrepitsash</td>\n",
       "      <td>b'@5SOS #ASK5SOS #5SOSCALM whos your favorite ...</td>\n",
       "      <td>2020-03-30 21:35:55</td>\n",
       "      <td>1794</td>\n",
       "      <td>2806244672</td>\n",
       "      <td>0</td>\n",
       "      <td>0.029545</td>\n",
       "    </tr>\n",
       "    <tr>\n",
       "      <th>29448</th>\n",
       "      <td>29448</td>\n",
       "      <td>1244740161646231552</td>\n",
       "      <td>steveanthat</td>\n",
       "      <td>b\"@zionone11 @torqueaboutit nothing will go do...</td>\n",
       "      <td>2020-03-30 21:35:55</td>\n",
       "      <td>5</td>\n",
       "      <td>1239680344284160000</td>\n",
       "      <td>0</td>\n",
       "      <td>0.030796</td>\n",
       "    </tr>\n",
       "  </tbody>\n",
       "</table>\n",
       "<p>29449 rows × 9 columns</p>\n",
       "</div>"
      ],
      "text/plain": [
       "       Index              TweetID       ScreenName  \\\n",
       "0          0  1244721273793646594      ShannePanne   \n",
       "1          1  1244721275232301058     25_ShadesOfK   \n",
       "2          2  1244721275936878593  PlagueJesterSky   \n",
       "3          3  1244721278650650624     spitbull1963   \n",
       "4          4  1244721278931664896     kamanfrancis   \n",
       "...      ...                  ...              ...   \n",
       "29444  29444  1244740153874223109          rSakirs   \n",
       "29445  29445  1244740154981580800       lostboyale   \n",
       "29446  29446  1244740160522076160  queensierra_rox   \n",
       "29447  29447  1244740161197543430       vrepitsash   \n",
       "29448  29448  1244740161646231552      steveanthat   \n",
       "\n",
       "                                               TweetText        TweetDateTime  \\\n",
       "0                                                b'Rhoa'  2020-03-30 20:20:52   \n",
       "1      b'@HisTemp_TAYtion Lol I learned from that shi...  2020-03-30 20:20:52   \n",
       "2      b'Trying to set up the stream and I keep getti...  2020-03-30 20:20:52   \n",
       "3      b'@EricksonReal @Ilhan And you can test as muc...  2020-03-30 20:20:53   \n",
       "4      b'Me taking notes for the future when I\\xe2\\x8...  2020-03-30 20:20:53   \n",
       "...                                                  ...                  ...   \n",
       "29444  b'@Mertipekcix Ve bu ki\\xc5\\x9filerin \\xc3\\xa7...  2020-03-30 21:35:53   \n",
       "29445  b'Only the girls with onlyfans making bread rn...  2020-03-30 21:35:53   \n",
       "29446  b'@ForlornJunkHeap @brujahistorica Serena shov...  2020-03-30 21:35:55   \n",
       "29447  b'@5SOS #ASK5SOS #5SOSCALM whos your favorite ...  2020-03-30 21:35:55   \n",
       "29448  b\"@zionone11 @torqueaboutit nothing will go do...  2020-03-30 21:35:55   \n",
       "\n",
       "       Followers               UserID  WasDeleted  ToxicityProba  \n",
       "0            287   990004076829200385           0       0.095844  \n",
       "1           1189            624244930           0       0.175892  \n",
       "2            415   755613447702847488           0       0.001030  \n",
       "3             16             47425986           0       0.003514  \n",
       "4           1928            269295980           0       0.004717  \n",
       "...          ...                  ...         ...            ...  \n",
       "29444        690  1238135533202702336           1       0.344168  \n",
       "29445        209   713132404454633472           0       0.017807  \n",
       "29446        130           2828784699           0       0.036084  \n",
       "29447       1794           2806244672           0       0.029545  \n",
       "29448          5  1239680344284160000           0       0.030796  \n",
       "\n",
       "[29449 rows x 9 columns]"
      ]
     },
     "execution_count": 12,
     "metadata": {},
     "output_type": "execute_result"
    }
   ],
   "source": [
    "twitter_df"
   ]
  },
  {
   "cell_type": "code",
   "execution_count": 13,
   "metadata": {},
   "outputs": [
    {
     "data": {
      "text/html": [
       "<div>\n",
       "<style scoped>\n",
       "    .dataframe tbody tr th:only-of-type {\n",
       "        vertical-align: middle;\n",
       "    }\n",
       "\n",
       "    .dataframe tbody tr th {\n",
       "        vertical-align: top;\n",
       "    }\n",
       "\n",
       "    .dataframe thead th {\n",
       "        text-align: right;\n",
       "    }\n",
       "</style>\n",
       "<table border=\"1\" class=\"dataframe\">\n",
       "  <thead>\n",
       "    <tr style=\"text-align: right;\">\n",
       "      <th></th>\n",
       "      <th>Index</th>\n",
       "      <th>TweetID</th>\n",
       "      <th>ScreenName</th>\n",
       "      <th>TweetText</th>\n",
       "      <th>TweetDateTime</th>\n",
       "      <th>Followers</th>\n",
       "      <th>UserID</th>\n",
       "      <th>WasDeleted</th>\n",
       "      <th>ToxicityProba</th>\n",
       "    </tr>\n",
       "  </thead>\n",
       "  <tbody>\n",
       "    <tr>\n",
       "      <th>7443</th>\n",
       "      <td>7443</td>\n",
       "      <td>1244726683850211330</td>\n",
       "      <td>USAUncleBob</td>\n",
       "      <td>b'Fuck the Fucking Fucker!'</td>\n",
       "      <td>2020-03-30 20:42:21</td>\n",
       "      <td>87</td>\n",
       "      <td>1046826822506352640</td>\n",
       "      <td>0</td>\n",
       "      <td>0.997731</td>\n",
       "    </tr>\n",
       "    <tr>\n",
       "      <th>27778</th>\n",
       "      <td>27778</td>\n",
       "      <td>1244739124877115393</td>\n",
       "      <td>yaoibkg</td>\n",
       "      <td>b'FUCK SHIT BITCH !'</td>\n",
       "      <td>2020-03-30 21:31:48</td>\n",
       "      <td>270</td>\n",
       "      <td>1209234454226427905</td>\n",
       "      <td>0</td>\n",
       "      <td>0.995917</td>\n",
       "    </tr>\n",
       "    <tr>\n",
       "      <th>17205</th>\n",
       "      <td>17205</td>\n",
       "      <td>1244732947699294208</td>\n",
       "      <td>fanaticalgreed</td>\n",
       "      <td>b'\\xe3\\x85\\xa4\\xe2\\xa0\\x80\\xe2\\x9d\\x9b Fuck Fu...</td>\n",
       "      <td>2020-03-30 21:07:15</td>\n",
       "      <td>66</td>\n",
       "      <td>3084573958</td>\n",
       "      <td>0</td>\n",
       "      <td>0.995611</td>\n",
       "    </tr>\n",
       "    <tr>\n",
       "      <th>23386</th>\n",
       "      <td>23386</td>\n",
       "      <td>1244736489113751555</td>\n",
       "      <td>nak__77</td>\n",
       "      <td>b'@Anath0ng fuck charloss bitch ass'</td>\n",
       "      <td>2020-03-30 21:21:19</td>\n",
       "      <td>52</td>\n",
       "      <td>2235653056</td>\n",
       "      <td>0</td>\n",
       "      <td>0.995366</td>\n",
       "    </tr>\n",
       "    <tr>\n",
       "      <th>27931</th>\n",
       "      <td>27931</td>\n",
       "      <td>1244739214094319620</td>\n",
       "      <td>DarkSaraf</td>\n",
       "      <td>b'Fav and i show u my cock!\\n#sugarbaby #sugar...</td>\n",
       "      <td>2020-03-30 21:32:09</td>\n",
       "      <td>7</td>\n",
       "      <td>1242905708380794880</td>\n",
       "      <td>0</td>\n",
       "      <td>0.995309</td>\n",
       "    </tr>\n",
       "    <tr>\n",
       "      <th>2639</th>\n",
       "      <td>2639</td>\n",
       "      <td>1244723539732770822</td>\n",
       "      <td>SamWebster1962</td>\n",
       "      <td>b'@seanhannity SHUT THE FUCK UP YOU STUPID FAT...</td>\n",
       "      <td>2020-03-30 20:29:52</td>\n",
       "      <td>101</td>\n",
       "      <td>1199098260964724736</td>\n",
       "      <td>0</td>\n",
       "      <td>0.994155</td>\n",
       "    </tr>\n",
       "    <tr>\n",
       "      <th>4959</th>\n",
       "      <td>4959</td>\n",
       "      <td>1244725028568076289</td>\n",
       "      <td>ArtistBetty</td>\n",
       "      <td>b'@GraysinAurora Fuck you skank ass whore fuck...</td>\n",
       "      <td>2020-03-30 20:35:47</td>\n",
       "      <td>0</td>\n",
       "      <td>1244364905647661058</td>\n",
       "      <td>0</td>\n",
       "      <td>0.993466</td>\n",
       "    </tr>\n",
       "    <tr>\n",
       "      <th>2167</th>\n",
       "      <td>2167</td>\n",
       "      <td>1244723229643677696</td>\n",
       "      <td>xyzodd</td>\n",
       "      <td>b'@certifiedjkwife go suck a donkey cock fuck ...</td>\n",
       "      <td>2020-03-30 20:28:38</td>\n",
       "      <td>68</td>\n",
       "      <td>1228618707531747329</td>\n",
       "      <td>0</td>\n",
       "      <td>0.992687</td>\n",
       "    </tr>\n",
       "    <tr>\n",
       "      <th>18776</th>\n",
       "      <td>18776</td>\n",
       "      <td>1244733812422127617</td>\n",
       "      <td>aribigd</td>\n",
       "      <td>b'if you\\xe2\\x80\\x99re bored and horny and wan...</td>\n",
       "      <td>2020-03-30 21:10:41</td>\n",
       "      <td>159</td>\n",
       "      <td>1059172170201513984</td>\n",
       "      <td>1</td>\n",
       "      <td>0.992287</td>\n",
       "    </tr>\n",
       "    <tr>\n",
       "      <th>5621</th>\n",
       "      <td>5621</td>\n",
       "      <td>1244725479598370821</td>\n",
       "      <td>aribigd</td>\n",
       "      <td>b'if you\\xe2\\x80\\x99re bored and horny and wan...</td>\n",
       "      <td>2020-03-30 20:37:34</td>\n",
       "      <td>158</td>\n",
       "      <td>1059172170201513984</td>\n",
       "      <td>1</td>\n",
       "      <td>0.992287</td>\n",
       "    </tr>\n",
       "  </tbody>\n",
       "</table>\n",
       "</div>"
      ],
      "text/plain": [
       "       Index              TweetID      ScreenName  \\\n",
       "7443    7443  1244726683850211330     USAUncleBob   \n",
       "27778  27778  1244739124877115393         yaoibkg   \n",
       "17205  17205  1244732947699294208  fanaticalgreed   \n",
       "23386  23386  1244736489113751555         nak__77   \n",
       "27931  27931  1244739214094319620       DarkSaraf   \n",
       "2639    2639  1244723539732770822  SamWebster1962   \n",
       "4959    4959  1244725028568076289     ArtistBetty   \n",
       "2167    2167  1244723229643677696          xyzodd   \n",
       "18776  18776  1244733812422127617         aribigd   \n",
       "5621    5621  1244725479598370821         aribigd   \n",
       "\n",
       "                                               TweetText        TweetDateTime  \\\n",
       "7443                         b'Fuck the Fucking Fucker!'  2020-03-30 20:42:21   \n",
       "27778                               b'FUCK SHIT BITCH !'  2020-03-30 21:31:48   \n",
       "17205  b'\\xe3\\x85\\xa4\\xe2\\xa0\\x80\\xe2\\x9d\\x9b Fuck Fu...  2020-03-30 21:07:15   \n",
       "23386               b'@Anath0ng fuck charloss bitch ass'  2020-03-30 21:21:19   \n",
       "27931  b'Fav and i show u my cock!\\n#sugarbaby #sugar...  2020-03-30 21:32:09   \n",
       "2639   b'@seanhannity SHUT THE FUCK UP YOU STUPID FAT...  2020-03-30 20:29:52   \n",
       "4959   b'@GraysinAurora Fuck you skank ass whore fuck...  2020-03-30 20:35:47   \n",
       "2167   b'@certifiedjkwife go suck a donkey cock fuck ...  2020-03-30 20:28:38   \n",
       "18776  b'if you\\xe2\\x80\\x99re bored and horny and wan...  2020-03-30 21:10:41   \n",
       "5621   b'if you\\xe2\\x80\\x99re bored and horny and wan...  2020-03-30 20:37:34   \n",
       "\n",
       "       Followers               UserID  WasDeleted  ToxicityProba  \n",
       "7443          87  1046826822506352640           0       0.997731  \n",
       "27778        270  1209234454226427905           0       0.995917  \n",
       "17205         66           3084573958           0       0.995611  \n",
       "23386         52           2235653056           0       0.995366  \n",
       "27931          7  1242905708380794880           0       0.995309  \n",
       "2639         101  1199098260964724736           0       0.994155  \n",
       "4959           0  1244364905647661058           0       0.993466  \n",
       "2167          68  1228618707531747329           0       0.992687  \n",
       "18776        159  1059172170201513984           1       0.992287  \n",
       "5621         158  1059172170201513984           1       0.992287  "
      ]
     },
     "execution_count": 13,
     "metadata": {},
     "output_type": "execute_result"
    }
   ],
   "source": [
    "twitter_df = twitter_df.sort_values(by=['ToxicityProba'],ascending=False)\n",
    "twitter_df.head(10)\n"
   ]
  },
  {
   "cell_type": "code",
   "execution_count": 14,
   "metadata": {},
   "outputs": [],
   "source": [
    "def is_response_tweet(tweet):\n",
    "    return '@' in tweet"
   ]
  },
  {
   "cell_type": "code",
   "execution_count": 15,
   "metadata": {},
   "outputs": [],
   "source": [
    "twitter_df['IsResponseTweet'] = twitter_df['TweetText'].apply(is_response_tweet)"
   ]
  },
  {
   "cell_type": "code",
   "execution_count": 16,
   "metadata": {},
   "outputs": [],
   "source": [
    "response_tweets_df = twitter_df[twitter_df['IsResponseTweet']]"
   ]
  },
  {
   "cell_type": "markdown",
   "metadata": {},
   "source": [
    "In the top 50 predicted toxic response tweets, 10% of them were deleted."
   ]
  },
  {
   "cell_type": "code",
   "execution_count": 17,
   "metadata": {},
   "outputs": [
    {
     "data": {
      "text/plain": [
       "0.1"
      ]
     },
     "execution_count": 17,
     "metadata": {},
     "output_type": "execute_result"
    }
   ],
   "source": [
    "response_tweets_df.head(50)['WasDeleted'].values.sum()/50"
   ]
  },
  {
   "cell_type": "markdown",
   "metadata": {},
   "source": [
    "By contrast, in the bottom 50 predicted toxic response tweets, 2% of them were deleted."
   ]
  },
  {
   "cell_type": "code",
   "execution_count": 18,
   "metadata": {},
   "outputs": [
    {
     "data": {
      "text/plain": [
       "0.02"
      ]
     },
     "execution_count": 18,
     "metadata": {},
     "output_type": "execute_result"
    }
   ],
   "source": [
    "response_tweets_df.tail(50)['WasDeleted'].values.sum()/50"
   ]
  },
  {
   "cell_type": "markdown",
   "metadata": {},
   "source": [
    "There are a lot of tweets with pornographic content that are getting deleted..."
   ]
  },
  {
   "cell_type": "code",
   "execution_count": 21,
   "metadata": {},
   "outputs": [
    {
     "data": {
      "text/html": [
       "<div>\n",
       "<style scoped>\n",
       "    .dataframe tbody tr th:only-of-type {\n",
       "        vertical-align: middle;\n",
       "    }\n",
       "\n",
       "    .dataframe tbody tr th {\n",
       "        vertical-align: top;\n",
       "    }\n",
       "\n",
       "    .dataframe thead th {\n",
       "        text-align: right;\n",
       "    }\n",
       "</style>\n",
       "<table border=\"1\" class=\"dataframe\">\n",
       "  <thead>\n",
       "    <tr style=\"text-align: right;\">\n",
       "      <th></th>\n",
       "      <th>Index</th>\n",
       "      <th>TweetID</th>\n",
       "      <th>ScreenName</th>\n",
       "      <th>TweetText</th>\n",
       "      <th>TweetDateTime</th>\n",
       "      <th>Followers</th>\n",
       "      <th>UserID</th>\n",
       "      <th>WasDeleted</th>\n",
       "      <th>ToxicityProba</th>\n",
       "      <th>IsResponseTweet</th>\n",
       "    </tr>\n",
       "  </thead>\n",
       "  <tbody>\n",
       "    <tr>\n",
       "      <th>18776</th>\n",
       "      <td>18776</td>\n",
       "      <td>1244733812422127617</td>\n",
       "      <td>aribigd</td>\n",
       "      <td>b'if you\\xe2\\x80\\x99re bored and horny and wan...</td>\n",
       "      <td>2020-03-30 21:10:41</td>\n",
       "      <td>159</td>\n",
       "      <td>1059172170201513984</td>\n",
       "      <td>1</td>\n",
       "      <td>0.992287</td>\n",
       "      <td>False</td>\n",
       "    </tr>\n",
       "    <tr>\n",
       "      <th>5621</th>\n",
       "      <td>5621</td>\n",
       "      <td>1244725479598370821</td>\n",
       "      <td>aribigd</td>\n",
       "      <td>b'if you\\xe2\\x80\\x99re bored and horny and wan...</td>\n",
       "      <td>2020-03-30 20:37:34</td>\n",
       "      <td>158</td>\n",
       "      <td>1059172170201513984</td>\n",
       "      <td>1</td>\n",
       "      <td>0.992287</td>\n",
       "      <td>False</td>\n",
       "    </tr>\n",
       "    <tr>\n",
       "      <th>15609</th>\n",
       "      <td>15609</td>\n",
       "      <td>1244732039766708229</td>\n",
       "      <td>aribigd</td>\n",
       "      <td>b'if you\\xe2\\x80\\x99re bored and horny and wan...</td>\n",
       "      <td>2020-03-30 21:03:38</td>\n",
       "      <td>158</td>\n",
       "      <td>1059172170201513984</td>\n",
       "      <td>1</td>\n",
       "      <td>0.992287</td>\n",
       "      <td>False</td>\n",
       "    </tr>\n",
       "    <tr>\n",
       "      <th>159</th>\n",
       "      <td>159</td>\n",
       "      <td>1244721468715532295</td>\n",
       "      <td>aribigd</td>\n",
       "      <td>b'if you\\xe2\\x80\\x99re bored and horny and wan...</td>\n",
       "      <td>2020-03-30 20:21:38</td>\n",
       "      <td>158</td>\n",
       "      <td>1059172170201513984</td>\n",
       "      <td>1</td>\n",
       "      <td>0.991120</td>\n",
       "      <td>False</td>\n",
       "    </tr>\n",
       "    <tr>\n",
       "      <th>9330</th>\n",
       "      <td>9330</td>\n",
       "      <td>1244727924684718080</td>\n",
       "      <td>aribigd</td>\n",
       "      <td>b'if you\\xe2\\x80\\x99re bored and horny and wan...</td>\n",
       "      <td>2020-03-30 20:47:17</td>\n",
       "      <td>158</td>\n",
       "      <td>1059172170201513984</td>\n",
       "      <td>1</td>\n",
       "      <td>0.991120</td>\n",
       "      <td>False</td>\n",
       "    </tr>\n",
       "  </tbody>\n",
       "</table>\n",
       "</div>"
      ],
      "text/plain": [
       "       Index              TweetID ScreenName  \\\n",
       "18776  18776  1244733812422127617    aribigd   \n",
       "5621    5621  1244725479598370821    aribigd   \n",
       "15609  15609  1244732039766708229    aribigd   \n",
       "159      159  1244721468715532295    aribigd   \n",
       "9330    9330  1244727924684718080    aribigd   \n",
       "\n",
       "                                               TweetText        TweetDateTime  \\\n",
       "18776  b'if you\\xe2\\x80\\x99re bored and horny and wan...  2020-03-30 21:10:41   \n",
       "5621   b'if you\\xe2\\x80\\x99re bored and horny and wan...  2020-03-30 20:37:34   \n",
       "15609  b'if you\\xe2\\x80\\x99re bored and horny and wan...  2020-03-30 21:03:38   \n",
       "159    b'if you\\xe2\\x80\\x99re bored and horny and wan...  2020-03-30 20:21:38   \n",
       "9330   b'if you\\xe2\\x80\\x99re bored and horny and wan...  2020-03-30 20:47:17   \n",
       "\n",
       "       Followers               UserID  WasDeleted  ToxicityProba  \\\n",
       "18776        159  1059172170201513984           1       0.992287   \n",
       "5621         158  1059172170201513984           1       0.992287   \n",
       "15609        158  1059172170201513984           1       0.992287   \n",
       "159          158  1059172170201513984           1       0.991120   \n",
       "9330         158  1059172170201513984           1       0.991120   \n",
       "\n",
       "       IsResponseTweet  \n",
       "18776            False  \n",
       "5621             False  \n",
       "15609            False  \n",
       "159              False  \n",
       "9330             False  "
      ]
     },
     "execution_count": 21,
     "metadata": {},
     "output_type": "execute_result"
    }
   ],
   "source": [
    "twitter_df[twitter_df['WasDeleted']==1].head(5)"
   ]
  },
  {
   "cell_type": "code",
   "execution_count": 20,
   "metadata": {},
   "outputs": [
    {
     "data": {
      "text/plain": [
       "<matplotlib.axes._subplots.AxesSubplot at 0x7f9916788a90>"
      ]
     },
     "execution_count": 20,
     "metadata": {},
     "output_type": "execute_result"
    },
    {
     "data": {
      "image/png": "[encoded data removed]",
      "text/plain": [
       "<Figure size 432x288 with 1 Axes>"
      ]
     },
     "metadata": {
      "needs_background": "light"
     },
     "output_type": "display_data"
    }
   ],
   "source": [
    "twitter_df.plot.scatter(x='Followers',y='ToxicityProba')"
   ]
  },
  {
   "cell_type": "code",
   "execution_count": null,
   "metadata": {},
   "outputs": [],
   "source": []
  }
 ],
 "metadata": {
  "kernelspec": {
   "display_name": "Python 3",
   "language": "python",
   "name": "python3"
  },
  "language_info": {
   "codemirror_mode": {
    "name": "ipython",
    "version": 3
   },
   "file_extension": ".py",
   "mimetype": "text/x-python",
   "name": "python",
   "nbconvert_exporter": "python",
   "pygments_lexer": "ipython3",
   "version": "3.7.3"
  }
 },
 "nbformat": 4,
 "nbformat_minor": 4
}
