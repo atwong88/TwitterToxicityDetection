{
 "cells": [
  {
   "cell_type": "code",
   "execution_count": 11,
   "metadata": {},
   "outputs": [],
   "source": [
    "import numpy as np\n",
    "import pandas as pd\n",
    "\n",
    "from sklearn.model_selection import train_test_split\n",
    "from sklearn.metrics import roc_auc_score\n",
    "\n",
    "from tensorflow.python.keras.models import Model\n",
    "from tensorflow.python.keras.layers import Input, Dense, Embedding, SpatialDropout1D, Dropout, concatenate\n",
    "from tensorflow.python.keras.layers import GRU, LSTM, Bidirectional, GlobalAveragePooling1D, GlobalMaxPooling1D\n",
    "from tensorflow.python.keras.preprocessing import text, sequence\n",
    "from tensorflow.python.keras.callbacks import Callback, ModelCheckpoint\n",
    "from tensorflow.python.util import deprecation\n",
    "\n",
    "deprecation._PRINT_DEPRECATION_WARNINGS = False\n",
    "pd.options.mode.chained_assignment = None"
   ]
  },
  {
   "cell_type": "code",
   "execution_count": 18,
   "metadata": {},
   "outputs": [],
   "source": [
    "train = pd.read_csv('data/toxic_train.csv')\n",
    "test = pd.read_csv('data/toxic_test.csv')\n",
    "X_train = train[\"comment_text\"].fillna(\"fillna\").values\n",
    "X_test = test[\"comment_text\"].fillna(\"fillna\").values\n",
    "y_train = train[[\"toxic\"]].values\n",
    "\n",
    "twitter_df = pd.read_csv('data/sample_with_label.csv')\n",
    "twitter_text = twitter_df[\"TweetText\"].fillna(\"fillna\").values\n",
    "twitter_y = twitter_df[\"WasDeleted\"].fillna(\"fillna\").values"
   ]
  },
  {
   "cell_type": "code",
   "execution_count": 19,
   "metadata": {},
   "outputs": [],
   "source": [
    "# Tokenization of input, takes about a minute\n",
    "max_features = 30000\n",
    "maxlen = 100\n",
    "embed_size = 300\n",
    "tokenizer = text.Tokenizer(num_words=max_features)\n",
    "tokenizer.fit_on_texts(list(X_train)+list(X_test)+list(twitter_text))\n",
    "\n",
    "X_train = tokenizer.texts_to_sequences(X_train)\n",
    "X_test = tokenizer.texts_to_sequences(X_test)\n",
    "x_train = sequence.pad_sequences(X_train, maxlen=maxlen)\n",
    "x_test = sequence.pad_sequences(X_test, maxlen=maxlen)\n",
    "\n",
    "twitter_tokenized = sequence.pad_sequences(tokenizer.texts_to_sequences(twitter_text), maxlen=maxlen)"
   ]
  },
  {
   "cell_type": "code",
   "execution_count": 22,
   "metadata": {
    "scrolled": false
   },
   "outputs": [
    {
     "name": "stdout",
     "output_type": "stream",
     "text": [
      "101037/101037 [==============================] - 25s 249us/sample\n",
      "Top 500 deletion rate: 0.552\n",
      "Bottom 500 deletion rate: 0.04\n"
     ]
    }
   ],
   "source": [
    "#Performance on twitter dataset\n",
    "from tensorflow.keras.models import load_model\n",
    "\n",
    "model = load_model(\"data/models/model_twitter_only.h5\")\n",
    "#model = load_model(\"data/models/model_wiki_only.h5\")\n",
    "#model = load_model(\"data/models/model_wiki_and_twitter.h5\")\n",
    "\n",
    "tw_train_df, tw_test_df, twy_train, twy_test = train_test_split(twitter_df, twitter_y, test_size=0.25, random_state=42)\n",
    "tw_train, tw_val, twy_train, twy_val = train_test_split(twitter_tokenized, twitter_y, test_size=0.25, random_state=42)\n",
    "\n",
    "def is_response_tweet(tweet):\n",
    "    return '@' in tweet\n",
    "\n",
    "tw_test_df['IsResponseTweet'] = tw_test_df['TweetText'].apply(is_response_tweet)\n",
    "tw_test_df['ToxicityProba'] = model.predict(tw_val, verbose=1, batch_size=1024)\n",
    "tw_test_df = tw_test_df.sort_values(by=['ToxicityProba'],ascending=False)\n",
    "response_tweets_df = tw_test_df[tw_test_df['IsResponseTweet']]\n",
    "print('Top 500 deletion rate:', response_tweets_df.head(500)['WasDeleted'].values.sum()/500)\n",
    "print('Bottom 500 deletion rate:', response_tweets_df.tail(500)['WasDeleted'].values.sum()/500)"
   ]
  },
  {
   "cell_type": "code",
   "execution_count": null,
   "metadata": {},
   "outputs": [],
   "source": []
  }
 ],
 "metadata": {
  "kernelspec": {
   "display_name": "Python 3",
   "language": "python",
   "name": "python3"
  },
  "language_info": {
   "codemirror_mode": {
    "name": "ipython",
    "version": 3
   },
   "file_extension": ".py",
   "mimetype": "text/x-python",
   "name": "python",
   "nbconvert_exporter": "python",
   "pygments_lexer": "ipython3",
   "version": "3.6.7"
  }
 },
 "nbformat": 4,
 "nbformat_minor": 2
}
