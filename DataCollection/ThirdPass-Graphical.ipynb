{
 "cells": [
  {
   "cell_type": "code",
   "execution_count": 1,
   "metadata": {},
   "outputs": [],
   "source": [
    "import tweepy\n",
    "import pandas as pd\n",
    "import time\n",
    "from tweepy import OAuthHandler\n",
    "consumer_key = '3T6YLgV51HOv8M1TaIoYTqNJ7'\n",
    "consumer_secret = 'TDxBAHpwZ8rKVko6dT96RB8iak9aKgVDUoLfr02M3lWHZ6sL9K'\n",
    "access_key = '188667470-hunlrSR3Dd4zpap331fT4a56w0TEl1JMMllFdpTT'\n",
    "access_secret = 'YK44l9JNDAgZwyFZUiqYMlHD4ZpLX0v07EujRjx6XGsoa'\n",
    "auth = OAuthHandler(consumer_key, consumer_secret)\n",
    "auth.set_access_token(access_key, access_secret)\n",
    "api = tweepy.API(auth)\n"
   ]
  },
  {
   "cell_type": "code",
   "execution_count": 2,
   "metadata": {},
   "outputs": [],
   "source": [
    "ids = []\n",
    "for page in tweepy.Cursor(api.followers_ids, screen_name=\"Matt_Canute\").pages():\n",
    "    ids.extend(page)\n"
   ]
  },
  {
   "cell_type": "code",
   "execution_count": null,
   "metadata": {},
   "outputs": [],
   "source": []
  },
  {
   "cell_type": "code",
   "execution_count": 3,
   "metadata": {},
   "outputs": [
    {
     "data": {
      "text/plain": [
       "[1224504680278982661,\n",
       " 15800085,\n",
       " 273095633,\n",
       " 1083328356911931392,\n",
       " 955268498732630016,\n",
       " 1596956676,\n",
       " 816502549599559680,\n",
       " 49413866,\n",
       " 2726489329,\n",
       " 196777955,\n",
       " 757896198,\n",
       " 21155839,\n",
       " 367586971,\n",
       " 188201971,\n",
       " 613286211,\n",
       " 188636658,\n",
       " 36883813,\n",
       " 70605162,\n",
       " 244234215,\n",
       " 262999185,\n",
       " 481819242,\n",
       " 427792957,\n",
       " 441585047,\n",
       " 327815890,\n",
       " 240408827,\n",
       " 188130209,\n",
       " 232440027,\n",
       " 42801512,\n",
       " 234564306,\n",
       " 93951899,\n",
       " 218708535,\n",
       " 27762348,\n",
       " 254439722,\n",
       " 307686541,\n",
       " 15281829,\n",
       " 188613022,\n",
       " 188448415,\n",
       " 73554872,\n",
       " 18520033,\n",
       " 139985183,\n",
       " 188207330,\n",
       " 188134396,\n",
       " 188622085,\n",
       " 188133764,\n",
       " 57086739,\n",
       " 188668408]"
      ]
     },
     "execution_count": 3,
     "metadata": {},
     "output_type": "execute_result"
    }
   ],
   "source": [
    "ids"
   ]
  },
  {
   "cell_type": "markdown",
   "metadata": {},
   "source": [
    "with this, I will build a graph from the twitter users collected from the stream, and find the louvain communities."
   ]
  }
 ],
 "metadata": {
  "kernelspec": {
   "display_name": "Python 3",
   "language": "python",
   "name": "python3"
  },
  "language_info": {
   "name": ""
  }
 },
 "nbformat": 4,
 "nbformat_minor": 4
}
